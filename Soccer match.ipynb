{
 "cells": [
  {
   "cell_type": "markdown",
   "metadata": {},
   "source": [
    "# Get the data"
   ]
  },
  {
   "cell_type": "code",
   "execution_count": 52,
   "metadata": {},
   "outputs": [],
   "source": [
    "import pandas as pd\n",
    "import sqlite3\n",
    "import numpy as np"
   ]
  },
  {
   "cell_type": "markdown",
   "metadata": {},
   "source": [
    "## Get the data from the sqlite database"
   ]
  },
  {
   "cell_type": "code",
   "execution_count": 2,
   "metadata": {},
   "outputs": [],
   "source": [
    "conn = sqlite3.connect('database.sqlite')\n",
    "cursor = conn.cursor()"
   ]
  },
  {
   "cell_type": "code",
   "execution_count": 6,
   "metadata": {},
   "outputs": [
    {
     "name": "stdout",
     "output_type": "stream",
     "text": [
      "[('sqlite_sequence',), ('Matches',), ('Teams_in_Matches',), ('Teams',), ('Unique_Teams',)]\n"
     ]
    }
   ],
   "source": [
    "cursor.execute(\"SELECT name from sqlite_master WHERE type = 'table'\")\n",
    "tables =cursor.fetchall()\n"
   ]
  },
  {
   "cell_type": "markdown",
   "metadata": {},
   "source": [
    "get all the tables  and create dataframes"
   ]
  },
  {
   "cell_type": "code",
   "execution_count": 17,
   "metadata": {},
   "outputs": [],
   "source": [
    "def get_pdframe(table):\n",
    "    cmd = \"SELECT * FROM {}\".format(table)\n",
    "#     print(cmd)\n",
    "    cursor.execute(cmd)\n",
    "    df = pd.DataFrame(cursor.fetchall())\n",
    "    df.columns = [i[0] for i in cursor.description]\n",
    "    return df"
   ]
  },
  {
   "cell_type": "code",
   "execution_count": 39,
   "metadata": {},
   "outputs": [],
   "source": [
    "sqlite_seq_df = get_pdframe(tables[0][0])\n",
    "matches_df = get_pdframe(tables[1][0])\n",
    "teams_in_matches_df = get_pdframe(tables[2][0])\n",
    "teams_df = get_pdframe(tables[3][0])\n",
    "unique_teams_df = get_pdframe(tables[4][0])"
   ]
  },
  {
   "cell_type": "markdown",
   "metadata": {},
   "source": [
    "### Lets inspect the dataframes"
   ]
  },
  {
   "cell_type": "code",
   "execution_count": 18,
   "metadata": {},
   "outputs": [
    {
     "data": {
      "text/html": [
       "<div>\n",
       "<style scoped>\n",
       "    .dataframe tbody tr th:only-of-type {\n",
       "        vertical-align: middle;\n",
       "    }\n",
       "\n",
       "    .dataframe tbody tr th {\n",
       "        vertical-align: top;\n",
       "    }\n",
       "\n",
       "    .dataframe thead th {\n",
       "        text-align: right;\n",
       "    }\n",
       "</style>\n",
       "<table border=\"1\" class=\"dataframe\">\n",
       "  <thead>\n",
       "    <tr style=\"text-align: right;\">\n",
       "      <th></th>\n",
       "      <th>name</th>\n",
       "      <th>seq</th>\n",
       "    </tr>\n",
       "  </thead>\n",
       "  <tbody>\n",
       "    <tr>\n",
       "      <th>0</th>\n",
       "      <td>Matches</td>\n",
       "      <td>46774</td>\n",
       "    </tr>\n",
       "    <tr>\n",
       "      <th>1</th>\n",
       "      <td>Unique_Teams</td>\n",
       "      <td>128</td>\n",
       "    </tr>\n",
       "  </tbody>\n",
       "</table>\n",
       "</div>"
      ],
      "text/plain": [
       "           name    seq\n",
       "0       Matches  46774\n",
       "1  Unique_Teams    128"
      ]
     },
     "execution_count": 18,
     "metadata": {},
     "output_type": "execute_result"
    }
   ],
   "source": [
    "sqlite_seq_df.head()"
   ]
  },
  {
   "cell_type": "code",
   "execution_count": 42,
   "metadata": {},
   "outputs": [],
   "source": [
    "matches_df = matches_df[matches_df.Season==2011];\n",
    "# teams_in_matches_df.head();"
   ]
  },
  {
   "cell_type": "code",
   "execution_count": 21,
   "metadata": {
    "scrolled": true
   },
   "outputs": [
    {
     "data": {
      "text/html": [
       "<div>\n",
       "<style scoped>\n",
       "    .dataframe tbody tr th:only-of-type {\n",
       "        vertical-align: middle;\n",
       "    }\n",
       "\n",
       "    .dataframe tbody tr th {\n",
       "        vertical-align: top;\n",
       "    }\n",
       "\n",
       "    .dataframe thead th {\n",
       "        text-align: right;\n",
       "    }\n",
       "</style>\n",
       "<table border=\"1\" class=\"dataframe\">\n",
       "  <thead>\n",
       "    <tr style=\"text-align: right;\">\n",
       "      <th></th>\n",
       "      <th>Season</th>\n",
       "      <th>TeamName</th>\n",
       "      <th>KaderHome</th>\n",
       "      <th>AvgAgeHome</th>\n",
       "      <th>ForeignPlayersHome</th>\n",
       "      <th>OverallMarketValueHome</th>\n",
       "      <th>AvgMarketValueHome</th>\n",
       "      <th>StadiumCapacity</th>\n",
       "    </tr>\n",
       "  </thead>\n",
       "  <tbody>\n",
       "    <tr>\n",
       "      <th>0</th>\n",
       "      <td>2017</td>\n",
       "      <td>Bayern Munich</td>\n",
       "      <td>27</td>\n",
       "      <td>26</td>\n",
       "      <td>15</td>\n",
       "      <td>597950000</td>\n",
       "      <td>22150000</td>\n",
       "      <td>75000</td>\n",
       "    </tr>\n",
       "    <tr>\n",
       "      <th>1</th>\n",
       "      <td>2017</td>\n",
       "      <td>Dortmund</td>\n",
       "      <td>33</td>\n",
       "      <td>25</td>\n",
       "      <td>18</td>\n",
       "      <td>416730000</td>\n",
       "      <td>12630000</td>\n",
       "      <td>81359</td>\n",
       "    </tr>\n",
       "    <tr>\n",
       "      <th>2</th>\n",
       "      <td>2017</td>\n",
       "      <td>Leverkusen</td>\n",
       "      <td>31</td>\n",
       "      <td>24</td>\n",
       "      <td>15</td>\n",
       "      <td>222600000</td>\n",
       "      <td>7180000</td>\n",
       "      <td>30210</td>\n",
       "    </tr>\n",
       "    <tr>\n",
       "      <th>3</th>\n",
       "      <td>2017</td>\n",
       "      <td>RB Leipzig</td>\n",
       "      <td>30</td>\n",
       "      <td>23</td>\n",
       "      <td>15</td>\n",
       "      <td>180130000</td>\n",
       "      <td>6000000</td>\n",
       "      <td>42959</td>\n",
       "    </tr>\n",
       "    <tr>\n",
       "      <th>4</th>\n",
       "      <td>2017</td>\n",
       "      <td>Schalke 04</td>\n",
       "      <td>29</td>\n",
       "      <td>24</td>\n",
       "      <td>17</td>\n",
       "      <td>179550000</td>\n",
       "      <td>6190000</td>\n",
       "      <td>62271</td>\n",
       "    </tr>\n",
       "  </tbody>\n",
       "</table>\n",
       "</div>"
      ],
      "text/plain": [
       "  Season       TeamName KaderHome AvgAgeHome ForeignPlayersHome  \\\n",
       "0   2017  Bayern Munich        27         26                 15   \n",
       "1   2017       Dortmund        33         25                 18   \n",
       "2   2017     Leverkusen        31         24                 15   \n",
       "3   2017     RB Leipzig        30         23                 15   \n",
       "4   2017     Schalke 04        29         24                 17   \n",
       "\n",
       "  OverallMarketValueHome AvgMarketValueHome StadiumCapacity  \n",
       "0              597950000           22150000           75000  \n",
       "1              416730000           12630000           81359  \n",
       "2              222600000            7180000           30210  \n",
       "3              180130000            6000000           42959  \n",
       "4              179550000            6190000           62271  "
      ]
     },
     "execution_count": 21,
     "metadata": {},
     "output_type": "execute_result"
    }
   ],
   "source": [
    "teams_df.head()"
   ]
  },
  {
   "cell_type": "code",
   "execution_count": 22,
   "metadata": {},
   "outputs": [
    {
     "data": {
      "text/html": [
       "<div>\n",
       "<style scoped>\n",
       "    .dataframe tbody tr th:only-of-type {\n",
       "        vertical-align: middle;\n",
       "    }\n",
       "\n",
       "    .dataframe tbody tr th {\n",
       "        vertical-align: top;\n",
       "    }\n",
       "\n",
       "    .dataframe thead th {\n",
       "        text-align: right;\n",
       "    }\n",
       "</style>\n",
       "<table border=\"1\" class=\"dataframe\">\n",
       "  <thead>\n",
       "    <tr style=\"text-align: right;\">\n",
       "      <th></th>\n",
       "      <th>TeamName</th>\n",
       "      <th>Unique_Team_ID</th>\n",
       "    </tr>\n",
       "  </thead>\n",
       "  <tbody>\n",
       "    <tr>\n",
       "      <th>0</th>\n",
       "      <td>Bayern Munich</td>\n",
       "      <td>1</td>\n",
       "    </tr>\n",
       "    <tr>\n",
       "      <th>1</th>\n",
       "      <td>Dortmund</td>\n",
       "      <td>2</td>\n",
       "    </tr>\n",
       "    <tr>\n",
       "      <th>2</th>\n",
       "      <td>Leverkusen</td>\n",
       "      <td>3</td>\n",
       "    </tr>\n",
       "    <tr>\n",
       "      <th>3</th>\n",
       "      <td>RB Leipzig</td>\n",
       "      <td>4</td>\n",
       "    </tr>\n",
       "    <tr>\n",
       "      <th>4</th>\n",
       "      <td>Schalke 04</td>\n",
       "      <td>5</td>\n",
       "    </tr>\n",
       "  </tbody>\n",
       "</table>\n",
       "</div>"
      ],
      "text/plain": [
       "        TeamName  Unique_Team_ID\n",
       "0  Bayern Munich               1\n",
       "1       Dortmund               2\n",
       "2     Leverkusen               3\n",
       "3     RB Leipzig               4\n",
       "4     Schalke 04               5"
      ]
     },
     "execution_count": 22,
     "metadata": {},
     "output_type": "execute_result"
    }
   ],
   "source": [
    "unique_teams_df.head()"
   ]
  },
  {
   "cell_type": "code",
   "execution_count": null,
   "metadata": {},
   "outputs": [],
   "source": []
  },
  {
   "cell_type": "markdown",
   "metadata": {},
   "source": [
    "Look for duplicates or NAs"
   ]
  },
  {
   "cell_type": "code",
   "execution_count": 43,
   "metadata": {},
   "outputs": [
    {
     "data": {
      "text/html": [
       "<div>\n",
       "<style scoped>\n",
       "    .dataframe tbody tr th:only-of-type {\n",
       "        vertical-align: middle;\n",
       "    }\n",
       "\n",
       "    .dataframe tbody tr th {\n",
       "        vertical-align: top;\n",
       "    }\n",
       "\n",
       "    .dataframe thead th {\n",
       "        text-align: right;\n",
       "    }\n",
       "</style>\n",
       "<table border=\"1\" class=\"dataframe\">\n",
       "  <thead>\n",
       "    <tr style=\"text-align: right;\">\n",
       "      <th></th>\n",
       "      <th>Match_ID</th>\n",
       "      <th>Div</th>\n",
       "      <th>Season</th>\n",
       "      <th>Date</th>\n",
       "      <th>HomeTeam</th>\n",
       "      <th>AwayTeam</th>\n",
       "      <th>FTHG</th>\n",
       "      <th>FTAG</th>\n",
       "      <th>FTR</th>\n",
       "    </tr>\n",
       "  </thead>\n",
       "  <tbody>\n",
       "    <tr>\n",
       "      <th>1091</th>\n",
       "      <td>1092</td>\n",
       "      <td>D1</td>\n",
       "      <td>2011</td>\n",
       "      <td>2012-03-31</td>\n",
       "      <td>Nurnberg</td>\n",
       "      <td>Bayern Munich</td>\n",
       "      <td>0</td>\n",
       "      <td>1</td>\n",
       "      <td>A</td>\n",
       "    </tr>\n",
       "    <tr>\n",
       "      <th>1092</th>\n",
       "      <td>1093</td>\n",
       "      <td>D1</td>\n",
       "      <td>2011</td>\n",
       "      <td>2011-12-11</td>\n",
       "      <td>Stuttgart</td>\n",
       "      <td>Bayern Munich</td>\n",
       "      <td>1</td>\n",
       "      <td>2</td>\n",
       "      <td>A</td>\n",
       "    </tr>\n",
       "    <tr>\n",
       "      <th>1093</th>\n",
       "      <td>1094</td>\n",
       "      <td>D1</td>\n",
       "      <td>2011</td>\n",
       "      <td>2011-08-13</td>\n",
       "      <td>Wolfsburg</td>\n",
       "      <td>Bayern Munich</td>\n",
       "      <td>0</td>\n",
       "      <td>1</td>\n",
       "      <td>A</td>\n",
       "    </tr>\n",
       "    <tr>\n",
       "      <th>1094</th>\n",
       "      <td>1095</td>\n",
       "      <td>D1</td>\n",
       "      <td>2011</td>\n",
       "      <td>2011-11-27</td>\n",
       "      <td>Mainz</td>\n",
       "      <td>Bayern Munich</td>\n",
       "      <td>3</td>\n",
       "      <td>2</td>\n",
       "      <td>H</td>\n",
       "    </tr>\n",
       "    <tr>\n",
       "      <th>1095</th>\n",
       "      <td>1096</td>\n",
       "      <td>D1</td>\n",
       "      <td>2011</td>\n",
       "      <td>2012-02-18</td>\n",
       "      <td>Freiburg</td>\n",
       "      <td>Bayern Munich</td>\n",
       "      <td>0</td>\n",
       "      <td>0</td>\n",
       "      <td>D</td>\n",
       "    </tr>\n",
       "  </tbody>\n",
       "</table>\n",
       "</div>"
      ],
      "text/plain": [
       "      Match_ID Div  Season        Date   HomeTeam       AwayTeam  FTHG  FTAG  \\\n",
       "1091      1092  D1    2011  2012-03-31   Nurnberg  Bayern Munich     0     1   \n",
       "1092      1093  D1    2011  2011-12-11  Stuttgart  Bayern Munich     1     2   \n",
       "1093      1094  D1    2011  2011-08-13  Wolfsburg  Bayern Munich     0     1   \n",
       "1094      1095  D1    2011  2011-11-27      Mainz  Bayern Munich     3     2   \n",
       "1095      1096  D1    2011  2012-02-18   Freiburg  Bayern Munich     0     0   \n",
       "\n",
       "     FTR  \n",
       "1091   A  \n",
       "1092   A  \n",
       "1093   A  \n",
       "1094   H  \n",
       "1095   D  "
      ]
     },
     "execution_count": 43,
     "metadata": {},
     "output_type": "execute_result"
    }
   ],
   "source": [
    "matches_df.head()"
   ]
  },
  {
   "cell_type": "code",
   "execution_count": 46,
   "metadata": {},
   "outputs": [],
   "source": [
    "matches_df.drop_duplicates(inplace=True)"
   ]
  },
  {
   "cell_type": "code",
   "execution_count": 48,
   "metadata": {},
   "outputs": [
    {
     "data": {
      "text/html": [
       "<div>\n",
       "<style scoped>\n",
       "    .dataframe tbody tr th:only-of-type {\n",
       "        vertical-align: middle;\n",
       "    }\n",
       "\n",
       "    .dataframe tbody tr th {\n",
       "        vertical-align: top;\n",
       "    }\n",
       "\n",
       "    .dataframe thead th {\n",
       "        text-align: right;\n",
       "    }\n",
       "</style>\n",
       "<table border=\"1\" class=\"dataframe\">\n",
       "  <thead>\n",
       "    <tr style=\"text-align: right;\">\n",
       "      <th></th>\n",
       "      <th>Match_ID</th>\n",
       "      <th>Div</th>\n",
       "      <th>Season</th>\n",
       "      <th>Date</th>\n",
       "      <th>HomeTeam</th>\n",
       "      <th>AwayTeam</th>\n",
       "      <th>FTHG</th>\n",
       "      <th>FTAG</th>\n",
       "      <th>FTR</th>\n",
       "    </tr>\n",
       "  </thead>\n",
       "  <tbody>\n",
       "    <tr>\n",
       "      <th>1091</th>\n",
       "      <td>1092</td>\n",
       "      <td>D1</td>\n",
       "      <td>2011</td>\n",
       "      <td>2012-03-31</td>\n",
       "      <td>Nurnberg</td>\n",
       "      <td>Bayern Munich</td>\n",
       "      <td>0</td>\n",
       "      <td>1</td>\n",
       "      <td>A</td>\n",
       "    </tr>\n",
       "    <tr>\n",
       "      <th>1092</th>\n",
       "      <td>1093</td>\n",
       "      <td>D1</td>\n",
       "      <td>2011</td>\n",
       "      <td>2011-12-11</td>\n",
       "      <td>Stuttgart</td>\n",
       "      <td>Bayern Munich</td>\n",
       "      <td>1</td>\n",
       "      <td>2</td>\n",
       "      <td>A</td>\n",
       "    </tr>\n",
       "    <tr>\n",
       "      <th>1093</th>\n",
       "      <td>1094</td>\n",
       "      <td>D1</td>\n",
       "      <td>2011</td>\n",
       "      <td>2011-08-13</td>\n",
       "      <td>Wolfsburg</td>\n",
       "      <td>Bayern Munich</td>\n",
       "      <td>0</td>\n",
       "      <td>1</td>\n",
       "      <td>A</td>\n",
       "    </tr>\n",
       "    <tr>\n",
       "      <th>1094</th>\n",
       "      <td>1095</td>\n",
       "      <td>D1</td>\n",
       "      <td>2011</td>\n",
       "      <td>2011-11-27</td>\n",
       "      <td>Mainz</td>\n",
       "      <td>Bayern Munich</td>\n",
       "      <td>3</td>\n",
       "      <td>2</td>\n",
       "      <td>H</td>\n",
       "    </tr>\n",
       "    <tr>\n",
       "      <th>1095</th>\n",
       "      <td>1096</td>\n",
       "      <td>D1</td>\n",
       "      <td>2011</td>\n",
       "      <td>2012-02-18</td>\n",
       "      <td>Freiburg</td>\n",
       "      <td>Bayern Munich</td>\n",
       "      <td>0</td>\n",
       "      <td>0</td>\n",
       "      <td>D</td>\n",
       "    </tr>\n",
       "  </tbody>\n",
       "</table>\n",
       "</div>"
      ],
      "text/plain": [
       "      Match_ID Div  Season        Date   HomeTeam       AwayTeam  FTHG  FTAG  \\\n",
       "1091      1092  D1    2011  2012-03-31   Nurnberg  Bayern Munich     0     1   \n",
       "1092      1093  D1    2011  2011-12-11  Stuttgart  Bayern Munich     1     2   \n",
       "1093      1094  D1    2011  2011-08-13  Wolfsburg  Bayern Munich     0     1   \n",
       "1094      1095  D1    2011  2011-11-27      Mainz  Bayern Munich     3     2   \n",
       "1095      1096  D1    2011  2012-02-18   Freiburg  Bayern Munich     0     0   \n",
       "\n",
       "     FTR  \n",
       "1091   A  \n",
       "1092   A  \n",
       "1093   A  \n",
       "1094   H  \n",
       "1095   D  "
      ]
     },
     "execution_count": 48,
     "metadata": {},
     "output_type": "execute_result"
    }
   ],
   "source": [
    "matches_df.head()"
   ]
  },
  {
   "cell_type": "code",
   "execution_count": 67,
   "metadata": {},
   "outputs": [],
   "source": [
    "m_df = matches_df.drop(['Div','FTHG','FTAG'],axis=1)"
   ]
  },
  {
   "cell_type": "code",
   "execution_count": 68,
   "metadata": {},
   "outputs": [],
   "source": [
    "m_df['home_win'] = np.where(m_df['FTR']=='H', 1,0)\n",
    "m_df['draw'] = np.where(m_df['FTR']=='D', 1,0)"
   ]
  },
  {
   "cell_type": "code",
   "execution_count": 71,
   "metadata": {
    "scrolled": true
   },
   "outputs": [
    {
     "data": {
      "text/html": [
       "<div>\n",
       "<style scoped>\n",
       "    .dataframe tbody tr th:only-of-type {\n",
       "        vertical-align: middle;\n",
       "    }\n",
       "\n",
       "    .dataframe tbody tr th {\n",
       "        vertical-align: top;\n",
       "    }\n",
       "\n",
       "    .dataframe thead th {\n",
       "        text-align: right;\n",
       "    }\n",
       "</style>\n",
       "<table border=\"1\" class=\"dataframe\">\n",
       "  <thead>\n",
       "    <tr style=\"text-align: right;\">\n",
       "      <th></th>\n",
       "      <th>Match_ID</th>\n",
       "      <th>Season</th>\n",
       "      <th>Date</th>\n",
       "      <th>HomeTeam</th>\n",
       "      <th>AwayTeam</th>\n",
       "      <th>FTR</th>\n",
       "      <th>home_win</th>\n",
       "      <th>draw</th>\n",
       "    </tr>\n",
       "  </thead>\n",
       "  <tbody>\n",
       "    <tr>\n",
       "      <th>1091</th>\n",
       "      <td>1092</td>\n",
       "      <td>2011</td>\n",
       "      <td>2012-03-31</td>\n",
       "      <td>Nurnberg</td>\n",
       "      <td>Bayern Munich</td>\n",
       "      <td>A</td>\n",
       "      <td>0</td>\n",
       "      <td>0</td>\n",
       "    </tr>\n",
       "    <tr>\n",
       "      <th>1092</th>\n",
       "      <td>1093</td>\n",
       "      <td>2011</td>\n",
       "      <td>2011-12-11</td>\n",
       "      <td>Stuttgart</td>\n",
       "      <td>Bayern Munich</td>\n",
       "      <td>A</td>\n",
       "      <td>0</td>\n",
       "      <td>0</td>\n",
       "    </tr>\n",
       "    <tr>\n",
       "      <th>1093</th>\n",
       "      <td>1094</td>\n",
       "      <td>2011</td>\n",
       "      <td>2011-08-13</td>\n",
       "      <td>Wolfsburg</td>\n",
       "      <td>Bayern Munich</td>\n",
       "      <td>A</td>\n",
       "      <td>0</td>\n",
       "      <td>0</td>\n",
       "    </tr>\n",
       "    <tr>\n",
       "      <th>1094</th>\n",
       "      <td>1095</td>\n",
       "      <td>2011</td>\n",
       "      <td>2011-11-27</td>\n",
       "      <td>Mainz</td>\n",
       "      <td>Bayern Munich</td>\n",
       "      <td>H</td>\n",
       "      <td>1</td>\n",
       "      <td>0</td>\n",
       "    </tr>\n",
       "    <tr>\n",
       "      <th>1095</th>\n",
       "      <td>1096</td>\n",
       "      <td>2011</td>\n",
       "      <td>2012-02-18</td>\n",
       "      <td>Freiburg</td>\n",
       "      <td>Bayern Munich</td>\n",
       "      <td>D</td>\n",
       "      <td>0</td>\n",
       "      <td>1</td>\n",
       "    </tr>\n",
       "  </tbody>\n",
       "</table>\n",
       "</div>"
      ],
      "text/plain": [
       "      Match_ID  Season        Date   HomeTeam       AwayTeam FTR  home_win  \\\n",
       "1091      1092    2011  2012-03-31   Nurnberg  Bayern Munich   A         0   \n",
       "1092      1093    2011  2011-12-11  Stuttgart  Bayern Munich   A         0   \n",
       "1093      1094    2011  2011-08-13  Wolfsburg  Bayern Munich   A         0   \n",
       "1094      1095    2011  2011-11-27      Mainz  Bayern Munich   H         1   \n",
       "1095      1096    2011  2012-02-18   Freiburg  Bayern Munich   D         0   \n",
       "\n",
       "      draw  \n",
       "1091     0  \n",
       "1092     0  \n",
       "1093     0  \n",
       "1094     0  \n",
       "1095     1  "
      ]
     },
     "execution_count": 71,
     "metadata": {},
     "output_type": "execute_result"
    }
   ],
   "source": [
    "m_df.head()"
   ]
  },
  {
   "cell_type": "code",
   "execution_count": 72,
   "metadata": {},
   "outputs": [
    {
     "data": {
      "text/html": [
       "<div>\n",
       "<style scoped>\n",
       "    .dataframe tbody tr th:only-of-type {\n",
       "        vertical-align: middle;\n",
       "    }\n",
       "\n",
       "    .dataframe tbody tr th {\n",
       "        vertical-align: top;\n",
       "    }\n",
       "\n",
       "    .dataframe thead th {\n",
       "        text-align: right;\n",
       "    }\n",
       "</style>\n",
       "<table border=\"1\" class=\"dataframe\">\n",
       "  <thead>\n",
       "    <tr style=\"text-align: right;\">\n",
       "      <th></th>\n",
       "      <th>Match_ID</th>\n",
       "      <th>Season</th>\n",
       "      <th>Date</th>\n",
       "      <th>HomeTeam</th>\n",
       "      <th>AwayTeam</th>\n",
       "      <th>FTR</th>\n",
       "      <th>home_win</th>\n",
       "      <th>draw</th>\n",
       "    </tr>\n",
       "  </thead>\n",
       "  <tbody>\n",
       "    <tr>\n",
       "      <th>1121</th>\n",
       "      <td>1122</td>\n",
       "      <td>2011</td>\n",
       "      <td>2011-11-19</td>\n",
       "      <td>Bayern Munich</td>\n",
       "      <td>Dortmund</td>\n",
       "      <td>A</td>\n",
       "      <td>0</td>\n",
       "      <td>0</td>\n",
       "    </tr>\n",
       "    <tr>\n",
       "      <th>1177</th>\n",
       "      <td>1178</td>\n",
       "      <td>2011</td>\n",
       "      <td>2011-12-16</td>\n",
       "      <td>Bayern Munich</td>\n",
       "      <td>FC Koln</td>\n",
       "      <td>H</td>\n",
       "      <td>1</td>\n",
       "      <td>0</td>\n",
       "    </tr>\n",
       "    <tr>\n",
       "      <th>1196</th>\n",
       "      <td>1197</td>\n",
       "      <td>2011</td>\n",
       "      <td>2011-09-10</td>\n",
       "      <td>Bayern Munich</td>\n",
       "      <td>Freiburg</td>\n",
       "      <td>H</td>\n",
       "      <td>1</td>\n",
       "      <td>0</td>\n",
       "    </tr>\n",
       "    <tr>\n",
       "      <th>1210</th>\n",
       "      <td>1211</td>\n",
       "      <td>2011</td>\n",
       "      <td>2011-08-20</td>\n",
       "      <td>Bayern Munich</td>\n",
       "      <td>Hamburg</td>\n",
       "      <td>H</td>\n",
       "      <td>1</td>\n",
       "      <td>0</td>\n",
       "    </tr>\n",
       "    <tr>\n",
       "      <th>1234</th>\n",
       "      <td>1235</td>\n",
       "      <td>2011</td>\n",
       "      <td>2012-02-11</td>\n",
       "      <td>Bayern Munich</td>\n",
       "      <td>Kaiserslautern</td>\n",
       "      <td>H</td>\n",
       "      <td>1</td>\n",
       "      <td>0</td>\n",
       "    </tr>\n",
       "    <tr>\n",
       "      <th>1261</th>\n",
       "      <td>1262</td>\n",
       "      <td>2011</td>\n",
       "      <td>2011-09-24</td>\n",
       "      <td>Bayern Munich</td>\n",
       "      <td>Leverkusen</td>\n",
       "      <td>H</td>\n",
       "      <td>1</td>\n",
       "      <td>0</td>\n",
       "    </tr>\n",
       "    <tr>\n",
       "      <th>1292</th>\n",
       "      <td>1293</td>\n",
       "      <td>2011</td>\n",
       "      <td>2011-10-29</td>\n",
       "      <td>Bayern Munich</td>\n",
       "      <td>Nurnberg</td>\n",
       "      <td>H</td>\n",
       "      <td>1</td>\n",
       "      <td>0</td>\n",
       "    </tr>\n",
       "    <tr>\n",
       "      <th>1309</th>\n",
       "      <td>1310</td>\n",
       "      <td>2011</td>\n",
       "      <td>2012-02-26</td>\n",
       "      <td>Bayern Munich</td>\n",
       "      <td>Schalke 04</td>\n",
       "      <td>H</td>\n",
       "      <td>1</td>\n",
       "      <td>0</td>\n",
       "    </tr>\n",
       "    <tr>\n",
       "      <th>1323</th>\n",
       "      <td>1324</td>\n",
       "      <td>2011</td>\n",
       "      <td>2012-04-28</td>\n",
       "      <td>Bayern Munich</td>\n",
       "      <td>Stuttgart</td>\n",
       "      <td>H</td>\n",
       "      <td>1</td>\n",
       "      <td>0</td>\n",
       "    </tr>\n",
       "    <tr>\n",
       "      <th>1334</th>\n",
       "      <td>1335</td>\n",
       "      <td>2011</td>\n",
       "      <td>2011-12-03</td>\n",
       "      <td>Bayern Munich</td>\n",
       "      <td>Werder Bremen</td>\n",
       "      <td>H</td>\n",
       "      <td>1</td>\n",
       "      <td>0</td>\n",
       "    </tr>\n",
       "    <tr>\n",
       "      <th>1363</th>\n",
       "      <td>1364</td>\n",
       "      <td>2011</td>\n",
       "      <td>2012-03-24</td>\n",
       "      <td>Bayern Munich</td>\n",
       "      <td>Hannover</td>\n",
       "      <td>H</td>\n",
       "      <td>1</td>\n",
       "      <td>0</td>\n",
       "    </tr>\n",
       "    <tr>\n",
       "      <th>1400</th>\n",
       "      <td>1401</td>\n",
       "      <td>2011</td>\n",
       "      <td>2011-10-15</td>\n",
       "      <td>Bayern Munich</td>\n",
       "      <td>Hertha</td>\n",
       "      <td>H</td>\n",
       "      <td>1</td>\n",
       "      <td>0</td>\n",
       "    </tr>\n",
       "    <tr>\n",
       "      <th>1427</th>\n",
       "      <td>1428</td>\n",
       "      <td>2011</td>\n",
       "      <td>2012-04-14</td>\n",
       "      <td>Bayern Munich</td>\n",
       "      <td>Mainz</td>\n",
       "      <td>D</td>\n",
       "      <td>0</td>\n",
       "      <td>1</td>\n",
       "    </tr>\n",
       "    <tr>\n",
       "      <th>1480</th>\n",
       "      <td>1481</td>\n",
       "      <td>2011</td>\n",
       "      <td>2012-01-28</td>\n",
       "      <td>Bayern Munich</td>\n",
       "      <td>Wolfsburg</td>\n",
       "      <td>H</td>\n",
       "      <td>1</td>\n",
       "      <td>0</td>\n",
       "    </tr>\n",
       "    <tr>\n",
       "      <th>1490</th>\n",
       "      <td>1491</td>\n",
       "      <td>2011</td>\n",
       "      <td>2011-08-07</td>\n",
       "      <td>Bayern Munich</td>\n",
       "      <td>M'gladbach</td>\n",
       "      <td>A</td>\n",
       "      <td>0</td>\n",
       "      <td>0</td>\n",
       "    </tr>\n",
       "    <tr>\n",
       "      <th>1622</th>\n",
       "      <td>1623</td>\n",
       "      <td>2011</td>\n",
       "      <td>2012-04-07</td>\n",
       "      <td>Bayern Munich</td>\n",
       "      <td>Augsburg</td>\n",
       "      <td>H</td>\n",
       "      <td>1</td>\n",
       "      <td>0</td>\n",
       "    </tr>\n",
       "    <tr>\n",
       "      <th>1642</th>\n",
       "      <td>1643</td>\n",
       "      <td>2011</td>\n",
       "      <td>2012-03-10</td>\n",
       "      <td>Bayern Munich</td>\n",
       "      <td>Hoffenheim</td>\n",
       "      <td>H</td>\n",
       "      <td>1</td>\n",
       "      <td>0</td>\n",
       "    </tr>\n",
       "  </tbody>\n",
       "</table>\n",
       "</div>"
      ],
      "text/plain": [
       "      Match_ID  Season        Date       HomeTeam        AwayTeam FTR  \\\n",
       "1121      1122    2011  2011-11-19  Bayern Munich        Dortmund   A   \n",
       "1177      1178    2011  2011-12-16  Bayern Munich         FC Koln   H   \n",
       "1196      1197    2011  2011-09-10  Bayern Munich        Freiburg   H   \n",
       "1210      1211    2011  2011-08-20  Bayern Munich         Hamburg   H   \n",
       "1234      1235    2011  2012-02-11  Bayern Munich  Kaiserslautern   H   \n",
       "1261      1262    2011  2011-09-24  Bayern Munich      Leverkusen   H   \n",
       "1292      1293    2011  2011-10-29  Bayern Munich        Nurnberg   H   \n",
       "1309      1310    2011  2012-02-26  Bayern Munich      Schalke 04   H   \n",
       "1323      1324    2011  2012-04-28  Bayern Munich       Stuttgart   H   \n",
       "1334      1335    2011  2011-12-03  Bayern Munich   Werder Bremen   H   \n",
       "1363      1364    2011  2012-03-24  Bayern Munich        Hannover   H   \n",
       "1400      1401    2011  2011-10-15  Bayern Munich          Hertha   H   \n",
       "1427      1428    2011  2012-04-14  Bayern Munich           Mainz   D   \n",
       "1480      1481    2011  2012-01-28  Bayern Munich       Wolfsburg   H   \n",
       "1490      1491    2011  2011-08-07  Bayern Munich      M'gladbach   A   \n",
       "1622      1623    2011  2012-04-07  Bayern Munich        Augsburg   H   \n",
       "1642      1643    2011  2012-03-10  Bayern Munich      Hoffenheim   H   \n",
       "\n",
       "      home_win  draw  \n",
       "1121         0     0  \n",
       "1177         1     0  \n",
       "1196         1     0  \n",
       "1210         1     0  \n",
       "1234         1     0  \n",
       "1261         1     0  \n",
       "1292         1     0  \n",
       "1309         1     0  \n",
       "1323         1     0  \n",
       "1334         1     0  \n",
       "1363         1     0  \n",
       "1400         1     0  \n",
       "1427         0     1  \n",
       "1480         1     0  \n",
       "1490         0     0  \n",
       "1622         1     0  \n",
       "1642         1     0  "
      ]
     },
     "execution_count": 72,
     "metadata": {},
     "output_type": "execute_result"
    }
   ],
   "source": [
    "m_df[m_df.HomeTeam=='Bayern Munich']"
   ]
  },
  {
   "cell_type": "markdown",
   "metadata": {},
   "source": [
    "## Strategy\n",
    "From the tables above, we only need the matches table, and we need to split it to get the info from both teams\n",
    "\n",
    "Let's create a dataframe for the Home teams, and a dataframe for the away teams"
   ]
  },
  {
   "cell_type": "code",
   "execution_count": 121,
   "metadata": {},
   "outputs": [
    {
     "name": "stdout",
     "output_type": "stream",
     "text": [
      "SELECT Match_ID, Date, HomeTeam as Team, FTR, FTHG as Goals FROM Matches\n",
      "        WHERE Season=2011\n",
      "        \n"
     ]
    },
    {
     "data": {
      "text/html": [
       "<div>\n",
       "<style scoped>\n",
       "    .dataframe tbody tr th:only-of-type {\n",
       "        vertical-align: middle;\n",
       "    }\n",
       "\n",
       "    .dataframe tbody tr th {\n",
       "        vertical-align: top;\n",
       "    }\n",
       "\n",
       "    .dataframe thead th {\n",
       "        text-align: right;\n",
       "    }\n",
       "</style>\n",
       "<table border=\"1\" class=\"dataframe\">\n",
       "  <thead>\n",
       "    <tr style=\"text-align: right;\">\n",
       "      <th></th>\n",
       "      <th>Match_ID</th>\n",
       "      <th>Date</th>\n",
       "      <th>Team</th>\n",
       "      <th>FTR</th>\n",
       "      <th>Goals</th>\n",
       "    </tr>\n",
       "  </thead>\n",
       "  <tbody>\n",
       "    <tr>\n",
       "      <th>0</th>\n",
       "      <td>1092</td>\n",
       "      <td>2012-03-31</td>\n",
       "      <td>Nurnberg</td>\n",
       "      <td>A</td>\n",
       "      <td>0</td>\n",
       "    </tr>\n",
       "    <tr>\n",
       "      <th>1</th>\n",
       "      <td>1093</td>\n",
       "      <td>2011-12-11</td>\n",
       "      <td>Stuttgart</td>\n",
       "      <td>A</td>\n",
       "      <td>1</td>\n",
       "    </tr>\n",
       "    <tr>\n",
       "      <th>2</th>\n",
       "      <td>1094</td>\n",
       "      <td>2011-08-13</td>\n",
       "      <td>Wolfsburg</td>\n",
       "      <td>A</td>\n",
       "      <td>0</td>\n",
       "    </tr>\n",
       "    <tr>\n",
       "      <th>3</th>\n",
       "      <td>1095</td>\n",
       "      <td>2011-11-27</td>\n",
       "      <td>Mainz</td>\n",
       "      <td>H</td>\n",
       "      <td>3</td>\n",
       "    </tr>\n",
       "    <tr>\n",
       "      <th>4</th>\n",
       "      <td>1096</td>\n",
       "      <td>2012-02-18</td>\n",
       "      <td>Freiburg</td>\n",
       "      <td>D</td>\n",
       "      <td>0</td>\n",
       "    </tr>\n",
       "  </tbody>\n",
       "</table>\n",
       "</div>"
      ],
      "text/plain": [
       "   Match_ID        Date       Team FTR  Goals\n",
       "0      1092  2012-03-31   Nurnberg   A      0\n",
       "1      1093  2011-12-11  Stuttgart   A      1\n",
       "2      1094  2011-08-13  Wolfsburg   A      0\n",
       "3      1095  2011-11-27      Mainz   H      3\n",
       "4      1096  2012-02-18   Freiburg   D      0"
      ]
     },
     "execution_count": 121,
     "metadata": {},
     "output_type": "execute_result"
    }
   ],
   "source": [
    "cmd = \"\"\"SELECT Match_ID, Date, HomeTeam as Team, FTR, FTHG as Goals FROM {}\n",
    "        WHERE Season=2011\n",
    "        \"\"\".format(tables[1][0])\n",
    "print(cmd)\n",
    "cursor.execute(cmd)\n",
    "mhdf = pd.DataFrame(cursor.fetchall())\n",
    "mhdf.columns = [i[0] for i in cursor.description]\n",
    "mhdf.head()"
   ]
  },
  {
   "cell_type": "markdown",
   "metadata": {},
   "source": [
    "Lets create columns for win, draw, loss, number of games"
   ]
  },
  {
   "cell_type": "code",
   "execution_count": 145,
   "metadata": {},
   "outputs": [
    {
     "data": {
      "text/html": [
       "<div>\n",
       "<style scoped>\n",
       "    .dataframe tbody tr th:only-of-type {\n",
       "        vertical-align: middle;\n",
       "    }\n",
       "\n",
       "    .dataframe tbody tr th {\n",
       "        vertical-align: top;\n",
       "    }\n",
       "\n",
       "    .dataframe thead th {\n",
       "        text-align: right;\n",
       "    }\n",
       "</style>\n",
       "<table border=\"1\" class=\"dataframe\">\n",
       "  <thead>\n",
       "    <tr style=\"text-align: right;\">\n",
       "      <th></th>\n",
       "      <th>Match_ID</th>\n",
       "      <th>Date</th>\n",
       "      <th>Team</th>\n",
       "      <th>FTR</th>\n",
       "      <th>Goals</th>\n",
       "      <th>win</th>\n",
       "      <th>draw</th>\n",
       "      <th>loss</th>\n",
       "      <th>ngames</th>\n",
       "    </tr>\n",
       "  </thead>\n",
       "  <tbody>\n",
       "    <tr>\n",
       "      <th>0</th>\n",
       "      <td>1092</td>\n",
       "      <td>2012-03-31</td>\n",
       "      <td>Nurnberg</td>\n",
       "      <td>A</td>\n",
       "      <td>0</td>\n",
       "      <td>0</td>\n",
       "      <td>0</td>\n",
       "      <td>1</td>\n",
       "      <td>1</td>\n",
       "    </tr>\n",
       "    <tr>\n",
       "      <th>1</th>\n",
       "      <td>1093</td>\n",
       "      <td>2011-12-11</td>\n",
       "      <td>Stuttgart</td>\n",
       "      <td>A</td>\n",
       "      <td>1</td>\n",
       "      <td>0</td>\n",
       "      <td>0</td>\n",
       "      <td>1</td>\n",
       "      <td>1</td>\n",
       "    </tr>\n",
       "    <tr>\n",
       "      <th>2</th>\n",
       "      <td>1094</td>\n",
       "      <td>2011-08-13</td>\n",
       "      <td>Wolfsburg</td>\n",
       "      <td>A</td>\n",
       "      <td>0</td>\n",
       "      <td>0</td>\n",
       "      <td>0</td>\n",
       "      <td>1</td>\n",
       "      <td>1</td>\n",
       "    </tr>\n",
       "    <tr>\n",
       "      <th>3</th>\n",
       "      <td>1095</td>\n",
       "      <td>2011-11-27</td>\n",
       "      <td>Mainz</td>\n",
       "      <td>H</td>\n",
       "      <td>3</td>\n",
       "      <td>1</td>\n",
       "      <td>0</td>\n",
       "      <td>0</td>\n",
       "      <td>1</td>\n",
       "    </tr>\n",
       "    <tr>\n",
       "      <th>4</th>\n",
       "      <td>1096</td>\n",
       "      <td>2012-02-18</td>\n",
       "      <td>Freiburg</td>\n",
       "      <td>D</td>\n",
       "      <td>0</td>\n",
       "      <td>0</td>\n",
       "      <td>1</td>\n",
       "      <td>0</td>\n",
       "      <td>1</td>\n",
       "    </tr>\n",
       "    <tr>\n",
       "      <th>5</th>\n",
       "      <td>1097</td>\n",
       "      <td>2012-01-20</td>\n",
       "      <td>M'gladbach</td>\n",
       "      <td>H</td>\n",
       "      <td>3</td>\n",
       "      <td>1</td>\n",
       "      <td>0</td>\n",
       "      <td>0</td>\n",
       "      <td>1</td>\n",
       "    </tr>\n",
       "    <tr>\n",
       "      <th>6</th>\n",
       "      <td>1098</td>\n",
       "      <td>2012-02-04</td>\n",
       "      <td>Hamburg</td>\n",
       "      <td>D</td>\n",
       "      <td>1</td>\n",
       "      <td>0</td>\n",
       "      <td>1</td>\n",
       "      <td>0</td>\n",
       "      <td>1</td>\n",
       "    </tr>\n",
       "    <tr>\n",
       "      <th>7</th>\n",
       "      <td>1099</td>\n",
       "      <td>2012-04-21</td>\n",
       "      <td>Werder Bremen</td>\n",
       "      <td>A</td>\n",
       "      <td>1</td>\n",
       "      <td>0</td>\n",
       "      <td>0</td>\n",
       "      <td>1</td>\n",
       "      <td>1</td>\n",
       "    </tr>\n",
       "    <tr>\n",
       "      <th>8</th>\n",
       "      <td>1100</td>\n",
       "      <td>2011-09-18</td>\n",
       "      <td>Schalke 04</td>\n",
       "      <td>A</td>\n",
       "      <td>0</td>\n",
       "      <td>0</td>\n",
       "      <td>0</td>\n",
       "      <td>1</td>\n",
       "      <td>1</td>\n",
       "    </tr>\n",
       "    <tr>\n",
       "      <th>9</th>\n",
       "      <td>1101</td>\n",
       "      <td>2011-10-23</td>\n",
       "      <td>Hannover</td>\n",
       "      <td>H</td>\n",
       "      <td>2</td>\n",
       "      <td>1</td>\n",
       "      <td>0</td>\n",
       "      <td>0</td>\n",
       "      <td>1</td>\n",
       "    </tr>\n",
       "  </tbody>\n",
       "</table>\n",
       "</div>"
      ],
      "text/plain": [
       "   Match_ID        Date           Team FTR  Goals  win  draw  loss  ngames\n",
       "0      1092  2012-03-31       Nurnberg   A      0    0     0     1       1\n",
       "1      1093  2011-12-11      Stuttgart   A      1    0     0     1       1\n",
       "2      1094  2011-08-13      Wolfsburg   A      0    0     0     1       1\n",
       "3      1095  2011-11-27          Mainz   H      3    1     0     0       1\n",
       "4      1096  2012-02-18       Freiburg   D      0    0     1     0       1\n",
       "5      1097  2012-01-20     M'gladbach   H      3    1     0     0       1\n",
       "6      1098  2012-02-04        Hamburg   D      1    0     1     0       1\n",
       "7      1099  2012-04-21  Werder Bremen   A      1    0     0     1       1\n",
       "8      1100  2011-09-18     Schalke 04   A      0    0     0     1       1\n",
       "9      1101  2011-10-23       Hannover   H      2    1     0     0       1"
      ]
     },
     "execution_count": 145,
     "metadata": {},
     "output_type": "execute_result"
    }
   ],
   "source": [
    "mhdf['win'] = np.where(mhdf['FTR']=='H', 1,0)\n",
    "mhdf['draw'] = np.where(mhdf['FTR']=='D', 1,0)\n",
    "mhdf['loss'] = np.where(mhdf['FTR']=='A', 1,0)\n",
    "mhdf['ngames'] = 1\n",
    "mhdf.head(10)"
   ]
  },
  {
   "cell_type": "code",
   "execution_count": null,
   "metadata": {},
   "outputs": [],
   "source": []
  },
  {
   "cell_type": "code",
   "execution_count": null,
   "metadata": {},
   "outputs": [],
   "source": []
  },
  {
   "cell_type": "markdown",
   "metadata": {},
   "source": [
    "And let's repeat for the away teams"
   ]
  },
  {
   "cell_type": "code",
   "execution_count": 146,
   "metadata": {},
   "outputs": [
    {
     "name": "stdout",
     "output_type": "stream",
     "text": [
      "SELECT Match_ID, Date, AwayTeam as Team, FTR, FTAG as Goals FROM Matches\n",
      "        WHERE Season=2011\n",
      "        \n"
     ]
    },
    {
     "data": {
      "text/html": [
       "<div>\n",
       "<style scoped>\n",
       "    .dataframe tbody tr th:only-of-type {\n",
       "        vertical-align: middle;\n",
       "    }\n",
       "\n",
       "    .dataframe tbody tr th {\n",
       "        vertical-align: top;\n",
       "    }\n",
       "\n",
       "    .dataframe thead th {\n",
       "        text-align: right;\n",
       "    }\n",
       "</style>\n",
       "<table border=\"1\" class=\"dataframe\">\n",
       "  <thead>\n",
       "    <tr style=\"text-align: right;\">\n",
       "      <th></th>\n",
       "      <th>Match_ID</th>\n",
       "      <th>Date</th>\n",
       "      <th>Team</th>\n",
       "      <th>FTR</th>\n",
       "      <th>Goals</th>\n",
       "    </tr>\n",
       "  </thead>\n",
       "  <tbody>\n",
       "    <tr>\n",
       "      <th>0</th>\n",
       "      <td>1092</td>\n",
       "      <td>2012-03-31</td>\n",
       "      <td>Bayern Munich</td>\n",
       "      <td>A</td>\n",
       "      <td>1</td>\n",
       "    </tr>\n",
       "    <tr>\n",
       "      <th>1</th>\n",
       "      <td>1093</td>\n",
       "      <td>2011-12-11</td>\n",
       "      <td>Bayern Munich</td>\n",
       "      <td>A</td>\n",
       "      <td>2</td>\n",
       "    </tr>\n",
       "    <tr>\n",
       "      <th>2</th>\n",
       "      <td>1094</td>\n",
       "      <td>2011-08-13</td>\n",
       "      <td>Bayern Munich</td>\n",
       "      <td>A</td>\n",
       "      <td>1</td>\n",
       "    </tr>\n",
       "    <tr>\n",
       "      <th>3</th>\n",
       "      <td>1095</td>\n",
       "      <td>2011-11-27</td>\n",
       "      <td>Bayern Munich</td>\n",
       "      <td>H</td>\n",
       "      <td>2</td>\n",
       "    </tr>\n",
       "    <tr>\n",
       "      <th>4</th>\n",
       "      <td>1096</td>\n",
       "      <td>2012-02-18</td>\n",
       "      <td>Bayern Munich</td>\n",
       "      <td>D</td>\n",
       "      <td>0</td>\n",
       "    </tr>\n",
       "  </tbody>\n",
       "</table>\n",
       "</div>"
      ],
      "text/plain": [
       "   Match_ID        Date           Team FTR  Goals\n",
       "0      1092  2012-03-31  Bayern Munich   A      1\n",
       "1      1093  2011-12-11  Bayern Munich   A      2\n",
       "2      1094  2011-08-13  Bayern Munich   A      1\n",
       "3      1095  2011-11-27  Bayern Munich   H      2\n",
       "4      1096  2012-02-18  Bayern Munich   D      0"
      ]
     },
     "execution_count": 146,
     "metadata": {},
     "output_type": "execute_result"
    }
   ],
   "source": [
    "cmd = \"\"\"SELECT Match_ID, Date, AwayTeam as Team, FTR, FTAG as Goals FROM {}\n",
    "        WHERE Season=2011\n",
    "        \"\"\".format(tables[1][0])\n",
    "print(cmd)\n",
    "cursor.execute(cmd)\n",
    "madf = pd.DataFrame(cursor.fetchall())\n",
    "madf.columns = [i[0] for i in cursor.description]\n",
    "madf.head()"
   ]
  },
  {
   "cell_type": "code",
   "execution_count": 147,
   "metadata": {
    "scrolled": true
   },
   "outputs": [
    {
     "data": {
      "text/html": [
       "<div>\n",
       "<style scoped>\n",
       "    .dataframe tbody tr th:only-of-type {\n",
       "        vertical-align: middle;\n",
       "    }\n",
       "\n",
       "    .dataframe tbody tr th {\n",
       "        vertical-align: top;\n",
       "    }\n",
       "\n",
       "    .dataframe thead th {\n",
       "        text-align: right;\n",
       "    }\n",
       "</style>\n",
       "<table border=\"1\" class=\"dataframe\">\n",
       "  <thead>\n",
       "    <tr style=\"text-align: right;\">\n",
       "      <th></th>\n",
       "      <th>Match_ID</th>\n",
       "      <th>Date</th>\n",
       "      <th>Team</th>\n",
       "      <th>FTR</th>\n",
       "      <th>Goals</th>\n",
       "      <th>win</th>\n",
       "      <th>draw</th>\n",
       "      <th>loss</th>\n",
       "      <th>ngames</th>\n",
       "    </tr>\n",
       "  </thead>\n",
       "  <tbody>\n",
       "    <tr>\n",
       "      <th>0</th>\n",
       "      <td>1092</td>\n",
       "      <td>2012-03-31</td>\n",
       "      <td>Bayern Munich</td>\n",
       "      <td>A</td>\n",
       "      <td>1</td>\n",
       "      <td>1</td>\n",
       "      <td>0</td>\n",
       "      <td>0</td>\n",
       "      <td>1</td>\n",
       "    </tr>\n",
       "    <tr>\n",
       "      <th>1</th>\n",
       "      <td>1093</td>\n",
       "      <td>2011-12-11</td>\n",
       "      <td>Bayern Munich</td>\n",
       "      <td>A</td>\n",
       "      <td>2</td>\n",
       "      <td>1</td>\n",
       "      <td>0</td>\n",
       "      <td>0</td>\n",
       "      <td>1</td>\n",
       "    </tr>\n",
       "    <tr>\n",
       "      <th>2</th>\n",
       "      <td>1094</td>\n",
       "      <td>2011-08-13</td>\n",
       "      <td>Bayern Munich</td>\n",
       "      <td>A</td>\n",
       "      <td>1</td>\n",
       "      <td>1</td>\n",
       "      <td>0</td>\n",
       "      <td>0</td>\n",
       "      <td>1</td>\n",
       "    </tr>\n",
       "    <tr>\n",
       "      <th>3</th>\n",
       "      <td>1095</td>\n",
       "      <td>2011-11-27</td>\n",
       "      <td>Bayern Munich</td>\n",
       "      <td>H</td>\n",
       "      <td>2</td>\n",
       "      <td>0</td>\n",
       "      <td>0</td>\n",
       "      <td>1</td>\n",
       "      <td>1</td>\n",
       "    </tr>\n",
       "    <tr>\n",
       "      <th>4</th>\n",
       "      <td>1096</td>\n",
       "      <td>2012-02-18</td>\n",
       "      <td>Bayern Munich</td>\n",
       "      <td>D</td>\n",
       "      <td>0</td>\n",
       "      <td>0</td>\n",
       "      <td>1</td>\n",
       "      <td>0</td>\n",
       "      <td>1</td>\n",
       "    </tr>\n",
       "  </tbody>\n",
       "</table>\n",
       "</div>"
      ],
      "text/plain": [
       "   Match_ID        Date           Team FTR  Goals  win  draw  loss  ngames\n",
       "0      1092  2012-03-31  Bayern Munich   A      1    1     0     0       1\n",
       "1      1093  2011-12-11  Bayern Munich   A      2    1     0     0       1\n",
       "2      1094  2011-08-13  Bayern Munich   A      1    1     0     0       1\n",
       "3      1095  2011-11-27  Bayern Munich   H      2    0     0     1       1\n",
       "4      1096  2012-02-18  Bayern Munich   D      0    0     1     0       1"
      ]
     },
     "execution_count": 147,
     "metadata": {},
     "output_type": "execute_result"
    }
   ],
   "source": [
    "madf['win'] = np.where(madf['FTR']=='A', 1,0)\n",
    "madf['draw'] = np.where(madf['FTR']=='D', 1,0)\n",
    "madf['loss'] = np.where(mhdf['FTR']=='H', 1,0)\n",
    "madf['ngames'] = 1\n",
    "madf.head()"
   ]
  },
  {
   "cell_type": "code",
   "execution_count": 148,
   "metadata": {},
   "outputs": [
    {
     "data": {
      "text/html": [
       "<div>\n",
       "<style scoped>\n",
       "    .dataframe tbody tr th:only-of-type {\n",
       "        vertical-align: middle;\n",
       "    }\n",
       "\n",
       "    .dataframe tbody tr th {\n",
       "        vertical-align: top;\n",
       "    }\n",
       "\n",
       "    .dataframe thead th {\n",
       "        text-align: right;\n",
       "    }\n",
       "</style>\n",
       "<table border=\"1\" class=\"dataframe\">\n",
       "  <thead>\n",
       "    <tr style=\"text-align: right;\">\n",
       "      <th></th>\n",
       "      <th>Match_ID</th>\n",
       "      <th>Date</th>\n",
       "      <th>Team</th>\n",
       "      <th>FTR</th>\n",
       "      <th>Goals</th>\n",
       "      <th>win</th>\n",
       "      <th>draw</th>\n",
       "      <th>loss</th>\n",
       "      <th>ngames</th>\n",
       "    </tr>\n",
       "  </thead>\n",
       "  <tbody>\n",
       "    <tr>\n",
       "      <th>0</th>\n",
       "      <td>1092</td>\n",
       "      <td>2012-03-31</td>\n",
       "      <td>Nurnberg</td>\n",
       "      <td>A</td>\n",
       "      <td>0</td>\n",
       "      <td>0</td>\n",
       "      <td>0</td>\n",
       "      <td>1</td>\n",
       "      <td>1</td>\n",
       "    </tr>\n",
       "    <tr>\n",
       "      <th>1</th>\n",
       "      <td>1093</td>\n",
       "      <td>2011-12-11</td>\n",
       "      <td>Stuttgart</td>\n",
       "      <td>A</td>\n",
       "      <td>1</td>\n",
       "      <td>0</td>\n",
       "      <td>0</td>\n",
       "      <td>1</td>\n",
       "      <td>1</td>\n",
       "    </tr>\n",
       "    <tr>\n",
       "      <th>2</th>\n",
       "      <td>1094</td>\n",
       "      <td>2011-08-13</td>\n",
       "      <td>Wolfsburg</td>\n",
       "      <td>A</td>\n",
       "      <td>0</td>\n",
       "      <td>0</td>\n",
       "      <td>0</td>\n",
       "      <td>1</td>\n",
       "      <td>1</td>\n",
       "    </tr>\n",
       "    <tr>\n",
       "      <th>3</th>\n",
       "      <td>1095</td>\n",
       "      <td>2011-11-27</td>\n",
       "      <td>Mainz</td>\n",
       "      <td>H</td>\n",
       "      <td>3</td>\n",
       "      <td>1</td>\n",
       "      <td>0</td>\n",
       "      <td>0</td>\n",
       "      <td>1</td>\n",
       "    </tr>\n",
       "    <tr>\n",
       "      <th>4</th>\n",
       "      <td>1096</td>\n",
       "      <td>2012-02-18</td>\n",
       "      <td>Freiburg</td>\n",
       "      <td>D</td>\n",
       "      <td>0</td>\n",
       "      <td>0</td>\n",
       "      <td>1</td>\n",
       "      <td>0</td>\n",
       "      <td>1</td>\n",
       "    </tr>\n",
       "  </tbody>\n",
       "</table>\n",
       "</div>"
      ],
      "text/plain": [
       "   Match_ID        Date       Team FTR  Goals  win  draw  loss  ngames\n",
       "0      1092  2012-03-31   Nurnberg   A      0    0     0     1       1\n",
       "1      1093  2011-12-11  Stuttgart   A      1    0     0     1       1\n",
       "2      1094  2011-08-13  Wolfsburg   A      0    0     0     1       1\n",
       "3      1095  2011-11-27      Mainz   H      3    1     0     0       1\n",
       "4      1096  2012-02-18   Freiburg   D      0    0     1     0       1"
      ]
     },
     "execution_count": 148,
     "metadata": {},
     "output_type": "execute_result"
    }
   ],
   "source": [
    "mhdf.head()"
   ]
  },
  {
   "cell_type": "code",
   "execution_count": 149,
   "metadata": {},
   "outputs": [
    {
     "data": {
      "text/html": [
       "<div>\n",
       "<style scoped>\n",
       "    .dataframe tbody tr th:only-of-type {\n",
       "        vertical-align: middle;\n",
       "    }\n",
       "\n",
       "    .dataframe tbody tr th {\n",
       "        vertical-align: top;\n",
       "    }\n",
       "\n",
       "    .dataframe thead th {\n",
       "        text-align: right;\n",
       "    }\n",
       "</style>\n",
       "<table border=\"1\" class=\"dataframe\">\n",
       "  <thead>\n",
       "    <tr style=\"text-align: right;\">\n",
       "      <th></th>\n",
       "      <th>Match_ID</th>\n",
       "      <th>Div</th>\n",
       "      <th>Season</th>\n",
       "      <th>Date</th>\n",
       "      <th>HomeTeam</th>\n",
       "      <th>AwayTeam</th>\n",
       "      <th>FTHG</th>\n",
       "      <th>FTAG</th>\n",
       "      <th>FTR</th>\n",
       "    </tr>\n",
       "  </thead>\n",
       "  <tbody>\n",
       "    <tr>\n",
       "      <th>1091</th>\n",
       "      <td>1092</td>\n",
       "      <td>D1</td>\n",
       "      <td>2011</td>\n",
       "      <td>2012-03-31</td>\n",
       "      <td>Nurnberg</td>\n",
       "      <td>Bayern Munich</td>\n",
       "      <td>0</td>\n",
       "      <td>1</td>\n",
       "      <td>A</td>\n",
       "    </tr>\n",
       "    <tr>\n",
       "      <th>1092</th>\n",
       "      <td>1093</td>\n",
       "      <td>D1</td>\n",
       "      <td>2011</td>\n",
       "      <td>2011-12-11</td>\n",
       "      <td>Stuttgart</td>\n",
       "      <td>Bayern Munich</td>\n",
       "      <td>1</td>\n",
       "      <td>2</td>\n",
       "      <td>A</td>\n",
       "    </tr>\n",
       "    <tr>\n",
       "      <th>1093</th>\n",
       "      <td>1094</td>\n",
       "      <td>D1</td>\n",
       "      <td>2011</td>\n",
       "      <td>2011-08-13</td>\n",
       "      <td>Wolfsburg</td>\n",
       "      <td>Bayern Munich</td>\n",
       "      <td>0</td>\n",
       "      <td>1</td>\n",
       "      <td>A</td>\n",
       "    </tr>\n",
       "    <tr>\n",
       "      <th>1094</th>\n",
       "      <td>1095</td>\n",
       "      <td>D1</td>\n",
       "      <td>2011</td>\n",
       "      <td>2011-11-27</td>\n",
       "      <td>Mainz</td>\n",
       "      <td>Bayern Munich</td>\n",
       "      <td>3</td>\n",
       "      <td>2</td>\n",
       "      <td>H</td>\n",
       "    </tr>\n",
       "    <tr>\n",
       "      <th>1095</th>\n",
       "      <td>1096</td>\n",
       "      <td>D1</td>\n",
       "      <td>2011</td>\n",
       "      <td>2012-02-18</td>\n",
       "      <td>Freiburg</td>\n",
       "      <td>Bayern Munich</td>\n",
       "      <td>0</td>\n",
       "      <td>0</td>\n",
       "      <td>D</td>\n",
       "    </tr>\n",
       "  </tbody>\n",
       "</table>\n",
       "</div>"
      ],
      "text/plain": [
       "      Match_ID Div  Season        Date   HomeTeam       AwayTeam  FTHG  FTAG  \\\n",
       "1091      1092  D1    2011  2012-03-31   Nurnberg  Bayern Munich     0     1   \n",
       "1092      1093  D1    2011  2011-12-11  Stuttgart  Bayern Munich     1     2   \n",
       "1093      1094  D1    2011  2011-08-13  Wolfsburg  Bayern Munich     0     1   \n",
       "1094      1095  D1    2011  2011-11-27      Mainz  Bayern Munich     3     2   \n",
       "1095      1096  D1    2011  2012-02-18   Freiburg  Bayern Munich     0     0   \n",
       "\n",
       "     FTR  \n",
       "1091   A  \n",
       "1092   A  \n",
       "1093   A  \n",
       "1094   H  \n",
       "1095   D  "
      ]
     },
     "execution_count": 149,
     "metadata": {},
     "output_type": "execute_result"
    }
   ],
   "source": [
    "# Lets look  at the original table to make sure we got all the info\n",
    "matches_df.head()"
   ]
  },
  {
   "cell_type": "markdown",
   "metadata": {},
   "source": [
    "### Let's merger home and away data frames"
   ]
  },
  {
   "cell_type": "code",
   "execution_count": 150,
   "metadata": {},
   "outputs": [],
   "source": [
    "all_matches_df =madf.append(mhdf, ignore_index=True)"
   ]
  },
  {
   "cell_type": "code",
   "execution_count": 151,
   "metadata": {},
   "outputs": [
    {
     "data": {
      "text/html": [
       "<div>\n",
       "<style scoped>\n",
       "    .dataframe tbody tr th:only-of-type {\n",
       "        vertical-align: middle;\n",
       "    }\n",
       "\n",
       "    .dataframe tbody tr th {\n",
       "        vertical-align: top;\n",
       "    }\n",
       "\n",
       "    .dataframe thead th {\n",
       "        text-align: right;\n",
       "    }\n",
       "</style>\n",
       "<table border=\"1\" class=\"dataframe\">\n",
       "  <thead>\n",
       "    <tr style=\"text-align: right;\">\n",
       "      <th></th>\n",
       "      <th>Match_ID</th>\n",
       "      <th>Date</th>\n",
       "      <th>Team</th>\n",
       "      <th>FTR</th>\n",
       "      <th>Goals</th>\n",
       "      <th>win</th>\n",
       "      <th>draw</th>\n",
       "      <th>loss</th>\n",
       "      <th>ngames</th>\n",
       "    </tr>\n",
       "  </thead>\n",
       "  <tbody>\n",
       "    <tr>\n",
       "      <th>0</th>\n",
       "      <td>1092</td>\n",
       "      <td>2012-03-31</td>\n",
       "      <td>Bayern Munich</td>\n",
       "      <td>A</td>\n",
       "      <td>1</td>\n",
       "      <td>1</td>\n",
       "      <td>0</td>\n",
       "      <td>0</td>\n",
       "      <td>1</td>\n",
       "    </tr>\n",
       "    <tr>\n",
       "      <th>992</th>\n",
       "      <td>1092</td>\n",
       "      <td>2012-03-31</td>\n",
       "      <td>Nurnberg</td>\n",
       "      <td>A</td>\n",
       "      <td>0</td>\n",
       "      <td>0</td>\n",
       "      <td>0</td>\n",
       "      <td>1</td>\n",
       "      <td>1</td>\n",
       "    </tr>\n",
       "    <tr>\n",
       "      <th>1</th>\n",
       "      <td>1093</td>\n",
       "      <td>2011-12-11</td>\n",
       "      <td>Bayern Munich</td>\n",
       "      <td>A</td>\n",
       "      <td>2</td>\n",
       "      <td>1</td>\n",
       "      <td>0</td>\n",
       "      <td>0</td>\n",
       "      <td>1</td>\n",
       "    </tr>\n",
       "    <tr>\n",
       "      <th>993</th>\n",
       "      <td>1093</td>\n",
       "      <td>2011-12-11</td>\n",
       "      <td>Stuttgart</td>\n",
       "      <td>A</td>\n",
       "      <td>1</td>\n",
       "      <td>0</td>\n",
       "      <td>0</td>\n",
       "      <td>1</td>\n",
       "      <td>1</td>\n",
       "    </tr>\n",
       "    <tr>\n",
       "      <th>2</th>\n",
       "      <td>1094</td>\n",
       "      <td>2011-08-13</td>\n",
       "      <td>Bayern Munich</td>\n",
       "      <td>A</td>\n",
       "      <td>1</td>\n",
       "      <td>1</td>\n",
       "      <td>0</td>\n",
       "      <td>0</td>\n",
       "      <td>1</td>\n",
       "    </tr>\n",
       "  </tbody>\n",
       "</table>\n",
       "</div>"
      ],
      "text/plain": [
       "     Match_ID        Date           Team FTR  Goals  win  draw  loss  ngames\n",
       "0        1092  2012-03-31  Bayern Munich   A      1    1     0     0       1\n",
       "992      1092  2012-03-31       Nurnberg   A      0    0     0     1       1\n",
       "1        1093  2011-12-11  Bayern Munich   A      2    1     0     0       1\n",
       "993      1093  2011-12-11      Stuttgart   A      1    0     0     1       1\n",
       "2        1094  2011-08-13  Bayern Munich   A      1    1     0     0       1"
      ]
     },
     "execution_count": 151,
     "metadata": {},
     "output_type": "execute_result"
    }
   ],
   "source": [
    "all_matches_df.sort_values('Match_ID').head() #drop Match_ID"
   ]
  },
  {
   "cell_type": "code",
   "execution_count": 170,
   "metadata": {
    "collapsed": true
   },
   "outputs": [
    {
     "ename": "KeyError",
     "evalue": "\"['FTR'] not found in axis\"",
     "output_type": "error",
     "traceback": [
      "\u001b[0;31m---------------------------------------------------------------------------\u001b[0m",
      "\u001b[0;31mKeyError\u001b[0m                                  Traceback (most recent call last)",
      "\u001b[0;32m<ipython-input-170-e7b2a2ac3dd2>\u001b[0m in \u001b[0;36m<module>\u001b[0;34m\u001b[0m\n\u001b[0;32m----> 1\u001b[0;31m \u001b[0mall_matches_df\u001b[0m\u001b[0;34m.\u001b[0m\u001b[0mdrop\u001b[0m\u001b[0;34m(\u001b[0m\u001b[0;34m[\u001b[0m\u001b[0;34m'FTR'\u001b[0m\u001b[0;34m]\u001b[0m\u001b[0;34m,\u001b[0m \u001b[0maxis\u001b[0m\u001b[0;34m=\u001b[0m\u001b[0;36m1\u001b[0m\u001b[0;34m,\u001b[0m \u001b[0minplace\u001b[0m\u001b[0;34m=\u001b[0m\u001b[0;32mTrue\u001b[0m\u001b[0;34m)\u001b[0m\u001b[0;34m\u001b[0m\u001b[0;34m\u001b[0m\u001b[0m\n\u001b[0m",
      "\u001b[0;32m~/anaconda3/lib/python3.6/site-packages/pandas/core/frame.py\u001b[0m in \u001b[0;36mdrop\u001b[0;34m(self, labels, axis, index, columns, level, inplace, errors)\u001b[0m\n\u001b[1;32m   3695\u001b[0m                                            \u001b[0mindex\u001b[0m\u001b[0;34m=\u001b[0m\u001b[0mindex\u001b[0m\u001b[0;34m,\u001b[0m \u001b[0mcolumns\u001b[0m\u001b[0;34m=\u001b[0m\u001b[0mcolumns\u001b[0m\u001b[0;34m,\u001b[0m\u001b[0;34m\u001b[0m\u001b[0;34m\u001b[0m\u001b[0m\n\u001b[1;32m   3696\u001b[0m                                            \u001b[0mlevel\u001b[0m\u001b[0;34m=\u001b[0m\u001b[0mlevel\u001b[0m\u001b[0;34m,\u001b[0m \u001b[0minplace\u001b[0m\u001b[0;34m=\u001b[0m\u001b[0minplace\u001b[0m\u001b[0;34m,\u001b[0m\u001b[0;34m\u001b[0m\u001b[0;34m\u001b[0m\u001b[0m\n\u001b[0;32m-> 3697\u001b[0;31m                                            errors=errors)\n\u001b[0m\u001b[1;32m   3698\u001b[0m \u001b[0;34m\u001b[0m\u001b[0m\n\u001b[1;32m   3699\u001b[0m     @rewrite_axis_style_signature('mapper', [('copy', True),\n",
      "\u001b[0;32m~/anaconda3/lib/python3.6/site-packages/pandas/core/generic.py\u001b[0m in \u001b[0;36mdrop\u001b[0;34m(self, labels, axis, index, columns, level, inplace, errors)\u001b[0m\n\u001b[1;32m   3109\u001b[0m         \u001b[0;32mfor\u001b[0m \u001b[0maxis\u001b[0m\u001b[0;34m,\u001b[0m \u001b[0mlabels\u001b[0m \u001b[0;32min\u001b[0m \u001b[0maxes\u001b[0m\u001b[0;34m.\u001b[0m\u001b[0mitems\u001b[0m\u001b[0;34m(\u001b[0m\u001b[0;34m)\u001b[0m\u001b[0;34m:\u001b[0m\u001b[0;34m\u001b[0m\u001b[0;34m\u001b[0m\u001b[0m\n\u001b[1;32m   3110\u001b[0m             \u001b[0;32mif\u001b[0m \u001b[0mlabels\u001b[0m \u001b[0;32mis\u001b[0m \u001b[0;32mnot\u001b[0m \u001b[0;32mNone\u001b[0m\u001b[0;34m:\u001b[0m\u001b[0;34m\u001b[0m\u001b[0;34m\u001b[0m\u001b[0m\n\u001b[0;32m-> 3111\u001b[0;31m                 \u001b[0mobj\u001b[0m \u001b[0;34m=\u001b[0m \u001b[0mobj\u001b[0m\u001b[0;34m.\u001b[0m\u001b[0m_drop_axis\u001b[0m\u001b[0;34m(\u001b[0m\u001b[0mlabels\u001b[0m\u001b[0;34m,\u001b[0m \u001b[0maxis\u001b[0m\u001b[0;34m,\u001b[0m \u001b[0mlevel\u001b[0m\u001b[0;34m=\u001b[0m\u001b[0mlevel\u001b[0m\u001b[0;34m,\u001b[0m \u001b[0merrors\u001b[0m\u001b[0;34m=\u001b[0m\u001b[0merrors\u001b[0m\u001b[0;34m)\u001b[0m\u001b[0;34m\u001b[0m\u001b[0;34m\u001b[0m\u001b[0m\n\u001b[0m\u001b[1;32m   3112\u001b[0m \u001b[0;34m\u001b[0m\u001b[0m\n\u001b[1;32m   3113\u001b[0m         \u001b[0;32mif\u001b[0m \u001b[0minplace\u001b[0m\u001b[0;34m:\u001b[0m\u001b[0;34m\u001b[0m\u001b[0;34m\u001b[0m\u001b[0m\n",
      "\u001b[0;32m~/anaconda3/lib/python3.6/site-packages/pandas/core/generic.py\u001b[0m in \u001b[0;36m_drop_axis\u001b[0;34m(self, labels, axis, level, errors)\u001b[0m\n\u001b[1;32m   3141\u001b[0m                 \u001b[0mnew_axis\u001b[0m \u001b[0;34m=\u001b[0m \u001b[0maxis\u001b[0m\u001b[0;34m.\u001b[0m\u001b[0mdrop\u001b[0m\u001b[0;34m(\u001b[0m\u001b[0mlabels\u001b[0m\u001b[0;34m,\u001b[0m \u001b[0mlevel\u001b[0m\u001b[0;34m=\u001b[0m\u001b[0mlevel\u001b[0m\u001b[0;34m,\u001b[0m \u001b[0merrors\u001b[0m\u001b[0;34m=\u001b[0m\u001b[0merrors\u001b[0m\u001b[0;34m)\u001b[0m\u001b[0;34m\u001b[0m\u001b[0;34m\u001b[0m\u001b[0m\n\u001b[1;32m   3142\u001b[0m             \u001b[0;32melse\u001b[0m\u001b[0;34m:\u001b[0m\u001b[0;34m\u001b[0m\u001b[0;34m\u001b[0m\u001b[0m\n\u001b[0;32m-> 3143\u001b[0;31m                 \u001b[0mnew_axis\u001b[0m \u001b[0;34m=\u001b[0m \u001b[0maxis\u001b[0m\u001b[0;34m.\u001b[0m\u001b[0mdrop\u001b[0m\u001b[0;34m(\u001b[0m\u001b[0mlabels\u001b[0m\u001b[0;34m,\u001b[0m \u001b[0merrors\u001b[0m\u001b[0;34m=\u001b[0m\u001b[0merrors\u001b[0m\u001b[0;34m)\u001b[0m\u001b[0;34m\u001b[0m\u001b[0;34m\u001b[0m\u001b[0m\n\u001b[0m\u001b[1;32m   3144\u001b[0m             \u001b[0mresult\u001b[0m \u001b[0;34m=\u001b[0m \u001b[0mself\u001b[0m\u001b[0;34m.\u001b[0m\u001b[0mreindex\u001b[0m\u001b[0;34m(\u001b[0m\u001b[0;34m**\u001b[0m\u001b[0;34m{\u001b[0m\u001b[0maxis_name\u001b[0m\u001b[0;34m:\u001b[0m \u001b[0mnew_axis\u001b[0m\u001b[0;34m}\u001b[0m\u001b[0;34m)\u001b[0m\u001b[0;34m\u001b[0m\u001b[0;34m\u001b[0m\u001b[0m\n\u001b[1;32m   3145\u001b[0m \u001b[0;34m\u001b[0m\u001b[0m\n",
      "\u001b[0;32m~/anaconda3/lib/python3.6/site-packages/pandas/core/indexes/base.py\u001b[0m in \u001b[0;36mdrop\u001b[0;34m(self, labels, errors)\u001b[0m\n\u001b[1;32m   4402\u001b[0m             \u001b[0;32mif\u001b[0m \u001b[0merrors\u001b[0m \u001b[0;34m!=\u001b[0m \u001b[0;34m'ignore'\u001b[0m\u001b[0;34m:\u001b[0m\u001b[0;34m\u001b[0m\u001b[0;34m\u001b[0m\u001b[0m\n\u001b[1;32m   4403\u001b[0m                 raise KeyError(\n\u001b[0;32m-> 4404\u001b[0;31m                     '{} not found in axis'.format(labels[mask]))\n\u001b[0m\u001b[1;32m   4405\u001b[0m             \u001b[0mindexer\u001b[0m \u001b[0;34m=\u001b[0m \u001b[0mindexer\u001b[0m\u001b[0;34m[\u001b[0m\u001b[0;34m~\u001b[0m\u001b[0mmask\u001b[0m\u001b[0;34m]\u001b[0m\u001b[0;34m\u001b[0m\u001b[0;34m\u001b[0m\u001b[0m\n\u001b[1;32m   4406\u001b[0m         \u001b[0;32mreturn\u001b[0m \u001b[0mself\u001b[0m\u001b[0;34m.\u001b[0m\u001b[0mdelete\u001b[0m\u001b[0;34m(\u001b[0m\u001b[0mindexer\u001b[0m\u001b[0;34m)\u001b[0m\u001b[0;34m\u001b[0m\u001b[0;34m\u001b[0m\u001b[0m\n",
      "\u001b[0;31mKeyError\u001b[0m: \"['FTR'] not found in axis\""
     ]
    }
   ],
   "source": [
    "all_matches_df.drop(['FTR'], axis=1, inplace=True)"
   ]
  },
  {
   "cell_type": "code",
   "execution_count": 186,
   "metadata": {},
   "outputs": [
    {
     "data": {
      "text/html": [
       "<div>\n",
       "<style scoped>\n",
       "    .dataframe tbody tr th:only-of-type {\n",
       "        vertical-align: middle;\n",
       "    }\n",
       "\n",
       "    .dataframe tbody tr th {\n",
       "        vertical-align: top;\n",
       "    }\n",
       "\n",
       "    .dataframe thead th {\n",
       "        text-align: right;\n",
       "    }\n",
       "</style>\n",
       "<table border=\"1\" class=\"dataframe\">\n",
       "  <thead>\n",
       "    <tr style=\"text-align: right;\">\n",
       "      <th></th>\n",
       "      <th>Match_ID</th>\n",
       "      <th>Date</th>\n",
       "      <th>Team</th>\n",
       "      <th>Goals</th>\n",
       "      <th>win</th>\n",
       "      <th>draw</th>\n",
       "      <th>loss</th>\n",
       "      <th>ngames</th>\n",
       "    </tr>\n",
       "  </thead>\n",
       "  <tbody>\n",
       "    <tr>\n",
       "      <th>0</th>\n",
       "      <td>1092</td>\n",
       "      <td>2012-03-31</td>\n",
       "      <td>Bayern Munich</td>\n",
       "      <td>1</td>\n",
       "      <td>1</td>\n",
       "      <td>0</td>\n",
       "      <td>0</td>\n",
       "      <td>1</td>\n",
       "    </tr>\n",
       "    <tr>\n",
       "      <th>1</th>\n",
       "      <td>1093</td>\n",
       "      <td>2011-12-11</td>\n",
       "      <td>Bayern Munich</td>\n",
       "      <td>2</td>\n",
       "      <td>1</td>\n",
       "      <td>0</td>\n",
       "      <td>0</td>\n",
       "      <td>1</td>\n",
       "    </tr>\n",
       "    <tr>\n",
       "      <th>2</th>\n",
       "      <td>1094</td>\n",
       "      <td>2011-08-13</td>\n",
       "      <td>Bayern Munich</td>\n",
       "      <td>1</td>\n",
       "      <td>1</td>\n",
       "      <td>0</td>\n",
       "      <td>0</td>\n",
       "      <td>1</td>\n",
       "    </tr>\n",
       "    <tr>\n",
       "      <th>3</th>\n",
       "      <td>1095</td>\n",
       "      <td>2011-11-27</td>\n",
       "      <td>Bayern Munich</td>\n",
       "      <td>2</td>\n",
       "      <td>0</td>\n",
       "      <td>0</td>\n",
       "      <td>1</td>\n",
       "      <td>1</td>\n",
       "    </tr>\n",
       "    <tr>\n",
       "      <th>4</th>\n",
       "      <td>1096</td>\n",
       "      <td>2012-02-18</td>\n",
       "      <td>Bayern Munich</td>\n",
       "      <td>0</td>\n",
       "      <td>0</td>\n",
       "      <td>1</td>\n",
       "      <td>0</td>\n",
       "      <td>1</td>\n",
       "    </tr>\n",
       "  </tbody>\n",
       "</table>\n",
       "</div>"
      ],
      "text/plain": [
       "   Match_ID        Date           Team  Goals  win  draw  loss  ngames\n",
       "0      1092  2012-03-31  Bayern Munich      1    1     0     0       1\n",
       "1      1093  2011-12-11  Bayern Munich      2    1     0     0       1\n",
       "2      1094  2011-08-13  Bayern Munich      1    1     0     0       1\n",
       "3      1095  2011-11-27  Bayern Munich      2    0     0     1       1\n",
       "4      1096  2012-02-18  Bayern Munich      0    0     1     0       1"
      ]
     },
     "execution_count": 186,
     "metadata": {},
     "output_type": "execute_result"
    }
   ],
   "source": [
    "all_matches_df.head()"
   ]
  },
  {
   "cell_type": "markdown",
   "metadata": {},
   "source": [
    "## Group by Team and add some results"
   ]
  },
  {
   "cell_type": "code",
   "execution_count": 192,
   "metadata": {},
   "outputs": [],
   "source": [
    "teams_df = all_matches_df.groupby('Team').sum()"
   ]
  },
  {
   "cell_type": "code",
   "execution_count": 164,
   "metadata": {},
   "outputs": [],
   "source": [
    "import matplotlib.pyplot as plt\n",
    "%matplotlib inline\n"
   ]
  },
  {
   "cell_type": "code",
   "execution_count": 193,
   "metadata": {},
   "outputs": [
    {
     "data": {
      "text/html": [
       "<div>\n",
       "<style scoped>\n",
       "    .dataframe tbody tr th:only-of-type {\n",
       "        vertical-align: middle;\n",
       "    }\n",
       "\n",
       "    .dataframe tbody tr th {\n",
       "        vertical-align: top;\n",
       "    }\n",
       "\n",
       "    .dataframe thead th {\n",
       "        text-align: right;\n",
       "    }\n",
       "</style>\n",
       "<table border=\"1\" class=\"dataframe\">\n",
       "  <thead>\n",
       "    <tr style=\"text-align: right;\">\n",
       "      <th></th>\n",
       "      <th>Team</th>\n",
       "      <th>Match_ID</th>\n",
       "      <th>Goals</th>\n",
       "      <th>win</th>\n",
       "      <th>draw</th>\n",
       "      <th>loss</th>\n",
       "      <th>ngames</th>\n",
       "    </tr>\n",
       "  </thead>\n",
       "  <tbody>\n",
       "    <tr>\n",
       "      <th>0</th>\n",
       "      <td>Aachen</td>\n",
       "      <td>50982</td>\n",
       "      <td>30</td>\n",
       "      <td>6</td>\n",
       "      <td>13</td>\n",
       "      <td>15</td>\n",
       "      <td>34</td>\n",
       "    </tr>\n",
       "    <tr>\n",
       "      <th>1</th>\n",
       "      <td>Arsenal</td>\n",
       "      <td>1697948</td>\n",
       "      <td>74</td>\n",
       "      <td>21</td>\n",
       "      <td>7</td>\n",
       "      <td>10</td>\n",
       "      <td>38</td>\n",
       "    </tr>\n",
       "    <tr>\n",
       "      <th>2</th>\n",
       "      <td>Aston Villa</td>\n",
       "      <td>1697973</td>\n",
       "      <td>37</td>\n",
       "      <td>7</td>\n",
       "      <td>17</td>\n",
       "      <td>14</td>\n",
       "      <td>38</td>\n",
       "    </tr>\n",
       "    <tr>\n",
       "      <th>3</th>\n",
       "      <td>Augsburg</td>\n",
       "      <td>50056</td>\n",
       "      <td>36</td>\n",
       "      <td>8</td>\n",
       "      <td>14</td>\n",
       "      <td>12</td>\n",
       "      <td>34</td>\n",
       "    </tr>\n",
       "    <tr>\n",
       "      <th>4</th>\n",
       "      <td>Bayern Munich</td>\n",
       "      <td>41598</td>\n",
       "      <td>77</td>\n",
       "      <td>23</td>\n",
       "      <td>4</td>\n",
       "      <td>7</td>\n",
       "      <td>34</td>\n",
       "    </tr>\n",
       "  </tbody>\n",
       "</table>\n",
       "</div>"
      ],
      "text/plain": [
       "            Team  Match_ID  Goals  win  draw  loss  ngames\n",
       "0         Aachen     50982     30    6    13    15      34\n",
       "1        Arsenal   1697948     74   21     7    10      38\n",
       "2    Aston Villa   1697973     37    7    17    14      38\n",
       "3       Augsburg     50056     36    8    14    12      34\n",
       "4  Bayern Munich     41598     77   23     4     7      34"
      ]
     },
     "execution_count": 193,
     "metadata": {},
     "output_type": "execute_result"
    }
   ],
   "source": [
    "teams_df = teams_df.reset_index()\n",
    "teams_df.head()"
   ]
  },
  {
   "cell_type": "code",
   "execution_count": 194,
   "metadata": {},
   "outputs": [],
   "source": [
    "teams_df.drop(['Match_ID'],axis=1, inplace=True)"
   ]
  },
  {
   "cell_type": "markdown",
   "metadata": {},
   "source": [
    "## Let's get the weather data for the current time"
   ]
  },
  {
   "cell_type": "code",
   "execution_count": 224,
   "metadata": {},
   "outputs": [],
   "source": [
    "import requests"
   ]
  },
  {
   "cell_type": "code",
   "execution_count": 225,
   "metadata": {},
   "outputs": [],
   "source": [
    "# test just one item\n",
    "api = 'https://api.darksky.net/forecast/fe771b58337035ba61e0a4da32b20ab8/52.5200,13.4050'"
   ]
  },
  {
   "cell_type": "code",
   "execution_count": 226,
   "metadata": {},
   "outputs": [
    {
     "data": {
      "text/plain": [
       "requests.models.Response"
      ]
     },
     "execution_count": 226,
     "metadata": {},
     "output_type": "execute_result"
    }
   ],
   "source": [
    "r = requests.get(api) #put url here in the bananas!\n",
    "type(r)"
   ]
  },
  {
   "cell_type": "code",
   "execution_count": 229,
   "metadata": {},
   "outputs": [],
   "source": [
    "wdata = r.json()"
   ]
  },
  {
   "cell_type": "code",
   "execution_count": 230,
   "metadata": {},
   "outputs": [
    {
     "data": {
      "text/plain": [
       "dict_keys(['latitude', 'longitude', 'timezone', 'currently', 'hourly', 'daily', 'flags', 'offset'])"
      ]
     },
     "execution_count": 230,
     "metadata": {},
     "output_type": "execute_result"
    }
   ],
   "source": [
    "wdata.keys()"
   ]
  },
  {
   "cell_type": "code",
   "execution_count": 234,
   "metadata": {},
   "outputs": [
    {
     "data": {
      "text/plain": [
       "1558476000"
      ]
     },
     "execution_count": 234,
     "metadata": {},
     "output_type": "execute_result"
    }
   ],
   "source": [
    "wdata['daily']['data'][0]['time']"
   ]
  },
  {
   "cell_type": "code",
   "execution_count": 238,
   "metadata": {},
   "outputs": [
    {
     "data": {
      "text/plain": [
       "165"
      ]
     },
     "execution_count": 238,
     "metadata": {},
     "output_type": "execute_result"
    }
   ],
   "source": [
    "# We will need to get the weather data for the day of the matches, so we will need to convert the date to unix time\n",
    "1312160400\n",
    "\n",
    "matches_df['Date']"
   ]
  },
  {
   "cell_type": "code",
   "execution_count": 239,
   "metadata": {},
   "outputs": [],
   "source": [
    "import datetime"
   ]
  },
  {
   "cell_type": "code",
   "execution_count": 304,
   "metadata": {},
   "outputs": [],
   "source": [
    "matches_df['mydate'] = pd.to_datetime(matches_df['Date'])"
   ]
  },
  {
   "cell_type": "code",
   "execution_count": 313,
   "metadata": {},
   "outputs": [
    {
     "data": {
      "text/html": [
       "<div>\n",
       "<style scoped>\n",
       "    .dataframe tbody tr th:only-of-type {\n",
       "        vertical-align: middle;\n",
       "    }\n",
       "\n",
       "    .dataframe tbody tr th {\n",
       "        vertical-align: top;\n",
       "    }\n",
       "\n",
       "    .dataframe thead th {\n",
       "        text-align: right;\n",
       "    }\n",
       "</style>\n",
       "<table border=\"1\" class=\"dataframe\">\n",
       "  <thead>\n",
       "    <tr style=\"text-align: right;\">\n",
       "      <th></th>\n",
       "      <th>Match_ID</th>\n",
       "      <th>Div</th>\n",
       "      <th>Season</th>\n",
       "      <th>Date</th>\n",
       "      <th>HomeTeam</th>\n",
       "      <th>AwayTeam</th>\n",
       "      <th>FTHG</th>\n",
       "      <th>FTAG</th>\n",
       "      <th>FTR</th>\n",
       "      <th>mydate</th>\n",
       "      <th>epoch</th>\n",
       "    </tr>\n",
       "  </thead>\n",
       "  <tbody>\n",
       "    <tr>\n",
       "      <th>1091</th>\n",
       "      <td>1092</td>\n",
       "      <td>D1</td>\n",
       "      <td>2011</td>\n",
       "      <td>2012-03-31</td>\n",
       "      <td>Nurnberg</td>\n",
       "      <td>Bayern Munich</td>\n",
       "      <td>0</td>\n",
       "      <td>1</td>\n",
       "      <td>A</td>\n",
       "      <td>2012-03-31</td>\n",
       "      <td>1.333152e+09</td>\n",
       "    </tr>\n",
       "    <tr>\n",
       "      <th>1092</th>\n",
       "      <td>1093</td>\n",
       "      <td>D1</td>\n",
       "      <td>2011</td>\n",
       "      <td>2011-12-11</td>\n",
       "      <td>Stuttgart</td>\n",
       "      <td>Bayern Munich</td>\n",
       "      <td>1</td>\n",
       "      <td>2</td>\n",
       "      <td>A</td>\n",
       "      <td>2011-12-11</td>\n",
       "      <td>1.323562e+09</td>\n",
       "    </tr>\n",
       "    <tr>\n",
       "      <th>1093</th>\n",
       "      <td>1094</td>\n",
       "      <td>D1</td>\n",
       "      <td>2011</td>\n",
       "      <td>2011-08-13</td>\n",
       "      <td>Wolfsburg</td>\n",
       "      <td>Bayern Munich</td>\n",
       "      <td>0</td>\n",
       "      <td>1</td>\n",
       "      <td>A</td>\n",
       "      <td>2011-08-13</td>\n",
       "      <td>1.313194e+09</td>\n",
       "    </tr>\n",
       "    <tr>\n",
       "      <th>1094</th>\n",
       "      <td>1095</td>\n",
       "      <td>D1</td>\n",
       "      <td>2011</td>\n",
       "      <td>2011-11-27</td>\n",
       "      <td>Mainz</td>\n",
       "      <td>Bayern Munich</td>\n",
       "      <td>3</td>\n",
       "      <td>2</td>\n",
       "      <td>H</td>\n",
       "      <td>2011-11-27</td>\n",
       "      <td>1.322352e+09</td>\n",
       "    </tr>\n",
       "    <tr>\n",
       "      <th>1095</th>\n",
       "      <td>1096</td>\n",
       "      <td>D1</td>\n",
       "      <td>2011</td>\n",
       "      <td>2012-02-18</td>\n",
       "      <td>Freiburg</td>\n",
       "      <td>Bayern Munich</td>\n",
       "      <td>0</td>\n",
       "      <td>0</td>\n",
       "      <td>D</td>\n",
       "      <td>2012-02-18</td>\n",
       "      <td>1.329523e+09</td>\n",
       "    </tr>\n",
       "  </tbody>\n",
       "</table>\n",
       "</div>"
      ],
      "text/plain": [
       "      Match_ID Div  Season        Date   HomeTeam       AwayTeam  FTHG  FTAG  \\\n",
       "1091      1092  D1    2011  2012-03-31   Nurnberg  Bayern Munich     0     1   \n",
       "1092      1093  D1    2011  2011-12-11  Stuttgart  Bayern Munich     1     2   \n",
       "1093      1094  D1    2011  2011-08-13  Wolfsburg  Bayern Munich     0     1   \n",
       "1094      1095  D1    2011  2011-11-27      Mainz  Bayern Munich     3     2   \n",
       "1095      1096  D1    2011  2012-02-18   Freiburg  Bayern Munich     0     0   \n",
       "\n",
       "     FTR     mydate         epoch  \n",
       "1091   A 2012-03-31  1.333152e+09  \n",
       "1092   A 2011-12-11  1.323562e+09  \n",
       "1093   A 2011-08-13  1.313194e+09  \n",
       "1094   H 2011-11-27  1.322352e+09  \n",
       "1095   D 2012-02-18  1.329523e+09  "
      ]
     },
     "execution_count": 313,
     "metadata": {},
     "output_type": "execute_result"
    }
   ],
   "source": [
    "# matches_df['epoch'] = matches_df.mydate.astype('datetime64[s]').astype(int)\n",
    "matches_df['epoch'] = matches_df.mydate.astype(int)\n",
    "matches_df['epoch'] = matches_df['epoch']/1e9\n",
    "matches_df.head()\n",
    "# matches_df.info()"
   ]
  },
  {
   "cell_type": "markdown",
   "metadata": {},
   "source": [
    "### Let's try the first date"
   ]
  },
  {
   "cell_type": "code",
   "execution_count": 262,
   "metadata": {},
   "outputs": [],
   "source": [
    "api = 'https://api.darksky.net/forecast/fe771b58337035ba61e0a4da32b20ab8/52.5200,13.4050,'+ str(epoch)"
   ]
  },
  {
   "cell_type": "code",
   "execution_count": 252,
   "metadata": {
    "scrolled": true
   },
   "outputs": [
    {
     "data": {
      "text/plain": [
       "'https://api.darksky.net/forecast/fe771b58337035ba61e0a4da32b20ab8/52.5200,13.4050,1333152000'"
      ]
     },
     "execution_count": 252,
     "metadata": {},
     "output_type": "execute_result"
    }
   ],
   "source": [
    "api"
   ]
  },
  {
   "cell_type": "code",
   "execution_count": 263,
   "metadata": {},
   "outputs": [],
   "source": [
    "r = requests.get(api) #"
   ]
  },
  {
   "cell_type": "code",
   "execution_count": 254,
   "metadata": {},
   "outputs": [],
   "source": [
    "wdata = r.json()"
   ]
  },
  {
   "cell_type": "code",
   "execution_count": 265,
   "metadata": {},
   "outputs": [
    {
     "name": "stdout",
     "output_type": "stream",
     "text": [
      "<Response [200]>\n"
     ]
    },
    {
     "data": {
      "text/plain": [
       "200"
      ]
     },
     "execution_count": 265,
     "metadata": {},
     "output_type": "execute_result"
    }
   ],
   "source": [
    "print(r)\n",
    "r.status_code"
   ]
  },
  {
   "cell_type": "markdown",
   "metadata": {},
   "source": [
    "### Inspect the json data from the API"
   ]
  },
  {
   "cell_type": "code",
   "execution_count": 255,
   "metadata": {},
   "outputs": [
    {
     "data": {
      "text/plain": [
       "dict_keys(['latitude', 'longitude', 'timezone', 'currently', 'hourly', 'daily', 'flags', 'offset'])"
      ]
     },
     "execution_count": 255,
     "metadata": {},
     "output_type": "execute_result"
    }
   ],
   "source": [
    "wdata.keys()"
   ]
  },
  {
   "cell_type": "code",
   "execution_count": 256,
   "metadata": {},
   "outputs": [
    {
     "data": {
      "text/plain": [
       "{'data': [{'time': 1333144800,\n",
       "   'summary': 'Breezy until afternoon and mostly cloudy throughout the day.',\n",
       "   'icon': 'wind',\n",
       "   'sunriseTime': 1333168981,\n",
       "   'sunsetTime': 1333215601,\n",
       "   'moonPhase': 0.27,\n",
       "   'precipIntensity': 0.0003,\n",
       "   'precipIntensityMax': 0.0029,\n",
       "   'precipIntensityMaxTime': 1333180800,\n",
       "   'precipProbability': 0.56,\n",
       "   'precipType': 'rain',\n",
       "   'temperatureHigh': 44.62,\n",
       "   'temperatureHighTime': 1333188000,\n",
       "   'temperatureLow': 30.12,\n",
       "   'temperatureLowTime': 1333256400,\n",
       "   'apparentTemperatureHigh': 36.57,\n",
       "   'apparentTemperatureHighTime': 1333188000,\n",
       "   'apparentTemperatureLow': 24.07,\n",
       "   'apparentTemperatureLowTime': 1333256400,\n",
       "   'dewPoint': 33.52,\n",
       "   'humidity': 0.7,\n",
       "   'windSpeed': 15.81,\n",
       "   'windGust': 40.27,\n",
       "   'windGustTime': 1333162800,\n",
       "   'windBearing': 302,\n",
       "   'cloudCover': 0.71,\n",
       "   'uvIndex': 3,\n",
       "   'uvIndexTime': 1333184400,\n",
       "   'visibility': 6.13,\n",
       "   'temperatureMin': 38.69,\n",
       "   'temperatureMinTime': 1333202400,\n",
       "   'temperatureMax': 46.44,\n",
       "   'temperatureMaxTime': 1333144800,\n",
       "   'apparentTemperatureMin': 31.39,\n",
       "   'apparentTemperatureMinTime': 1333202400,\n",
       "   'apparentTemperatureMax': 40.37,\n",
       "   'apparentTemperatureMaxTime': 1333144800}]}"
      ]
     },
     "execution_count": 256,
     "metadata": {},
     "output_type": "execute_result"
    }
   ],
   "source": [
    "wdata['daily']"
   ]
  },
  {
   "cell_type": "code",
   "execution_count": null,
   "metadata": {},
   "outputs": [],
   "source": []
  },
  {
   "cell_type": "code",
   "execution_count": null,
   "metadata": {},
   "outputs": [],
   "source": []
  },
  {
   "cell_type": "code",
   "execution_count": 314,
   "metadata": {},
   "outputs": [],
   "source": [
    "unique_dates = matches_df['epoch'].unique()"
   ]
  },
  {
   "cell_type": "code",
   "execution_count": 315,
   "metadata": {},
   "outputs": [
    {
     "data": {
      "text/plain": [
       "1333152000.0"
      ]
     },
     "execution_count": 315,
     "metadata": {},
     "output_type": "execute_result"
    }
   ],
   "source": [
    "len(unique_dates)\n",
    "unique_dates[0]"
   ]
  },
  {
   "cell_type": "code",
   "execution_count": 379,
   "metadata": {},
   "outputs": [],
   "source": [
    "\"\"\"\n",
    "    Function to get the weather for the epoch (unix time)\n",
    "    and return 0 if it determines it is not raining\n",
    "    or 1 if it is raining\n",
    "\"\"\"\n",
    "def get_weather(epoch):\n",
    "    api = 'https://api.darksky.net/forecast/fe771b58337035ba61e0a4da32b20ab8/52.5200,13.4050,'+ str(epoch)\n",
    "    print(api)\n",
    "    \n",
    "    r = requests.get(api)\n",
    "    if r.status_code == requests.codes.OK:\n",
    "        wdata = r.json()\n",
    "        precipIntensity = wdata['daily']['data'][0]['precipIntensity']\n",
    "        if precipIntensity == 0:\n",
    "            return 0\n",
    "        precipProbability = wdata['daily']['data'][0]['precipProbability']\n",
    "        if precipProbability<0.25:\n",
    "            return 0\n",
    "        precipType = wdata['daily']['data'][0]['precipType']\n",
    "        if precipType == 'rain' or precipType == 'sleet':\n",
    "            return 1\n",
    "        else:\n",
    "            return 0\n",
    "        \n",
    "    "
   ]
  },
  {
   "cell_type": "code",
   "execution_count": 380,
   "metadata": {
    "scrolled": false
   },
   "outputs": [
    {
     "name": "stdout",
     "output_type": "stream",
     "text": [
      "1333152000.0\n",
      "https://api.darksky.net/forecast/fe771b58337035ba61e0a4da32b20ab8/52.5200,13.4050,1333152000\n",
      "1323561600.0\n",
      "https://api.darksky.net/forecast/fe771b58337035ba61e0a4da32b20ab8/52.5200,13.4050,1323561600\n",
      "1313193600.0\n",
      "https://api.darksky.net/forecast/fe771b58337035ba61e0a4da32b20ab8/52.5200,13.4050,1313193600\n",
      "1322352000.0\n",
      "https://api.darksky.net/forecast/fe771b58337035ba61e0a4da32b20ab8/52.5200,13.4050,1322352000\n",
      "1329523200.0\n",
      "https://api.darksky.net/forecast/fe771b58337035ba61e0a4da32b20ab8/52.5200,13.4050,1329523200\n",
      "1327017600.0\n",
      "https://api.darksky.net/forecast/fe771b58337035ba61e0a4da32b20ab8/52.5200,13.4050,1327017600\n",
      "1328313600.0\n",
      "https://api.darksky.net/forecast/fe771b58337035ba61e0a4da32b20ab8/52.5200,13.4050,1328313600\n",
      "1334966400.0\n",
      "https://api.darksky.net/forecast/fe771b58337035ba61e0a4da32b20ab8/52.5200,13.4050,1334966400\n",
      "1316304000.0\n",
      "https://api.darksky.net/forecast/fe771b58337035ba61e0a4da32b20ab8/52.5200,13.4050,1316304000\n",
      "1319328000.0\n",
      "https://api.darksky.net/forecast/fe771b58337035ba61e0a4da32b20ab8/52.5200,13.4050,1319328000\n",
      "1317427200.0\n",
      "https://api.darksky.net/forecast/fe771b58337035ba61e0a4da32b20ab8/52.5200,13.4050,1317427200\n",
      "1330732800.0\n",
      "https://api.darksky.net/forecast/fe771b58337035ba61e0a4da32b20ab8/52.5200,13.4050,1330732800\n",
      "1314403200.0\n",
      "https://api.darksky.net/forecast/fe771b58337035ba61e0a4da32b20ab8/52.5200,13.4050,1314403200\n",
      "1331942400.0\n",
      "https://api.darksky.net/forecast/fe771b58337035ba61e0a4da32b20ab8/52.5200,13.4050,1331942400\n",
      "1320537600.0\n",
      "https://api.darksky.net/forecast/fe771b58337035ba61e0a4da32b20ab8/52.5200,13.4050,1320537600\n",
      "1336176000.0\n",
      "https://api.darksky.net/forecast/fe771b58337035ba61e0a4da32b20ab8/52.5200,13.4050,1336176000\n",
      "1334102400.0\n",
      "https://api.darksky.net/forecast/fe771b58337035ba61e0a4da32b20ab8/52.5200,13.4050,1334102400\n",
      "1324080000.0\n",
      "https://api.darksky.net/forecast/fe771b58337035ba61e0a4da32b20ab8/52.5200,13.4050,1324080000\n",
      "1328227200.0\n",
      "https://api.darksky.net/forecast/fe771b58337035ba61e0a4da32b20ab8/52.5200,13.4050,1328227200\n",
      "1319846400.0\n",
      "https://api.darksky.net/forecast/fe771b58337035ba61e0a4da32b20ab8/52.5200,13.4050,1319846400\n",
      "1327190400.0\n",
      "https://api.darksky.net/forecast/fe771b58337035ba61e0a4da32b20ab8/52.5200,13.4050,1327190400\n",
      "1322870400.0\n",
      "https://api.darksky.net/forecast/fe771b58337035ba61e0a4da32b20ab8/52.5200,13.4050,1322870400\n",
      "1334361600.0\n",
      "https://api.darksky.net/forecast/fe771b58337035ba61e0a4da32b20ab8/52.5200,13.4050,1334361600\n",
      "1332633600.0\n",
      "https://api.darksky.net/forecast/fe771b58337035ba61e0a4da32b20ab8/52.5200,13.4050,1332633600\n",
      "1331337600.0\n",
      "https://api.darksky.net/forecast/fe771b58337035ba61e0a4da32b20ab8/52.5200,13.4050,1331337600\n",
      "1333756800.0\n",
      "https://api.darksky.net/forecast/fe771b58337035ba61e0a4da32b20ab8/52.5200,13.4050,1333756800\n",
      "1321660800.0\n",
      "https://api.darksky.net/forecast/fe771b58337035ba61e0a4da32b20ab8/52.5200,13.4050,1321660800\n",
      "1318550400.0\n",
      "https://api.darksky.net/forecast/fe771b58337035ba61e0a4da32b20ab8/52.5200,13.4050,1318550400\n",
      "1316822400.0\n",
      "https://api.darksky.net/forecast/fe771b58337035ba61e0a4da32b20ab8/52.5200,13.4050,1316822400\n",
      "1335571200.0\n",
      "https://api.darksky.net/forecast/fe771b58337035ba61e0a4da32b20ab8/52.5200,13.4050,1335571200\n",
      "1324166400.0\n",
      "https://api.darksky.net/forecast/fe771b58337035ba61e0a4da32b20ab8/52.5200,13.4050,1324166400\n",
      "1330646400.0\n",
      "https://api.darksky.net/forecast/fe771b58337035ba61e0a4da32b20ab8/52.5200,13.4050,1330646400\n",
      "1331856000.0\n",
      "https://api.darksky.net/forecast/fe771b58337035ba61e0a4da32b20ab8/52.5200,13.4050,1331856000\n",
      "1329436800.0\n",
      "https://api.darksky.net/forecast/fe771b58337035ba61e0a4da32b20ab8/52.5200,13.4050,1329436800\n",
      "1312588800.0\n",
      "https://api.darksky.net/forecast/fe771b58337035ba61e0a4da32b20ab8/52.5200,13.4050,1312588800\n",
      "1320364800.0\n",
      "https://api.darksky.net/forecast/fe771b58337035ba61e0a4da32b20ab8/52.5200,13.4050,1320364800\n",
      "1316131200.0\n",
      "https://api.darksky.net/forecast/fe771b58337035ba61e0a4da32b20ab8/52.5200,13.4050,1316131200\n",
      "1310688000.0\n",
      "https://api.darksky.net/forecast/fe771b58337035ba61e0a4da32b20ab8/52.5200,13.4050,1310688000\n",
      "1336262400.0\n",
      "https://api.darksky.net/forecast/fe771b58337035ba61e0a4da32b20ab8/52.5200,13.4050,1336262400\n",
      "1328918400.0\n",
      "https://api.darksky.net/forecast/fe771b58337035ba61e0a4da32b20ab8/52.5200,13.4050,1328918400\n",
      "1317513600.0\n",
      "https://api.darksky.net/forecast/fe771b58337035ba61e0a4da32b20ab8/52.5200,13.4050,1317513600\n",
      "1333065600.0\n",
      "https://api.darksky.net/forecast/fe771b58337035ba61e0a4da32b20ab8/52.5200,13.4050,1333065600\n",
      "1319241600.0\n",
      "https://api.darksky.net/forecast/fe771b58337035ba61e0a4da32b20ab8/52.5200,13.4050,1319241600\n",
      "1314316800.0\n",
      "https://api.darksky.net/forecast/fe771b58337035ba61e0a4da32b20ab8/52.5200,13.4050,1314316800\n",
      "1312675200.0\n",
      "https://api.darksky.net/forecast/fe771b58337035ba61e0a4da32b20ab8/52.5200,13.4050,1312675200\n",
      "1330041600.0\n",
      "https://api.darksky.net/forecast/fe771b58337035ba61e0a4da32b20ab8/52.5200,13.4050,1330041600\n",
      "1310860800.0\n",
      "https://api.darksky.net/forecast/fe771b58337035ba61e0a4da32b20ab8/52.5200,13.4050,1310860800\n",
      "1329004800.0\n",
      "https://api.darksky.net/forecast/fe771b58337035ba61e0a4da32b20ab8/52.5200,13.4050,1329004800\n",
      "1313971200.0\n",
      "https://api.darksky.net/forecast/fe771b58337035ba61e0a4da32b20ab8/52.5200,13.4050,1313971200\n",
      "1315526400.0\n",
      "https://api.darksky.net/forecast/fe771b58337035ba61e0a4da32b20ab8/52.5200,13.4050,1315526400\n",
      "1333238400.0\n",
      "https://api.darksky.net/forecast/fe771b58337035ba61e0a4da32b20ab8/52.5200,13.4050,1333238400\n",
      "1316908800.0\n",
      "https://api.darksky.net/forecast/fe771b58337035ba61e0a4da32b20ab8/52.5200,13.4050,1316908800\n",
      "1334880000.0\n",
      "https://api.darksky.net/forecast/fe771b58337035ba61e0a4da32b20ab8/52.5200,13.4050,1334880000\n",
      "1322179200.0\n",
      "https://api.darksky.net/forecast/fe771b58337035ba61e0a4da32b20ab8/52.5200,13.4050,1322179200\n",
      "1331251200.0\n",
      "https://api.darksky.net/forecast/fe771b58337035ba61e0a4da32b20ab8/52.5200,13.4050,1331251200\n",
      "1320624000.0\n",
      "https://api.darksky.net/forecast/fe771b58337035ba61e0a4da32b20ab8/52.5200,13.4050,1320624000\n",
      "1315612800.0\n",
      "https://api.darksky.net/forecast/fe771b58337035ba61e0a4da32b20ab8/52.5200,13.4050,1315612800\n",
      "1313884800.0\n",
      "https://api.darksky.net/forecast/fe771b58337035ba61e0a4da32b20ab8/52.5200,13.4050,1313884800\n",
      "1316995200.0\n",
      "https://api.darksky.net/forecast/fe771b58337035ba61e0a4da32b20ab8/52.5200,13.4050,1316995200\n",
      "1332720000.0\n",
      "https://api.darksky.net/forecast/fe771b58337035ba61e0a4da32b20ab8/52.5200,13.4050,1332720000\n",
      "1319932800.0\n",
      "https://api.darksky.net/forecast/fe771b58337035ba61e0a4da32b20ab8/52.5200,13.4050,1319932800\n",
      "1329091200.0\n",
      "https://api.darksky.net/forecast/fe771b58337035ba61e0a4da32b20ab8/52.5200,13.4050,1329091200\n",
      "1330214400.0\n",
      "https://api.darksky.net/forecast/fe771b58337035ba61e0a4da32b20ab8/52.5200,13.4050,1330214400\n",
      "1324252800.0\n",
      "https://api.darksky.net/forecast/fe771b58337035ba61e0a4da32b20ab8/52.5200,13.4050,1324252800\n",
      "1331424000.0\n",
      "https://api.darksky.net/forecast/fe771b58337035ba61e0a4da32b20ab8/52.5200,13.4050,1331424000\n",
      "1322265600.0\n",
      "https://api.darksky.net/forecast/fe771b58337035ba61e0a4da32b20ab8/52.5200,13.4050,1322265600\n",
      "1335139200.0\n",
      "https://api.darksky.net/forecast/fe771b58337035ba61e0a4da32b20ab8/52.5200,13.4050,1335139200\n",
      "1323993600.0\n",
      "https://api.darksky.net/forecast/fe771b58337035ba61e0a4da32b20ab8/52.5200,13.4050,1323993600\n",
      "1320451200.0\n",
      "https://api.darksky.net/forecast/fe771b58337035ba61e0a4da32b20ab8/52.5200,13.4050,1320451200\n",
      "1334016000.0\n",
      "https://api.darksky.net/forecast/fe771b58337035ba61e0a4da32b20ab8/52.5200,13.4050,1334016000\n",
      "1334448000.0\n",
      "https://api.darksky.net/forecast/fe771b58337035ba61e0a4da32b20ab8/52.5200,13.4050,1334448000\n",
      "1328400000.0\n",
      "https://api.darksky.net/forecast/fe771b58337035ba61e0a4da32b20ab8/52.5200,13.4050,1328400000\n",
      "1330819200.0\n",
      "https://api.darksky.net/forecast/fe771b58337035ba61e0a4da32b20ab8/52.5200,13.4050,1330819200\n",
      "1316217600.0\n",
      "https://api.darksky.net/forecast/fe771b58337035ba61e0a4da32b20ab8/52.5200,13.4050,1316217600\n",
      "1327104000.0\n",
      "https://api.darksky.net/forecast/fe771b58337035ba61e0a4da32b20ab8/52.5200,13.4050,1327104000\n",
      "1332028800.0\n",
      "https://api.darksky.net/forecast/fe771b58337035ba61e0a4da32b20ab8/52.5200,13.4050,1332028800\n",
      "1335052800.0\n",
      "https://api.darksky.net/forecast/fe771b58337035ba61e0a4da32b20ab8/52.5200,13.4050,1335052800\n",
      "1313798400.0\n",
      "https://api.darksky.net/forecast/fe771b58337035ba61e0a4da32b20ab8/52.5200,13.4050,1313798400\n"
     ]
    },
    {
     "name": "stdout",
     "output_type": "stream",
     "text": [
      "1328832000.0\n",
      "https://api.darksky.net/forecast/fe771b58337035ba61e0a4da32b20ab8/52.5200,13.4050,1328832000\n",
      "1330128000.0\n",
      "https://api.darksky.net/forecast/fe771b58337035ba61e0a4da32b20ab8/52.5200,13.4050,1330128000\n",
      "1323475200.0\n",
      "https://api.darksky.net/forecast/fe771b58337035ba61e0a4da32b20ab8/52.5200,13.4050,1323475200\n",
      "1327795200.0\n",
      "https://api.darksky.net/forecast/fe771b58337035ba61e0a4da32b20ab8/52.5200,13.4050,1327795200\n",
      "1318723200.0\n",
      "https://api.darksky.net/forecast/fe771b58337035ba61e0a4da32b20ab8/52.5200,13.4050,1318723200\n",
      "1312502400.0\n",
      "https://api.darksky.net/forecast/fe771b58337035ba61e0a4da32b20ab8/52.5200,13.4050,1312502400\n",
      "1332460800.0\n",
      "https://api.darksky.net/forecast/fe771b58337035ba61e0a4da32b20ab8/52.5200,13.4050,1332460800\n",
      "1316736000.0\n",
      "https://api.darksky.net/forecast/fe771b58337035ba61e0a4da32b20ab8/52.5200,13.4050,1316736000\n",
      "1327708800.0\n",
      "https://api.darksky.net/forecast/fe771b58337035ba61e0a4da32b20ab8/52.5200,13.4050,1327708800\n",
      "1318636800.0\n",
      "https://api.darksky.net/forecast/fe771b58337035ba61e0a4da32b20ab8/52.5200,13.4050,1318636800\n",
      "1332547200.0\n",
      "https://api.darksky.net/forecast/fe771b58337035ba61e0a4da32b20ab8/52.5200,13.4050,1332547200\n",
      "1321574400.0\n",
      "https://api.darksky.net/forecast/fe771b58337035ba61e0a4da32b20ab8/52.5200,13.4050,1321574400\n",
      "1335657600.0\n",
      "https://api.darksky.net/forecast/fe771b58337035ba61e0a4da32b20ab8/52.5200,13.4050,1335657600\n",
      "1323388800.0\n",
      "https://api.darksky.net/forecast/fe771b58337035ba61e0a4da32b20ab8/52.5200,13.4050,1323388800\n",
      "1333843200.0\n",
      "https://api.darksky.net/forecast/fe771b58337035ba61e0a4da32b20ab8/52.5200,13.4050,1333843200\n",
      "1331510400.0\n",
      "https://api.darksky.net/forecast/fe771b58337035ba61e0a4da32b20ab8/52.5200,13.4050,1331510400\n",
      "1311379200.0\n",
      "https://api.darksky.net/forecast/fe771b58337035ba61e0a4da32b20ab8/52.5200,13.4050,1311379200\n",
      "1319760000.0\n",
      "https://api.darksky.net/forecast/fe771b58337035ba61e0a4da32b20ab8/52.5200,13.4050,1319760000\n",
      "1327622400.0\n",
      "https://api.darksky.net/forecast/fe771b58337035ba61e0a4da32b20ab8/52.5200,13.4050,1327622400\n",
      "1322956800.0\n",
      "https://api.darksky.net/forecast/fe771b58337035ba61e0a4da32b20ab8/52.5200,13.4050,1322956800\n",
      "1315699200.0\n",
      "https://api.darksky.net/forecast/fe771b58337035ba61e0a4da32b20ab8/52.5200,13.4050,1315699200\n",
      "1317340800.0\n",
      "https://api.darksky.net/forecast/fe771b58337035ba61e0a4da32b20ab8/52.5200,13.4050,1317340800\n",
      "1329609600.0\n",
      "https://api.darksky.net/forecast/fe771b58337035ba61e0a4da32b20ab8/52.5200,13.4050,1329609600\n",
      "1334275200.0\n",
      "https://api.darksky.net/forecast/fe771b58337035ba61e0a4da32b20ab8/52.5200,13.4050,1334275200\n",
      "1319155200.0\n",
      "https://api.darksky.net/forecast/fe771b58337035ba61e0a4da32b20ab8/52.5200,13.4050,1319155200\n",
      "1313280000.0\n",
      "https://api.darksky.net/forecast/fe771b58337035ba61e0a4da32b20ab8/52.5200,13.4050,1313280000\n",
      "1315785600.0\n",
      "https://api.darksky.net/forecast/fe771b58337035ba61e0a4da32b20ab8/52.5200,13.4050,1315785600\n",
      "1310947200.0\n",
      "https://api.darksky.net/forecast/fe771b58337035ba61e0a4da32b20ab8/52.5200,13.4050,1310947200\n",
      "1312761600.0\n",
      "https://api.darksky.net/forecast/fe771b58337035ba61e0a4da32b20ab8/52.5200,13.4050,1312761600\n",
      "1311465600.0\n",
      "https://api.darksky.net/forecast/fe771b58337035ba61e0a4da32b20ab8/52.5200,13.4050,1311465600\n",
      "1323734400.0\n",
      "https://api.darksky.net/forecast/fe771b58337035ba61e0a4da32b20ab8/52.5200,13.4050,1323734400\n",
      "1314489600.0\n",
      "https://api.darksky.net/forecast/fe771b58337035ba61e0a4da32b20ab8/52.5200,13.4050,1314489600\n",
      "1313712000.0\n",
      "https://api.darksky.net/forecast/fe771b58337035ba61e0a4da32b20ab8/52.5200,13.4050,1313712000\n",
      "1331683200.0\n",
      "https://api.darksky.net/forecast/fe771b58337035ba61e0a4da32b20ab8/52.5200,13.4050,1331683200\n",
      "1313107200.0\n",
      "https://api.darksky.net/forecast/fe771b58337035ba61e0a4da32b20ab8/52.5200,13.4050,1313107200\n",
      "1330905600.0\n",
      "https://api.darksky.net/forecast/fe771b58337035ba61e0a4da32b20ab8/52.5200,13.4050,1330905600\n",
      "1322784000.0\n",
      "https://api.darksky.net/forecast/fe771b58337035ba61e0a4da32b20ab8/52.5200,13.4050,1322784000\n",
      "1316390400.0\n",
      "https://api.darksky.net/forecast/fe771b58337035ba61e0a4da32b20ab8/52.5200,13.4050,1316390400\n",
      "1311552000.0\n",
      "https://api.darksky.net/forecast/fe771b58337035ba61e0a4da32b20ab8/52.5200,13.4050,1311552000\n",
      "1333324800.0\n",
      "https://api.darksky.net/forecast/fe771b58337035ba61e0a4da32b20ab8/52.5200,13.4050,1333324800\n",
      "1328486400.0\n",
      "https://api.darksky.net/forecast/fe771b58337035ba61e0a4da32b20ab8/52.5200,13.4050,1328486400\n",
      "1321833600.0\n",
      "https://api.darksky.net/forecast/fe771b58337035ba61e0a4da32b20ab8/52.5200,13.4050,1321833600\n",
      "1311292800.0\n",
      "https://api.darksky.net/forecast/fe771b58337035ba61e0a4da32b20ab8/52.5200,13.4050,1311292800\n",
      "1314576000.0\n",
      "https://api.darksky.net/forecast/fe771b58337035ba61e0a4da32b20ab8/52.5200,13.4050,1314576000\n",
      "1333584000.0\n",
      "https://api.darksky.net/forecast/fe771b58337035ba61e0a4da32b20ab8/52.5200,13.4050,1333584000\n",
      "1322438400.0\n",
      "https://api.darksky.net/forecast/fe771b58337035ba61e0a4da32b20ab8/52.5200,13.4050,1322438400\n",
      "1323648000.0\n",
      "https://api.darksky.net/forecast/fe771b58337035ba61e0a4da32b20ab8/52.5200,13.4050,1323648000\n",
      "1321747200.0\n",
      "https://api.darksky.net/forecast/fe771b58337035ba61e0a4da32b20ab8/52.5200,13.4050,1321747200\n",
      "1330300800.0\n",
      "https://api.darksky.net/forecast/fe771b58337035ba61e0a4da32b20ab8/52.5200,13.4050,1330300800\n",
      "1310774400.0\n",
      "https://api.darksky.net/forecast/fe771b58337035ba61e0a4da32b20ab8/52.5200,13.4050,1310774400\n",
      "1320019200.0\n",
      "https://api.darksky.net/forecast/fe771b58337035ba61e0a4da32b20ab8/52.5200,13.4050,1320019200\n",
      "1329696000.0\n",
      "https://api.darksky.net/forecast/fe771b58337035ba61e0a4da32b20ab8/52.5200,13.4050,1329696000\n",
      "1318809600.0\n",
      "https://api.darksky.net/forecast/fe771b58337035ba61e0a4da32b20ab8/52.5200,13.4050,1318809600\n",
      "1323043200.0\n",
      "https://api.darksky.net/forecast/fe771b58337035ba61e0a4da32b20ab8/52.5200,13.4050,1323043200\n",
      "1334534400.0\n",
      "https://api.darksky.net/forecast/fe771b58337035ba61e0a4da32b20ab8/52.5200,13.4050,1334534400\n",
      "1317600000.0\n",
      "https://api.darksky.net/forecast/fe771b58337035ba61e0a4da32b20ab8/52.5200,13.4050,1317600000\n",
      "1332115200.0\n",
      "https://api.darksky.net/forecast/fe771b58337035ba61e0a4da32b20ab8/52.5200,13.4050,1332115200\n",
      "1313366400.0\n",
      "https://api.darksky.net/forecast/fe771b58337035ba61e0a4da32b20ab8/52.5200,13.4050,1313366400\n",
      "1324339200.0\n",
      "https://api.darksky.net/forecast/fe771b58337035ba61e0a4da32b20ab8/52.5200,13.4050,1324339200\n",
      "1324425600.0\n",
      "https://api.darksky.net/forecast/fe771b58337035ba61e0a4da32b20ab8/52.5200,13.4050,1324425600\n",
      "1324512000.0\n",
      "https://api.darksky.net/forecast/fe771b58337035ba61e0a4da32b20ab8/52.5200,13.4050,1324512000\n",
      "1324857600.0\n",
      "https://api.darksky.net/forecast/fe771b58337035ba61e0a4da32b20ab8/52.5200,13.4050,1324857600\n",
      "1324944000.0\n",
      "https://api.darksky.net/forecast/fe771b58337035ba61e0a4da32b20ab8/52.5200,13.4050,1324944000\n",
      "1325203200.0\n",
      "https://api.darksky.net/forecast/fe771b58337035ba61e0a4da32b20ab8/52.5200,13.4050,1325203200\n",
      "1325289600.0\n",
      "https://api.darksky.net/forecast/fe771b58337035ba61e0a4da32b20ab8/52.5200,13.4050,1325289600\n",
      "1325376000.0\n",
      "https://api.darksky.net/forecast/fe771b58337035ba61e0a4da32b20ab8/52.5200,13.4050,1325376000\n",
      "1325462400.0\n",
      "https://api.darksky.net/forecast/fe771b58337035ba61e0a4da32b20ab8/52.5200,13.4050,1325462400\n",
      "1325548800.0\n",
      "https://api.darksky.net/forecast/fe771b58337035ba61e0a4da32b20ab8/52.5200,13.4050,1325548800\n",
      "1325635200.0\n",
      "https://api.darksky.net/forecast/fe771b58337035ba61e0a4da32b20ab8/52.5200,13.4050,1325635200\n",
      "1326240000.0\n",
      "https://api.darksky.net/forecast/fe771b58337035ba61e0a4da32b20ab8/52.5200,13.4050,1326240000\n",
      "1326499200.0\n",
      "https://api.darksky.net/forecast/fe771b58337035ba61e0a4da32b20ab8/52.5200,13.4050,1326499200\n",
      "1326585600.0\n",
      "https://api.darksky.net/forecast/fe771b58337035ba61e0a4da32b20ab8/52.5200,13.4050,1326585600\n",
      "1326672000.0\n",
      "https://api.darksky.net/forecast/fe771b58337035ba61e0a4da32b20ab8/52.5200,13.4050,1326672000\n",
      "1327968000.0\n",
      "https://api.darksky.net/forecast/fe771b58337035ba61e0a4da32b20ab8/52.5200,13.4050,1327968000\n",
      "1328054400.0\n",
      "https://api.darksky.net/forecast/fe771b58337035ba61e0a4da32b20ab8/52.5200,13.4050,1328054400\n",
      "1331596800.0\n",
      "https://api.darksky.net/forecast/fe771b58337035ba61e0a4da32b20ab8/52.5200,13.4050,1331596800\n",
      "1332201600.0\n",
      "https://api.darksky.net/forecast/fe771b58337035ba61e0a4da32b20ab8/52.5200,13.4050,1332201600\n",
      "1332288000.0\n",
      "https://api.darksky.net/forecast/fe771b58337035ba61e0a4da32b20ab8/52.5200,13.4050,1332288000\n"
     ]
    },
    {
     "name": "stdout",
     "output_type": "stream",
     "text": [
      "1333670400.0\n",
      "https://api.darksky.net/forecast/fe771b58337035ba61e0a4da32b20ab8/52.5200,13.4050,1333670400\n",
      "1333929600.0\n",
      "https://api.darksky.net/forecast/fe771b58337035ba61e0a4da32b20ab8/52.5200,13.4050,1333929600\n",
      "1335225600.0\n",
      "https://api.darksky.net/forecast/fe771b58337035ba61e0a4da32b20ab8/52.5200,13.4050,1335225600\n",
      "1335744000.0\n",
      "https://api.darksky.net/forecast/fe771b58337035ba61e0a4da32b20ab8/52.5200,13.4050,1335744000\n",
      "1335830400.0\n",
      "https://api.darksky.net/forecast/fe771b58337035ba61e0a4da32b20ab8/52.5200,13.4050,1335830400\n",
      "1335916800.0\n",
      "https://api.darksky.net/forecast/fe771b58337035ba61e0a4da32b20ab8/52.5200,13.4050,1335916800\n",
      "1336348800.0\n",
      "https://api.darksky.net/forecast/fe771b58337035ba61e0a4da32b20ab8/52.5200,13.4050,1336348800\n",
      "1336435200.0\n",
      "https://api.darksky.net/forecast/fe771b58337035ba61e0a4da32b20ab8/52.5200,13.4050,1336435200\n",
      "1336867200.0\n",
      "https://api.darksky.net/forecast/fe771b58337035ba61e0a4da32b20ab8/52.5200,13.4050,1336867200\n"
     ]
    }
   ],
   "source": [
    "# let's get the rainydays for the unique dates\n",
    "unique_dates\n",
    "rainyday=[]\n",
    "for date in unique_dates:\n",
    "    print(date)\n",
    "    epoch = int(date)\n",
    "    rain = get_weather(epoch)\n",
    "    rainyday.append(rain)"
   ]
  },
  {
   "cell_type": "code",
   "execution_count": 381,
   "metadata": {
    "collapsed": true
   },
   "outputs": [
    {
     "data": {
      "text/plain": [
       "[1,\n",
       " 0,\n",
       " 0,\n",
       " 0,\n",
       " 0,\n",
       " 1,\n",
       " 0,\n",
       " 0,\n",
       " 1,\n",
       " 1,\n",
       " 0,\n",
       " 0,\n",
       " 1,\n",
       " 0,\n",
       " 1,\n",
       " 1,\n",
       " 0,\n",
       " 1,\n",
       " 0,\n",
       " 0,\n",
       " 1,\n",
       " 1,\n",
       " 0,\n",
       " 0,\n",
       " 0,\n",
       " 0,\n",
       " 0,\n",
       " 0,\n",
       " 0,\n",
       " 0,\n",
       " 1,\n",
       " 0,\n",
       " 0,\n",
       " 1,\n",
       " 1,\n",
       " 0,\n",
       " 0,\n",
       " 0,\n",
       " 1,\n",
       " 0,\n",
       " 0,\n",
       " 0,\n",
       " 0,\n",
       " 1,\n",
       " 1,\n",
       " 1,\n",
       " 1,\n",
       " 0,\n",
       " 0,\n",
       " 1,\n",
       " 0,\n",
       " 0,\n",
       " 0,\n",
       " 1,\n",
       " 0,\n",
       " 0,\n",
       " 1,\n",
       " 0,\n",
       " 0,\n",
       " 0,\n",
       " 1,\n",
       " 0,\n",
       " 0,\n",
       " 0,\n",
       " 0,\n",
       " 1,\n",
       " 0,\n",
       " 1,\n",
       " 1,\n",
       " 0,\n",
       " 0,\n",
       " 0,\n",
       " 0,\n",
       " 0,\n",
       " 0,\n",
       " 0,\n",
       " 0,\n",
       " 0,\n",
       " 0,\n",
       " 0,\n",
       " 1,\n",
       " 0,\n",
       " 1,\n",
       " 1,\n",
       " 0,\n",
       " 0,\n",
       " 0,\n",
       " 0,\n",
       " 0,\n",
       " 1,\n",
       " 0,\n",
       " 1,\n",
       " 0,\n",
       " 1,\n",
       " 1,\n",
       " 0,\n",
       " 0,\n",
       " 0,\n",
       " 1,\n",
       " 0,\n",
       " 1,\n",
       " 0,\n",
       " 0,\n",
       " 1,\n",
       " 1,\n",
       " 1,\n",
       " 1,\n",
       " 0,\n",
       " 1,\n",
       " 0,\n",
       " 1,\n",
       " 0,\n",
       " 1,\n",
       " 0,\n",
       " 1,\n",
       " 1,\n",
       " 0,\n",
       " 1,\n",
       " 0,\n",
       " 0,\n",
       " 1,\n",
       " 1,\n",
       " 0,\n",
       " 0,\n",
       " 1,\n",
       " 0,\n",
       " 1,\n",
       " 0,\n",
       " 0,\n",
       " 0,\n",
       " 0,\n",
       " 0,\n",
       " 0,\n",
       " 0,\n",
       " 0,\n",
       " 1,\n",
       " 0,\n",
       " 1,\n",
       " 0,\n",
       " 1,\n",
       " 0,\n",
       " 1,\n",
       " 0,\n",
       " 1,\n",
       " 1,\n",
       " 1,\n",
       " 1,\n",
       " 0,\n",
       " 0,\n",
       " 0,\n",
       " 1,\n",
       " 0,\n",
       " 0,\n",
       " 0,\n",
       " 0,\n",
       " 0,\n",
       " 0,\n",
       " 0,\n",
       " 1,\n",
       " 0,\n",
       " 0,\n",
       " 0,\n",
       " 0,\n",
       " 0,\n",
       " 0]"
      ]
     },
     "execution_count": 381,
     "metadata": {},
     "output_type": "execute_result"
    }
   ],
   "source": [
    "rainyday"
   ]
  },
  {
   "cell_type": "code",
   "execution_count": 382,
   "metadata": {},
   "outputs": [],
   "source": [
    "# save the rainy days into a dataframe\n",
    "rain_df = pd.DataFrame([unique_dates, rainyday]).transpose()\n",
    "rain_df.columns=['epoch', 'rain']"
   ]
  },
  {
   "cell_type": "code",
   "execution_count": 383,
   "metadata": {},
   "outputs": [
    {
     "name": "stderr",
     "output_type": "stream",
     "text": [
      "/Users/angelmanzur/anaconda3/lib/python3.6/site-packages/ipykernel_launcher.py:1: UserWarning: Pandas doesn't allow columns to be created via a new attribute name - see https://pandas.pydata.org/pandas-docs/stable/indexing.html#attribute-access\n",
      "  \"\"\"Entry point for launching an IPython kernel.\n"
     ]
    }
   ],
   "source": [
    "# convert the epoch to datetime\n",
    "rain_df.date = pd.to_datetime(rain_df.epoch)"
   ]
  },
  {
   "cell_type": "code",
   "execution_count": 384,
   "metadata": {},
   "outputs": [
    {
     "data": {
      "text/html": [
       "<div>\n",
       "<style scoped>\n",
       "    .dataframe tbody tr th:only-of-type {\n",
       "        vertical-align: middle;\n",
       "    }\n",
       "\n",
       "    .dataframe tbody tr th {\n",
       "        vertical-align: top;\n",
       "    }\n",
       "\n",
       "    .dataframe thead th {\n",
       "        text-align: right;\n",
       "    }\n",
       "</style>\n",
       "<table border=\"1\" class=\"dataframe\">\n",
       "  <thead>\n",
       "    <tr style=\"text-align: right;\">\n",
       "      <th></th>\n",
       "      <th>epoch</th>\n",
       "      <th>rain</th>\n",
       "    </tr>\n",
       "  </thead>\n",
       "  <tbody>\n",
       "    <tr>\n",
       "      <th>0</th>\n",
       "      <td>1.333152e+09</td>\n",
       "      <td>1.0</td>\n",
       "    </tr>\n",
       "    <tr>\n",
       "      <th>1</th>\n",
       "      <td>1.323562e+09</td>\n",
       "      <td>0.0</td>\n",
       "    </tr>\n",
       "    <tr>\n",
       "      <th>2</th>\n",
       "      <td>1.313194e+09</td>\n",
       "      <td>0.0</td>\n",
       "    </tr>\n",
       "    <tr>\n",
       "      <th>3</th>\n",
       "      <td>1.322352e+09</td>\n",
       "      <td>0.0</td>\n",
       "    </tr>\n",
       "    <tr>\n",
       "      <th>4</th>\n",
       "      <td>1.329523e+09</td>\n",
       "      <td>0.0</td>\n",
       "    </tr>\n",
       "  </tbody>\n",
       "</table>\n",
       "</div>"
      ],
      "text/plain": [
       "          epoch  rain\n",
       "0  1.333152e+09   1.0\n",
       "1  1.323562e+09   0.0\n",
       "2  1.313194e+09   0.0\n",
       "3  1.322352e+09   0.0\n",
       "4  1.329523e+09   0.0"
      ]
     },
     "execution_count": 384,
     "metadata": {},
     "output_type": "execute_result"
    }
   ],
   "source": [
    "rain_df.head()\n"
   ]
  },
  {
   "cell_type": "code",
   "execution_count": 385,
   "metadata": {},
   "outputs": [],
   "source": [
    "all_matches_df2 = all_matches_df\n"
   ]
  },
  {
   "cell_type": "code",
   "execution_count": 386,
   "metadata": {},
   "outputs": [],
   "source": [
    "#get the date in the original format\n",
    "\n",
    "# print(pd.merge(all_matches_df2, rain_df, on='Date'))\n",
    "# datetime.datetime.fromtimestamp(rain_df['epoch'][x]).strftime('%c')\n",
    "#print(datetime.datetime.fromtimestamp(rain_df['epoch'][0]).strftime('%Y-%m-%d'))\n",
    "\n",
    "rain_df['Date'] = rain_df['epoch'].map(lambda x: datetime.datetime.fromtimestamp(x).strftime('%Y-%m-%d'))\n"
   ]
  },
  {
   "cell_type": "code",
   "execution_count": 387,
   "metadata": {},
   "outputs": [
    {
     "data": {
      "text/html": [
       "<div>\n",
       "<style scoped>\n",
       "    .dataframe tbody tr th:only-of-type {\n",
       "        vertical-align: middle;\n",
       "    }\n",
       "\n",
       "    .dataframe tbody tr th {\n",
       "        vertical-align: top;\n",
       "    }\n",
       "\n",
       "    .dataframe thead th {\n",
       "        text-align: right;\n",
       "    }\n",
       "</style>\n",
       "<table border=\"1\" class=\"dataframe\">\n",
       "  <thead>\n",
       "    <tr style=\"text-align: right;\">\n",
       "      <th></th>\n",
       "      <th>epoch</th>\n",
       "      <th>rain</th>\n",
       "      <th>Date</th>\n",
       "    </tr>\n",
       "  </thead>\n",
       "  <tbody>\n",
       "    <tr>\n",
       "      <th>0</th>\n",
       "      <td>1.333152e+09</td>\n",
       "      <td>1.0</td>\n",
       "      <td>2012-03-30</td>\n",
       "    </tr>\n",
       "    <tr>\n",
       "      <th>1</th>\n",
       "      <td>1.323562e+09</td>\n",
       "      <td>0.0</td>\n",
       "      <td>2011-12-10</td>\n",
       "    </tr>\n",
       "    <tr>\n",
       "      <th>2</th>\n",
       "      <td>1.313194e+09</td>\n",
       "      <td>0.0</td>\n",
       "      <td>2011-08-12</td>\n",
       "    </tr>\n",
       "    <tr>\n",
       "      <th>3</th>\n",
       "      <td>1.322352e+09</td>\n",
       "      <td>0.0</td>\n",
       "      <td>2011-11-26</td>\n",
       "    </tr>\n",
       "    <tr>\n",
       "      <th>4</th>\n",
       "      <td>1.329523e+09</td>\n",
       "      <td>0.0</td>\n",
       "      <td>2012-02-17</td>\n",
       "    </tr>\n",
       "  </tbody>\n",
       "</table>\n",
       "</div>"
      ],
      "text/plain": [
       "          epoch  rain        Date\n",
       "0  1.333152e+09   1.0  2012-03-30\n",
       "1  1.323562e+09   0.0  2011-12-10\n",
       "2  1.313194e+09   0.0  2011-08-12\n",
       "3  1.322352e+09   0.0  2011-11-26\n",
       "4  1.329523e+09   0.0  2012-02-17"
      ]
     },
     "execution_count": 387,
     "metadata": {},
     "output_type": "execute_result"
    }
   ],
   "source": [
    "rain_df.head()"
   ]
  },
  {
   "cell_type": "code",
   "execution_count": 388,
   "metadata": {},
   "outputs": [
    {
     "data": {
      "text/html": [
       "<div>\n",
       "<style scoped>\n",
       "    .dataframe tbody tr th:only-of-type {\n",
       "        vertical-align: middle;\n",
       "    }\n",
       "\n",
       "    .dataframe tbody tr th {\n",
       "        vertical-align: top;\n",
       "    }\n",
       "\n",
       "    .dataframe thead th {\n",
       "        text-align: right;\n",
       "    }\n",
       "</style>\n",
       "<table border=\"1\" class=\"dataframe\">\n",
       "  <thead>\n",
       "    <tr style=\"text-align: right;\">\n",
       "      <th></th>\n",
       "      <th>Match_ID</th>\n",
       "      <th>Date</th>\n",
       "      <th>Team</th>\n",
       "      <th>Goals</th>\n",
       "      <th>win</th>\n",
       "      <th>draw</th>\n",
       "      <th>loss</th>\n",
       "      <th>ngames</th>\n",
       "    </tr>\n",
       "  </thead>\n",
       "  <tbody>\n",
       "    <tr>\n",
       "      <th>0</th>\n",
       "      <td>1092</td>\n",
       "      <td>2012-03-31</td>\n",
       "      <td>Bayern Munich</td>\n",
       "      <td>1</td>\n",
       "      <td>1</td>\n",
       "      <td>0</td>\n",
       "      <td>0</td>\n",
       "      <td>1</td>\n",
       "    </tr>\n",
       "    <tr>\n",
       "      <th>1</th>\n",
       "      <td>1093</td>\n",
       "      <td>2011-12-11</td>\n",
       "      <td>Bayern Munich</td>\n",
       "      <td>2</td>\n",
       "      <td>1</td>\n",
       "      <td>0</td>\n",
       "      <td>0</td>\n",
       "      <td>1</td>\n",
       "    </tr>\n",
       "    <tr>\n",
       "      <th>2</th>\n",
       "      <td>1094</td>\n",
       "      <td>2011-08-13</td>\n",
       "      <td>Bayern Munich</td>\n",
       "      <td>1</td>\n",
       "      <td>1</td>\n",
       "      <td>0</td>\n",
       "      <td>0</td>\n",
       "      <td>1</td>\n",
       "    </tr>\n",
       "    <tr>\n",
       "      <th>3</th>\n",
       "      <td>1095</td>\n",
       "      <td>2011-11-27</td>\n",
       "      <td>Bayern Munich</td>\n",
       "      <td>2</td>\n",
       "      <td>0</td>\n",
       "      <td>0</td>\n",
       "      <td>1</td>\n",
       "      <td>1</td>\n",
       "    </tr>\n",
       "    <tr>\n",
       "      <th>4</th>\n",
       "      <td>1096</td>\n",
       "      <td>2012-02-18</td>\n",
       "      <td>Bayern Munich</td>\n",
       "      <td>0</td>\n",
       "      <td>0</td>\n",
       "      <td>1</td>\n",
       "      <td>0</td>\n",
       "      <td>1</td>\n",
       "    </tr>\n",
       "  </tbody>\n",
       "</table>\n",
       "</div>"
      ],
      "text/plain": [
       "   Match_ID        Date           Team  Goals  win  draw  loss  ngames\n",
       "0      1092  2012-03-31  Bayern Munich      1    1     0     0       1\n",
       "1      1093  2011-12-11  Bayern Munich      2    1     0     0       1\n",
       "2      1094  2011-08-13  Bayern Munich      1    1     0     0       1\n",
       "3      1095  2011-11-27  Bayern Munich      2    0     0     1       1\n",
       "4      1096  2012-02-18  Bayern Munich      0    0     1     0       1"
      ]
     },
     "execution_count": 388,
     "metadata": {},
     "output_type": "execute_result"
    }
   ],
   "source": [
    "all_matches_df2.head()"
   ]
  },
  {
   "cell_type": "code",
   "execution_count": 389,
   "metadata": {},
   "outputs": [],
   "source": [
    "# merge the rainy day dataframe \n",
    "all_matches_rain = pd.merge(all_matches_df2, rain_df, on='Date')"
   ]
  },
  {
   "cell_type": "code",
   "execution_count": 390,
   "metadata": {},
   "outputs": [
    {
     "data": {
      "text/html": [
       "<div>\n",
       "<style scoped>\n",
       "    .dataframe tbody tr th:only-of-type {\n",
       "        vertical-align: middle;\n",
       "    }\n",
       "\n",
       "    .dataframe tbody tr th {\n",
       "        vertical-align: top;\n",
       "    }\n",
       "\n",
       "    .dataframe thead th {\n",
       "        text-align: right;\n",
       "    }\n",
       "</style>\n",
       "<table border=\"1\" class=\"dataframe\">\n",
       "  <thead>\n",
       "    <tr style=\"text-align: right;\">\n",
       "      <th></th>\n",
       "      <th>Match_ID</th>\n",
       "      <th>Date</th>\n",
       "      <th>Team</th>\n",
       "      <th>Goals</th>\n",
       "      <th>win</th>\n",
       "      <th>draw</th>\n",
       "      <th>loss</th>\n",
       "      <th>ngames</th>\n",
       "      <th>epoch</th>\n",
       "      <th>rain</th>\n",
       "    </tr>\n",
       "  </thead>\n",
       "  <tbody>\n",
       "    <tr>\n",
       "      <th>0</th>\n",
       "      <td>1092</td>\n",
       "      <td>2012-03-31</td>\n",
       "      <td>Bayern Munich</td>\n",
       "      <td>1</td>\n",
       "      <td>1</td>\n",
       "      <td>0</td>\n",
       "      <td>0</td>\n",
       "      <td>1</td>\n",
       "      <td>1.333238e+09</td>\n",
       "      <td>0.0</td>\n",
       "    </tr>\n",
       "    <tr>\n",
       "      <th>15</th>\n",
       "      <td>1092</td>\n",
       "      <td>2012-03-31</td>\n",
       "      <td>Nurnberg</td>\n",
       "      <td>0</td>\n",
       "      <td>0</td>\n",
       "      <td>0</td>\n",
       "      <td>1</td>\n",
       "      <td>1</td>\n",
       "      <td>1.333238e+09</td>\n",
       "      <td>0.0</td>\n",
       "    </tr>\n",
       "    <tr>\n",
       "      <th>37</th>\n",
       "      <td>1093</td>\n",
       "      <td>2011-12-11</td>\n",
       "      <td>Stuttgart</td>\n",
       "      <td>1</td>\n",
       "      <td>0</td>\n",
       "      <td>0</td>\n",
       "      <td>1</td>\n",
       "      <td>1</td>\n",
       "      <td>1.323648e+09</td>\n",
       "      <td>1.0</td>\n",
       "    </tr>\n",
       "    <tr>\n",
       "      <th>30</th>\n",
       "      <td>1093</td>\n",
       "      <td>2011-12-11</td>\n",
       "      <td>Bayern Munich</td>\n",
       "      <td>2</td>\n",
       "      <td>1</td>\n",
       "      <td>0</td>\n",
       "      <td>0</td>\n",
       "      <td>1</td>\n",
       "      <td>1.323648e+09</td>\n",
       "      <td>1.0</td>\n",
       "    </tr>\n",
       "    <tr>\n",
       "      <th>59</th>\n",
       "      <td>1094</td>\n",
       "      <td>2011-08-13</td>\n",
       "      <td>Wolfsburg</td>\n",
       "      <td>0</td>\n",
       "      <td>0</td>\n",
       "      <td>0</td>\n",
       "      <td>1</td>\n",
       "      <td>1</td>\n",
       "      <td>1.313280e+09</td>\n",
       "      <td>1.0</td>\n",
       "    </tr>\n",
       "  </tbody>\n",
       "</table>\n",
       "</div>"
      ],
      "text/plain": [
       "    Match_ID        Date           Team  Goals  win  draw  loss  ngames  \\\n",
       "0       1092  2012-03-31  Bayern Munich      1    1     0     0       1   \n",
       "15      1092  2012-03-31       Nurnberg      0    0     0     1       1   \n",
       "37      1093  2011-12-11      Stuttgart      1    0     0     1       1   \n",
       "30      1093  2011-12-11  Bayern Munich      2    1     0     0       1   \n",
       "59      1094  2011-08-13      Wolfsburg      0    0     0     1       1   \n",
       "\n",
       "           epoch  rain  \n",
       "0   1.333238e+09   0.0  \n",
       "15  1.333238e+09   0.0  \n",
       "37  1.323648e+09   1.0  \n",
       "30  1.323648e+09   1.0  \n",
       "59  1.313280e+09   1.0  "
      ]
     },
     "execution_count": 390,
     "metadata": {},
     "output_type": "execute_result"
    }
   ],
   "source": [
    "all_matches_rain.sort_values('Match_ID').head()\n"
   ]
  },
  {
   "cell_type": "code",
   "execution_count": 391,
   "metadata": {},
   "outputs": [],
   "source": [
    "# Save the data so we do not have to burn API calls\n",
    "# all_matches_rain.to_csv('data_rain.csv')"
   ]
  },
  {
   "cell_type": "code",
   "execution_count": 392,
   "metadata": {},
   "outputs": [],
   "source": [
    "all_matches_rain.drop('epoch', axis=1, inplace=True)"
   ]
  },
  {
   "cell_type": "code",
   "execution_count": 399,
   "metadata": {},
   "outputs": [],
   "source": [
    "teams_rain_df = all_matches_rain[all_matches_rain.rain>0].groupby('Team').sum()\n",
    "# teams_rain_df.head()\n",
    "teams_rain_df = teams_rain_df.reset_index()"
   ]
  },
  {
   "cell_type": "code",
   "execution_count": 401,
   "metadata": {},
   "outputs": [],
   "source": [
    "teams_rain_df.drop('Match_ID',axis=1, inplace=True)"
   ]
  },
  {
   "cell_type": "code",
   "execution_count": 405,
   "metadata": {},
   "outputs": [],
   "source": [
    "teams_rain_df['rain_wins_perc'] = teams_rain_df['win']/teams_rain_df['ngames']*100"
   ]
  },
  {
   "cell_type": "code",
   "execution_count": 406,
   "metadata": {
    "scrolled": true
   },
   "outputs": [
    {
     "data": {
      "text/html": [
       "<div>\n",
       "<style scoped>\n",
       "    .dataframe tbody tr th:only-of-type {\n",
       "        vertical-align: middle;\n",
       "    }\n",
       "\n",
       "    .dataframe tbody tr th {\n",
       "        vertical-align: top;\n",
       "    }\n",
       "\n",
       "    .dataframe thead th {\n",
       "        text-align: right;\n",
       "    }\n",
       "</style>\n",
       "<table border=\"1\" class=\"dataframe\">\n",
       "  <thead>\n",
       "    <tr style=\"text-align: right;\">\n",
       "      <th></th>\n",
       "      <th>Team</th>\n",
       "      <th>Goals</th>\n",
       "      <th>win</th>\n",
       "      <th>draw</th>\n",
       "      <th>loss</th>\n",
       "      <th>ngames</th>\n",
       "      <th>rain</th>\n",
       "      <th>rain_wins_perc</th>\n",
       "    </tr>\n",
       "  </thead>\n",
       "  <tbody>\n",
       "    <tr>\n",
       "      <th>0</th>\n",
       "      <td>Aachen</td>\n",
       "      <td>2</td>\n",
       "      <td>0</td>\n",
       "      <td>3</td>\n",
       "      <td>5</td>\n",
       "      <td>8</td>\n",
       "      <td>8.0</td>\n",
       "      <td>0.000000</td>\n",
       "    </tr>\n",
       "    <tr>\n",
       "      <th>1</th>\n",
       "      <td>Arsenal</td>\n",
       "      <td>26</td>\n",
       "      <td>5</td>\n",
       "      <td>2</td>\n",
       "      <td>4</td>\n",
       "      <td>11</td>\n",
       "      <td>11.0</td>\n",
       "      <td>45.454545</td>\n",
       "    </tr>\n",
       "    <tr>\n",
       "      <th>2</th>\n",
       "      <td>Aston Villa</td>\n",
       "      <td>16</td>\n",
       "      <td>3</td>\n",
       "      <td>4</td>\n",
       "      <td>3</td>\n",
       "      <td>10</td>\n",
       "      <td>10.0</td>\n",
       "      <td>30.000000</td>\n",
       "    </tr>\n",
       "    <tr>\n",
       "      <th>3</th>\n",
       "      <td>Augsburg</td>\n",
       "      <td>10</td>\n",
       "      <td>2</td>\n",
       "      <td>4</td>\n",
       "      <td>3</td>\n",
       "      <td>9</td>\n",
       "      <td>9.0</td>\n",
       "      <td>22.222222</td>\n",
       "    </tr>\n",
       "    <tr>\n",
       "      <th>4</th>\n",
       "      <td>Bayern Munich</td>\n",
       "      <td>29</td>\n",
       "      <td>9</td>\n",
       "      <td>1</td>\n",
       "      <td>1</td>\n",
       "      <td>11</td>\n",
       "      <td>11.0</td>\n",
       "      <td>81.818182</td>\n",
       "    </tr>\n",
       "  </tbody>\n",
       "</table>\n",
       "</div>"
      ],
      "text/plain": [
       "            Team  Goals  win  draw  loss  ngames  rain  rain_wins_perc\n",
       "0         Aachen      2    0     3     5       8   8.0        0.000000\n",
       "1        Arsenal     26    5     2     4      11  11.0       45.454545\n",
       "2    Aston Villa     16    3     4     3      10  10.0       30.000000\n",
       "3       Augsburg     10    2     4     3       9   9.0       22.222222\n",
       "4  Bayern Munich     29    9     1     1      11  11.0       81.818182"
      ]
     },
     "execution_count": 406,
     "metadata": {},
     "output_type": "execute_result"
    }
   ],
   "source": [
    "teams_rain_df.head()"
   ]
  },
  {
   "cell_type": "code",
   "execution_count": 410,
   "metadata": {},
   "outputs": [
    {
     "data": {
      "text/html": [
       "<div>\n",
       "<style scoped>\n",
       "    .dataframe tbody tr th:only-of-type {\n",
       "        vertical-align: middle;\n",
       "    }\n",
       "\n",
       "    .dataframe tbody tr th {\n",
       "        vertical-align: top;\n",
       "    }\n",
       "\n",
       "    .dataframe thead th {\n",
       "        text-align: right;\n",
       "    }\n",
       "</style>\n",
       "<table border=\"1\" class=\"dataframe\">\n",
       "  <thead>\n",
       "    <tr style=\"text-align: right;\">\n",
       "      <th></th>\n",
       "      <th>Team</th>\n",
       "      <th>Goals</th>\n",
       "      <th>win</th>\n",
       "      <th>draw</th>\n",
       "      <th>loss</th>\n",
       "      <th>ngames</th>\n",
       "    </tr>\n",
       "  </thead>\n",
       "  <tbody>\n",
       "    <tr>\n",
       "      <th>0</th>\n",
       "      <td>Aachen</td>\n",
       "      <td>30</td>\n",
       "      <td>6</td>\n",
       "      <td>13</td>\n",
       "      <td>15</td>\n",
       "      <td>34</td>\n",
       "    </tr>\n",
       "    <tr>\n",
       "      <th>1</th>\n",
       "      <td>Arsenal</td>\n",
       "      <td>74</td>\n",
       "      <td>21</td>\n",
       "      <td>7</td>\n",
       "      <td>10</td>\n",
       "      <td>38</td>\n",
       "    </tr>\n",
       "    <tr>\n",
       "      <th>2</th>\n",
       "      <td>Aston Villa</td>\n",
       "      <td>37</td>\n",
       "      <td>7</td>\n",
       "      <td>17</td>\n",
       "      <td>14</td>\n",
       "      <td>38</td>\n",
       "    </tr>\n",
       "    <tr>\n",
       "      <th>3</th>\n",
       "      <td>Augsburg</td>\n",
       "      <td>36</td>\n",
       "      <td>8</td>\n",
       "      <td>14</td>\n",
       "      <td>12</td>\n",
       "      <td>34</td>\n",
       "    </tr>\n",
       "    <tr>\n",
       "      <th>4</th>\n",
       "      <td>Bayern Munich</td>\n",
       "      <td>77</td>\n",
       "      <td>23</td>\n",
       "      <td>4</td>\n",
       "      <td>7</td>\n",
       "      <td>34</td>\n",
       "    </tr>\n",
       "  </tbody>\n",
       "</table>\n",
       "</div>"
      ],
      "text/plain": [
       "            Team  Goals  win  draw  loss  ngames\n",
       "0         Aachen     30    6    13    15      34\n",
       "1        Arsenal     74   21     7    10      38\n",
       "2    Aston Villa     37    7    17    14      38\n",
       "3       Augsburg     36    8    14    12      34\n",
       "4  Bayern Munich     77   23     4     7      34"
      ]
     },
     "execution_count": 410,
     "metadata": {},
     "output_type": "execute_result"
    }
   ],
   "source": [
    "teams_df.head()"
   ]
  },
  {
   "cell_type": "code",
   "execution_count": 425,
   "metadata": {},
   "outputs": [
    {
     "data": {
      "text/plain": [
       "56"
      ]
     },
     "execution_count": 425,
     "metadata": {},
     "output_type": "execute_result"
    }
   ],
   "source": [
    "len(teams_df)"
   ]
  },
  {
   "cell_type": "code",
   "execution_count": 428,
   "metadata": {},
   "outputs": [
    {
     "data": {
      "text/plain": [
       "56"
      ]
     },
     "execution_count": 428,
     "metadata": {},
     "output_type": "execute_result"
    }
   ],
   "source": [
    "len(teams_rain_df)"
   ]
  },
  {
   "cell_type": "markdown",
   "metadata": {},
   "source": [
    "## Merge both aggregated team data"
   ]
  },
  {
   "cell_type": "code",
   "execution_count": 487,
   "metadata": {},
   "outputs": [],
   "source": [
    "final_df = pd.merge(teams_df,teams_rain_df, on='Team')"
   ]
  },
  {
   "cell_type": "code",
   "execution_count": 490,
   "metadata": {},
   "outputs": [
    {
     "data": {
      "text/html": [
       "<div>\n",
       "<style scoped>\n",
       "    .dataframe tbody tr th:only-of-type {\n",
       "        vertical-align: middle;\n",
       "    }\n",
       "\n",
       "    .dataframe tbody tr th {\n",
       "        vertical-align: top;\n",
       "    }\n",
       "\n",
       "    .dataframe thead th {\n",
       "        text-align: right;\n",
       "    }\n",
       "</style>\n",
       "<table border=\"1\" class=\"dataframe\">\n",
       "  <thead>\n",
       "    <tr style=\"text-align: right;\">\n",
       "      <th></th>\n",
       "      <th>Team</th>\n",
       "      <th>Goals_x</th>\n",
       "      <th>win_x</th>\n",
       "      <th>draw_x</th>\n",
       "      <th>loss_x</th>\n",
       "      <th>ngames_x</th>\n",
       "      <th>Goals_y</th>\n",
       "      <th>win_y</th>\n",
       "      <th>draw_y</th>\n",
       "      <th>loss_y</th>\n",
       "      <th>ngames_y</th>\n",
       "      <th>rain</th>\n",
       "      <th>rain_wins_perc</th>\n",
       "    </tr>\n",
       "  </thead>\n",
       "  <tbody>\n",
       "    <tr>\n",
       "      <th>0</th>\n",
       "      <td>Aachen</td>\n",
       "      <td>30</td>\n",
       "      <td>6</td>\n",
       "      <td>13</td>\n",
       "      <td>15</td>\n",
       "      <td>34</td>\n",
       "      <td>2</td>\n",
       "      <td>0</td>\n",
       "      <td>3</td>\n",
       "      <td>5</td>\n",
       "      <td>8</td>\n",
       "      <td>8.0</td>\n",
       "      <td>0.000000</td>\n",
       "    </tr>\n",
       "    <tr>\n",
       "      <th>1</th>\n",
       "      <td>Arsenal</td>\n",
       "      <td>74</td>\n",
       "      <td>21</td>\n",
       "      <td>7</td>\n",
       "      <td>10</td>\n",
       "      <td>38</td>\n",
       "      <td>26</td>\n",
       "      <td>5</td>\n",
       "      <td>2</td>\n",
       "      <td>4</td>\n",
       "      <td>11</td>\n",
       "      <td>11.0</td>\n",
       "      <td>45.454545</td>\n",
       "    </tr>\n",
       "    <tr>\n",
       "      <th>2</th>\n",
       "      <td>Aston Villa</td>\n",
       "      <td>37</td>\n",
       "      <td>7</td>\n",
       "      <td>17</td>\n",
       "      <td>14</td>\n",
       "      <td>38</td>\n",
       "      <td>16</td>\n",
       "      <td>3</td>\n",
       "      <td>4</td>\n",
       "      <td>3</td>\n",
       "      <td>10</td>\n",
       "      <td>10.0</td>\n",
       "      <td>30.000000</td>\n",
       "    </tr>\n",
       "    <tr>\n",
       "      <th>3</th>\n",
       "      <td>Augsburg</td>\n",
       "      <td>36</td>\n",
       "      <td>8</td>\n",
       "      <td>14</td>\n",
       "      <td>12</td>\n",
       "      <td>34</td>\n",
       "      <td>10</td>\n",
       "      <td>2</td>\n",
       "      <td>4</td>\n",
       "      <td>3</td>\n",
       "      <td>9</td>\n",
       "      <td>9.0</td>\n",
       "      <td>22.222222</td>\n",
       "    </tr>\n",
       "    <tr>\n",
       "      <th>4</th>\n",
       "      <td>Bayern Munich</td>\n",
       "      <td>77</td>\n",
       "      <td>23</td>\n",
       "      <td>4</td>\n",
       "      <td>7</td>\n",
       "      <td>34</td>\n",
       "      <td>29</td>\n",
       "      <td>9</td>\n",
       "      <td>1</td>\n",
       "      <td>1</td>\n",
       "      <td>11</td>\n",
       "      <td>11.0</td>\n",
       "      <td>81.818182</td>\n",
       "    </tr>\n",
       "  </tbody>\n",
       "</table>\n",
       "</div>"
      ],
      "text/plain": [
       "            Team  Goals_x  win_x  draw_x  loss_x  ngames_x  Goals_y  win_y  \\\n",
       "0         Aachen       30      6      13      15        34        2      0   \n",
       "1        Arsenal       74     21       7      10        38       26      5   \n",
       "2    Aston Villa       37      7      17      14        38       16      3   \n",
       "3       Augsburg       36      8      14      12        34       10      2   \n",
       "4  Bayern Munich       77     23       4       7        34       29      9   \n",
       "\n",
       "   draw_y  loss_y  ngames_y  rain  rain_wins_perc  \n",
       "0       3       5         8   8.0        0.000000  \n",
       "1       2       4        11  11.0       45.454545  \n",
       "2       4       3        10  10.0       30.000000  \n",
       "3       4       3         9   9.0       22.222222  \n",
       "4       1       1        11  11.0       81.818182  "
      ]
     },
     "execution_count": 490,
     "metadata": {},
     "output_type": "execute_result"
    }
   ],
   "source": [
    "final_df.head()"
   ]
  },
  {
   "cell_type": "code",
   "execution_count": 477,
   "metadata": {
    "scrolled": true
   },
   "outputs": [
    {
     "data": {
      "text/plain": [
       "Index(['Team', 'Goals_x', 'win_x', 'draw_x', 'loss_x', 'ngames_x', 'Goals_y',\n",
       "       'win_y', 'draw_y', 'loss_y', 'ngames_y', 'rain', 'rain_wins_perc'],\n",
       "      dtype='object')"
      ]
     },
     "execution_count": 477,
     "metadata": {},
     "output_type": "execute_result"
    }
   ],
   "source": [
    "final_df.columns "
   ]
  },
  {
   "cell_type": "code",
   "execution_count": 491,
   "metadata": {},
   "outputs": [],
   "source": [
    "#remove some columns that we do not want in the database\n",
    "to_drop = [   'draw_x', 'loss_x', 'ngames_x', 'Goals_y',\n",
    "       'win_y', 'draw_y', 'loss_y', 'ngames_y', 'rain']"
   ]
  },
  {
   "cell_type": "code",
   "execution_count": 492,
   "metadata": {},
   "outputs": [],
   "source": [
    "final_df.drop(to_drop, axis=1, inplace=True)"
   ]
  },
  {
   "cell_type": "code",
   "execution_count": null,
   "metadata": {},
   "outputs": [],
   "source": []
  },
  {
   "cell_type": "code",
   "execution_count": 467,
   "metadata": {},
   "outputs": [],
   "source": [
    "db_entries = []\n",
    "for entry in range(len(teams_df)):\n",
    "    \n",
    "    \n",
    "    team_name = teams_df['Team'][entry]\n",
    "    team_goals = teams_df['Goals'][entry]\n",
    "    team_wins = teams_df['win'][entry]\n",
    "    \n",
    "    team_wins_wrain = teams_rain_df['rain_wins_perc'][entry]\n",
    "    team_dict = {'name': string(team_name, 'Goals':team_goals, 'win':team_wins, 'rain_wins_perc': np.round(team_wins_wrain,2)}\n",
    "    db_entries.append(dict(team_dict))\n",
    "#     print(team_dict)\n",
    "    # Add it to the database"
   ]
  },
  {
   "cell_type": "code",
   "execution_count": 470,
   "metadata": {
    "collapsed": true
   },
   "outputs": [
    {
     "data": {
      "text/plain": [
       "[{'name': 'Aachen', 'Goals': 30, 'win': 6, 'rain_wins_perc': 0.0},\n",
       " {'name': 'Arsenal', 'Goals': 74, 'win': 21, 'rain_wins_perc': 45.45},\n",
       " {'name': 'Aston Villa', 'Goals': 37, 'win': 7, 'rain_wins_perc': 30.0},\n",
       " {'name': 'Augsburg', 'Goals': 36, 'win': 8, 'rain_wins_perc': 22.22},\n",
       " {'name': 'Bayern Munich', 'Goals': 77, 'win': 23, 'rain_wins_perc': 81.82},\n",
       " {'name': 'Blackburn', 'Goals': 48, 'win': 8, 'rain_wins_perc': 16.67},\n",
       " {'name': 'Bochum', 'Goals': 41, 'win': 10, 'rain_wins_perc': 57.14},\n",
       " {'name': 'Bolton', 'Goals': 46, 'win': 10, 'rain_wins_perc': 40.0},\n",
       " {'name': 'Braunschweig', 'Goals': 37, 'win': 10, 'rain_wins_perc': 33.33},\n",
       " {'name': 'Chelsea', 'Goals': 65, 'win': 18, 'rain_wins_perc': 45.45},\n",
       " {'name': 'Cottbus', 'Goals': 30, 'win': 8, 'rain_wins_perc': 20.0},\n",
       " {'name': 'Dortmund', 'Goals': 80, 'win': 25, 'rain_wins_perc': 53.85},\n",
       " {'name': 'Dresden', 'Goals': 50, 'win': 12, 'rain_wins_perc': 50.0},\n",
       " {'name': 'Duisburg', 'Goals': 42, 'win': 10, 'rain_wins_perc': 36.36},\n",
       " {'name': 'Ein Frankfurt', 'Goals': 76, 'win': 20, 'rain_wins_perc': 55.56},\n",
       " {'name': 'Erzgebirge Aue', 'Goals': 31, 'win': 8, 'rain_wins_perc': 11.11},\n",
       " {'name': 'Everton', 'Goals': 50, 'win': 15, 'rain_wins_perc': 25.0},\n",
       " {'name': 'FC Koln', 'Goals': 39, 'win': 8, 'rain_wins_perc': 9.09},\n",
       " {'name': 'Fortuna Dusseldorf',\n",
       "  'Goals': 64,\n",
       "  'win': 16,\n",
       "  'rain_wins_perc': 75.0},\n",
       " {'name': 'Frankfurt FSV', 'Goals': 43, 'win': 7, 'rain_wins_perc': 10.0},\n",
       " {'name': 'Freiburg', 'Goals': 45, 'win': 10, 'rain_wins_perc': 22.22},\n",
       " {'name': 'Fulham', 'Goals': 48, 'win': 14, 'rain_wins_perc': 40.0},\n",
       " {'name': 'Greuther Furth', 'Goals': 73, 'win': 20, 'rain_wins_perc': 66.67},\n",
       " {'name': 'Hamburg', 'Goals': 35, 'win': 8, 'rain_wins_perc': 0.0},\n",
       " {'name': 'Hannover', 'Goals': 41, 'win': 12, 'rain_wins_perc': 45.45},\n",
       " {'name': 'Hansa Rostock', 'Goals': 34, 'win': 5, 'rain_wins_perc': 0.0},\n",
       " {'name': 'Hertha', 'Goals': 38, 'win': 7, 'rain_wins_perc': 28.57},\n",
       " {'name': 'Hoffenheim', 'Goals': 41, 'win': 10, 'rain_wins_perc': 30.77},\n",
       " {'name': 'Ingolstadt', 'Goals': 43, 'win': 8, 'rain_wins_perc': 15.38},\n",
       " {'name': 'Kaiserslautern', 'Goals': 24, 'win': 4, 'rain_wins_perc': 27.27},\n",
       " {'name': 'Karlsruhe', 'Goals': 34, 'win': 9, 'rain_wins_perc': 40.0},\n",
       " {'name': 'Leverkusen', 'Goals': 52, 'win': 15, 'rain_wins_perc': 50.0},\n",
       " {'name': 'Liverpool', 'Goals': 47, 'win': 14, 'rain_wins_perc': 10.0},\n",
       " {'name': \"M'gladbach\", 'Goals': 49, 'win': 17, 'rain_wins_perc': 61.54},\n",
       " {'name': 'Mainz', 'Goals': 47, 'win': 9, 'rain_wins_perc': 30.0},\n",
       " {'name': 'Man City', 'Goals': 93, 'win': 28, 'rain_wins_perc': 60.0},\n",
       " {'name': 'Man United', 'Goals': 89, 'win': 28, 'rain_wins_perc': 80.0},\n",
       " {'name': 'Munich 1860', 'Goals': 62, 'win': 17, 'rain_wins_perc': 66.67},\n",
       " {'name': 'Newcastle', 'Goals': 56, 'win': 19, 'rain_wins_perc': 55.56},\n",
       " {'name': 'Norwich', 'Goals': 52, 'win': 12, 'rain_wins_perc': 20.0},\n",
       " {'name': 'Nurnberg', 'Goals': 38, 'win': 12, 'rain_wins_perc': 41.67},\n",
       " {'name': 'Paderborn', 'Goals': 51, 'win': 17, 'rain_wins_perc': 46.15},\n",
       " {'name': 'QPR', 'Goals': 43, 'win': 10, 'rain_wins_perc': 25.0},\n",
       " {'name': 'Schalke 04', 'Goals': 74, 'win': 20, 'rain_wins_perc': 57.14},\n",
       " {'name': 'St Pauli', 'Goals': 59, 'win': 18, 'rain_wins_perc': 37.5},\n",
       " {'name': 'Stoke', 'Goals': 36, 'win': 11, 'rain_wins_perc': 63.64},\n",
       " {'name': 'Stuttgart', 'Goals': 63, 'win': 15, 'rain_wins_perc': 30.77},\n",
       " {'name': 'Sunderland', 'Goals': 45, 'win': 11, 'rain_wins_perc': 60.0},\n",
       " {'name': 'Swansea', 'Goals': 44, 'win': 12, 'rain_wins_perc': 35.71},\n",
       " {'name': 'Tottenham', 'Goals': 66, 'win': 20, 'rain_wins_perc': 50.0},\n",
       " {'name': 'Union Berlin', 'Goals': 55, 'win': 14, 'rain_wins_perc': 54.55},\n",
       " {'name': 'Werder Bremen', 'Goals': 49, 'win': 11, 'rain_wins_perc': 54.55},\n",
       " {'name': 'West Brom', 'Goals': 45, 'win': 13, 'rain_wins_perc': 33.33},\n",
       " {'name': 'Wigan', 'Goals': 42, 'win': 11, 'rain_wins_perc': 0.0},\n",
       " {'name': 'Wolfsburg', 'Goals': 47, 'win': 13, 'rain_wins_perc': 45.45},\n",
       " {'name': 'Wolves', 'Goals': 40, 'win': 5, 'rain_wins_perc': 10.0}]"
      ]
     },
     "execution_count": 470,
     "metadata": {},
     "output_type": "execute_result"
    }
   ],
   "source": [
    "db_entries"
   ]
  },
  {
   "cell_type": "code",
   "execution_count": 493,
   "metadata": {},
   "outputs": [],
   "source": [
    "#convert dataframe into a dictionary and add it to the database\n",
    "mydbentry = final_df.to_dict(orient='records')"
   ]
  },
  {
   "cell_type": "code",
   "execution_count": 494,
   "metadata": {
    "collapsed": true
   },
   "outputs": [
    {
     "data": {
      "text/plain": [
       "[{'Team': 'Aachen', 'Goals_x': 30, 'win_x': 6, 'rain_wins_perc': 0.0},\n",
       " {'Team': 'Arsenal',\n",
       "  'Goals_x': 74,\n",
       "  'win_x': 21,\n",
       "  'rain_wins_perc': 45.45454545454545},\n",
       " {'Team': 'Aston Villa', 'Goals_x': 37, 'win_x': 7, 'rain_wins_perc': 30.0},\n",
       " {'Team': 'Augsburg',\n",
       "  'Goals_x': 36,\n",
       "  'win_x': 8,\n",
       "  'rain_wins_perc': 22.22222222222222},\n",
       " {'Team': 'Bayern Munich',\n",
       "  'Goals_x': 77,\n",
       "  'win_x': 23,\n",
       "  'rain_wins_perc': 81.81818181818183},\n",
       " {'Team': 'Blackburn',\n",
       "  'Goals_x': 48,\n",
       "  'win_x': 8,\n",
       "  'rain_wins_perc': 16.666666666666664},\n",
       " {'Team': 'Bochum',\n",
       "  'Goals_x': 41,\n",
       "  'win_x': 10,\n",
       "  'rain_wins_perc': 57.14285714285714},\n",
       " {'Team': 'Bolton', 'Goals_x': 46, 'win_x': 10, 'rain_wins_perc': 40.0},\n",
       " {'Team': 'Braunschweig',\n",
       "  'Goals_x': 37,\n",
       "  'win_x': 10,\n",
       "  'rain_wins_perc': 33.33333333333333},\n",
       " {'Team': 'Chelsea',\n",
       "  'Goals_x': 65,\n",
       "  'win_x': 18,\n",
       "  'rain_wins_perc': 45.45454545454545},\n",
       " {'Team': 'Cottbus', 'Goals_x': 30, 'win_x': 8, 'rain_wins_perc': 20.0},\n",
       " {'Team': 'Dortmund',\n",
       "  'Goals_x': 80,\n",
       "  'win_x': 25,\n",
       "  'rain_wins_perc': 53.84615384615385},\n",
       " {'Team': 'Dresden', 'Goals_x': 50, 'win_x': 12, 'rain_wins_perc': 50.0},\n",
       " {'Team': 'Duisburg',\n",
       "  'Goals_x': 42,\n",
       "  'win_x': 10,\n",
       "  'rain_wins_perc': 36.36363636363637},\n",
       " {'Team': 'Ein Frankfurt',\n",
       "  'Goals_x': 76,\n",
       "  'win_x': 20,\n",
       "  'rain_wins_perc': 55.55555555555556},\n",
       " {'Team': 'Erzgebirge Aue',\n",
       "  'Goals_x': 31,\n",
       "  'win_x': 8,\n",
       "  'rain_wins_perc': 11.11111111111111},\n",
       " {'Team': 'Everton', 'Goals_x': 50, 'win_x': 15, 'rain_wins_perc': 25.0},\n",
       " {'Team': 'FC Koln',\n",
       "  'Goals_x': 39,\n",
       "  'win_x': 8,\n",
       "  'rain_wins_perc': 9.090909090909092},\n",
       " {'Team': 'Fortuna Dusseldorf',\n",
       "  'Goals_x': 64,\n",
       "  'win_x': 16,\n",
       "  'rain_wins_perc': 75.0},\n",
       " {'Team': 'Frankfurt FSV', 'Goals_x': 43, 'win_x': 7, 'rain_wins_perc': 10.0},\n",
       " {'Team': 'Freiburg',\n",
       "  'Goals_x': 45,\n",
       "  'win_x': 10,\n",
       "  'rain_wins_perc': 22.22222222222222},\n",
       " {'Team': 'Fulham', 'Goals_x': 48, 'win_x': 14, 'rain_wins_perc': 40.0},\n",
       " {'Team': 'Greuther Furth',\n",
       "  'Goals_x': 73,\n",
       "  'win_x': 20,\n",
       "  'rain_wins_perc': 66.66666666666666},\n",
       " {'Team': 'Hamburg', 'Goals_x': 35, 'win_x': 8, 'rain_wins_perc': 0.0},\n",
       " {'Team': 'Hannover',\n",
       "  'Goals_x': 41,\n",
       "  'win_x': 12,\n",
       "  'rain_wins_perc': 45.45454545454545},\n",
       " {'Team': 'Hansa Rostock', 'Goals_x': 34, 'win_x': 5, 'rain_wins_perc': 0.0},\n",
       " {'Team': 'Hertha',\n",
       "  'Goals_x': 38,\n",
       "  'win_x': 7,\n",
       "  'rain_wins_perc': 28.57142857142857},\n",
       " {'Team': 'Hoffenheim',\n",
       "  'Goals_x': 41,\n",
       "  'win_x': 10,\n",
       "  'rain_wins_perc': 30.76923076923077},\n",
       " {'Team': 'Ingolstadt',\n",
       "  'Goals_x': 43,\n",
       "  'win_x': 8,\n",
       "  'rain_wins_perc': 15.384615384615385},\n",
       " {'Team': 'Kaiserslautern',\n",
       "  'Goals_x': 24,\n",
       "  'win_x': 4,\n",
       "  'rain_wins_perc': 27.27272727272727},\n",
       " {'Team': 'Karlsruhe', 'Goals_x': 34, 'win_x': 9, 'rain_wins_perc': 40.0},\n",
       " {'Team': 'Leverkusen', 'Goals_x': 52, 'win_x': 15, 'rain_wins_perc': 50.0},\n",
       " {'Team': 'Liverpool', 'Goals_x': 47, 'win_x': 14, 'rain_wins_perc': 10.0},\n",
       " {'Team': \"M'gladbach\",\n",
       "  'Goals_x': 49,\n",
       "  'win_x': 17,\n",
       "  'rain_wins_perc': 61.53846153846154},\n",
       " {'Team': 'Mainz', 'Goals_x': 47, 'win_x': 9, 'rain_wins_perc': 30.0},\n",
       " {'Team': 'Man City', 'Goals_x': 93, 'win_x': 28, 'rain_wins_perc': 60.0},\n",
       " {'Team': 'Man United', 'Goals_x': 89, 'win_x': 28, 'rain_wins_perc': 80.0},\n",
       " {'Team': 'Munich 1860',\n",
       "  'Goals_x': 62,\n",
       "  'win_x': 17,\n",
       "  'rain_wins_perc': 66.66666666666666},\n",
       " {'Team': 'Newcastle',\n",
       "  'Goals_x': 56,\n",
       "  'win_x': 19,\n",
       "  'rain_wins_perc': 55.55555555555556},\n",
       " {'Team': 'Norwich', 'Goals_x': 52, 'win_x': 12, 'rain_wins_perc': 20.0},\n",
       " {'Team': 'Nurnberg',\n",
       "  'Goals_x': 38,\n",
       "  'win_x': 12,\n",
       "  'rain_wins_perc': 41.66666666666667},\n",
       " {'Team': 'Paderborn',\n",
       "  'Goals_x': 51,\n",
       "  'win_x': 17,\n",
       "  'rain_wins_perc': 46.15384615384615},\n",
       " {'Team': 'QPR', 'Goals_x': 43, 'win_x': 10, 'rain_wins_perc': 25.0},\n",
       " {'Team': 'Schalke 04',\n",
       "  'Goals_x': 74,\n",
       "  'win_x': 20,\n",
       "  'rain_wins_perc': 57.14285714285714},\n",
       " {'Team': 'St Pauli', 'Goals_x': 59, 'win_x': 18, 'rain_wins_perc': 37.5},\n",
       " {'Team': 'Stoke',\n",
       "  'Goals_x': 36,\n",
       "  'win_x': 11,\n",
       "  'rain_wins_perc': 63.63636363636363},\n",
       " {'Team': 'Stuttgart',\n",
       "  'Goals_x': 63,\n",
       "  'win_x': 15,\n",
       "  'rain_wins_perc': 30.76923076923077},\n",
       " {'Team': 'Sunderland', 'Goals_x': 45, 'win_x': 11, 'rain_wins_perc': 60.0},\n",
       " {'Team': 'Swansea',\n",
       "  'Goals_x': 44,\n",
       "  'win_x': 12,\n",
       "  'rain_wins_perc': 35.714285714285715},\n",
       " {'Team': 'Tottenham', 'Goals_x': 66, 'win_x': 20, 'rain_wins_perc': 50.0},\n",
       " {'Team': 'Union Berlin',\n",
       "  'Goals_x': 55,\n",
       "  'win_x': 14,\n",
       "  'rain_wins_perc': 54.54545454545454},\n",
       " {'Team': 'Werder Bremen',\n",
       "  'Goals_x': 49,\n",
       "  'win_x': 11,\n",
       "  'rain_wins_perc': 54.54545454545454},\n",
       " {'Team': 'West Brom',\n",
       "  'Goals_x': 45,\n",
       "  'win_x': 13,\n",
       "  'rain_wins_perc': 33.33333333333333},\n",
       " {'Team': 'Wigan', 'Goals_x': 42, 'win_x': 11, 'rain_wins_perc': 0.0},\n",
       " {'Team': 'Wolfsburg',\n",
       "  'Goals_x': 47,\n",
       "  'win_x': 13,\n",
       "  'rain_wins_perc': 45.45454545454545},\n",
       " {'Team': 'Wolves', 'Goals_x': 40, 'win_x': 5, 'rain_wins_perc': 10.0}]"
      ]
     },
     "execution_count": 494,
     "metadata": {},
     "output_type": "execute_result"
    }
   ],
   "source": [
    "mydbentry"
   ]
  },
  {
   "cell_type": "markdown",
   "metadata": {},
   "source": [
    "## Open mongo database and add the data"
   ]
  },
  {
   "cell_type": "code",
   "execution_count": 517,
   "metadata": {},
   "outputs": [],
   "source": [
    "import pymongo\n",
    "\n",
    "myclient = pymongo.MongoClient(\"mongodb://127.0.0.1:27017/\")\n",
    "mydb = myclient[\"soccer_db\"]\n",
    "mycol = mydb[\"teams\"]"
   ]
  },
  {
   "cell_type": "code",
   "execution_count": 483,
   "metadata": {},
   "outputs": [],
   "source": [
    "x = mycol.insert_many(mydbentry)"
   ]
  },
  {
   "cell_type": "code",
   "execution_count": 466,
   "metadata": {
    "collapsed": true
   },
   "outputs": [
    {
     "data": {
      "text/plain": [
       "[ObjectId('5ce596fe22b4c9ec8a0131c7'),\n",
       " ObjectId('5ce596fe22b4c9ec8a0131c8'),\n",
       " ObjectId('5ce596fe22b4c9ec8a0131c9'),\n",
       " ObjectId('5ce596fe22b4c9ec8a0131ca'),\n",
       " ObjectId('5ce596fe22b4c9ec8a0131cb'),\n",
       " ObjectId('5ce596fe22b4c9ec8a0131cc'),\n",
       " ObjectId('5ce596fe22b4c9ec8a0131cd'),\n",
       " ObjectId('5ce596fe22b4c9ec8a0131ce'),\n",
       " ObjectId('5ce596fe22b4c9ec8a0131cf'),\n",
       " ObjectId('5ce596fe22b4c9ec8a0131d0'),\n",
       " ObjectId('5ce596fe22b4c9ec8a0131d1'),\n",
       " ObjectId('5ce596fe22b4c9ec8a0131d2'),\n",
       " ObjectId('5ce596fe22b4c9ec8a0131d3'),\n",
       " ObjectId('5ce596fe22b4c9ec8a0131d4'),\n",
       " ObjectId('5ce596fe22b4c9ec8a0131d5'),\n",
       " ObjectId('5ce596fe22b4c9ec8a0131d6'),\n",
       " ObjectId('5ce596fe22b4c9ec8a0131d7'),\n",
       " ObjectId('5ce596fe22b4c9ec8a0131d8'),\n",
       " ObjectId('5ce596fe22b4c9ec8a0131d9'),\n",
       " ObjectId('5ce596fe22b4c9ec8a0131da'),\n",
       " ObjectId('5ce596fe22b4c9ec8a0131db'),\n",
       " ObjectId('5ce596fe22b4c9ec8a0131dc'),\n",
       " ObjectId('5ce596fe22b4c9ec8a0131dd'),\n",
       " ObjectId('5ce596fe22b4c9ec8a0131de'),\n",
       " ObjectId('5ce596fe22b4c9ec8a0131df'),\n",
       " ObjectId('5ce596fe22b4c9ec8a0131e0'),\n",
       " ObjectId('5ce596fe22b4c9ec8a0131e1'),\n",
       " ObjectId('5ce596fe22b4c9ec8a0131e2'),\n",
       " ObjectId('5ce596fe22b4c9ec8a0131e3'),\n",
       " ObjectId('5ce596fe22b4c9ec8a0131e4'),\n",
       " ObjectId('5ce596fe22b4c9ec8a0131e5'),\n",
       " ObjectId('5ce596fe22b4c9ec8a0131e6'),\n",
       " ObjectId('5ce596fe22b4c9ec8a0131e7'),\n",
       " ObjectId('5ce596fe22b4c9ec8a0131e8'),\n",
       " ObjectId('5ce596fe22b4c9ec8a0131e9'),\n",
       " ObjectId('5ce596fe22b4c9ec8a0131ea'),\n",
       " ObjectId('5ce596fe22b4c9ec8a0131eb'),\n",
       " ObjectId('5ce596fe22b4c9ec8a0131ec'),\n",
       " ObjectId('5ce596fe22b4c9ec8a0131ed'),\n",
       " ObjectId('5ce596fe22b4c9ec8a0131ee'),\n",
       " ObjectId('5ce596fe22b4c9ec8a0131ef'),\n",
       " ObjectId('5ce596fe22b4c9ec8a0131f0'),\n",
       " ObjectId('5ce596fe22b4c9ec8a0131f1'),\n",
       " ObjectId('5ce596fe22b4c9ec8a0131f2'),\n",
       " ObjectId('5ce596fe22b4c9ec8a0131f3'),\n",
       " ObjectId('5ce596fe22b4c9ec8a0131f4'),\n",
       " ObjectId('5ce596fe22b4c9ec8a0131f5'),\n",
       " ObjectId('5ce596fe22b4c9ec8a0131f6'),\n",
       " ObjectId('5ce596fe22b4c9ec8a0131f7'),\n",
       " ObjectId('5ce596fe22b4c9ec8a0131f8'),\n",
       " ObjectId('5ce596fe22b4c9ec8a0131f9'),\n",
       " ObjectId('5ce596fe22b4c9ec8a0131fa'),\n",
       " ObjectId('5ce596fe22b4c9ec8a0131fb'),\n",
       " ObjectId('5ce596fe22b4c9ec8a0131fc'),\n",
       " ObjectId('5ce596fe22b4c9ec8a0131fd'),\n",
       " ObjectId('5ce596fe22b4c9ec8a0131fe')]"
      ]
     },
     "execution_count": 466,
     "metadata": {},
     "output_type": "execute_result"
    }
   ],
   "source": [
    "x.inserted_ids"
   ]
  },
  {
   "cell_type": "markdown",
   "metadata": {},
   "source": [
    "### Let's save the histogram as a binary object and add it to the database"
   ]
  },
  {
   "cell_type": "code",
   "execution_count": 506,
   "metadata": {},
   "outputs": [],
   "source": [
    "from bson import Binary"
   ]
  },
  {
   "cell_type": "code",
   "execution_count": 526,
   "metadata": {},
   "outputs": [],
   "source": [
    "def create_hist(team_name):\n",
    "    fig = plt.figure(figsize=(8,6))\n",
    "    \n",
    "    teams_df2 = teams_df.drop(['ngames','Goals'],axis=1)\n",
    "    teams_df2[teams_df2.Team == team_name].plot('Team',kind='bar')\n",
    "    plt.title(team_name+' Stats',fontsize=18)\n",
    "    plt.ylabel('Games',fontsize=14)\n",
    "    out_name = team_name+'.png'\n",
    "    plt.savefig(out_name)\n",
    "    print('Created figure ', out_name)\n",
    "    \n",
    "    \n",
    "\n",
    "    with open(out_name, mode='rb') as f:\n",
    "        page_info_tuple = {\n",
    "#             \"page_hash\": _page_hash,\n",
    "#             \"ativity_name\": _activity_name,\n",
    "            \"screen_shot\": Binary(f.read())\n",
    "        }\n",
    "\n",
    "    myquery = { \"Team\": team_name }\n",
    "    newvalues = { \"$set\": { \"hist\": page_info_tuple} }\n",
    "\n",
    "    x = mycol.update_one(myquery, newvalues)\n",
    "    return out_name"
   ]
  },
  {
   "cell_type": "code",
   "execution_count": 527,
   "metadata": {},
   "outputs": [
    {
     "name": "stdout",
     "output_type": "stream",
     "text": [
      "Created figure  Aachen.png\n",
      "Created figure  Arsenal.png\n",
      "Created figure  Aston Villa.png\n",
      "Created figure  Augsburg.png\n",
      "Created figure  Bayern Munich.png\n",
      "Created figure  Blackburn.png\n",
      "Created figure  Bochum.png\n",
      "Created figure  Bolton.png\n",
      "Created figure  Braunschweig.png\n",
      "Created figure  Chelsea.png\n",
      "Created figure  Cottbus.png\n",
      "Created figure  Dortmund.png\n",
      "Created figure  Dresden.png\n",
      "Created figure  Duisburg.png\n",
      "Created figure  Ein Frankfurt.png\n",
      "Created figure  Erzgebirge Aue.png\n",
      "Created figure  Everton.png\n",
      "Created figure  FC Koln.png\n",
      "Created figure  Fortuna Dusseldorf.png\n",
      "Created figure  Frankfurt FSV.png\n",
      "Created figure  Freiburg.png\n",
      "Created figure  Fulham.png\n",
      "Created figure  Greuther Furth.png\n",
      "Created figure  Hamburg.png\n",
      "Created figure  Hannover.png\n",
      "Created figure  Hansa Rostock.png\n",
      "Created figure  Hertha.png\n",
      "Created figure  Hoffenheim.png\n",
      "Created figure  Ingolstadt.png\n",
      "Created figure  Kaiserslautern.png\n",
      "Created figure  Karlsruhe.png\n",
      "Created figure  Leverkusen.png\n",
      "Created figure  Liverpool.png\n",
      "Created figure  M'gladbach.png\n",
      "Created figure  Mainz.png\n",
      "Created figure  Man City.png\n",
      "Created figure  Man United.png\n",
      "Created figure  Munich 1860.png\n",
      "Created figure  Newcastle.png\n",
      "Created figure  Norwich.png\n",
      "Created figure  Nurnberg.png\n",
      "Created figure  Paderborn.png\n",
      "Created figure  QPR.png\n",
      "Created figure  Schalke 04.png\n",
      "Created figure  St Pauli.png\n",
      "Created figure  Stoke.png\n",
      "Created figure  Stuttgart.png\n",
      "Created figure  Sunderland.png\n",
      "Created figure  Swansea.png\n",
      "Created figure  Tottenham.png\n",
      "Created figure  Union Berlin.png\n",
      "Created figure  Werder Bremen.png\n",
      "Created figure  West Brom.png\n",
      "Created figure  Wigan.png\n",
      "Created figure  Wolfsburg.png\n",
      "Created figure  Wolves.png\n"
     ]
    },
    {
     "data": {
      "text/plain": [
       "<Figure size 576x432 with 0 Axes>"
      ]
     },
     "metadata": {},
     "output_type": "display_data"
    },
    {
     "data": {
      "image/png": "[encoded data removed]",
      "text/plain": [
       "<Figure size 432x288 with 1 Axes>"
      ]
     },
     "metadata": {
      "needs_background": "light"
     },
     "output_type": "display_data"
    },
    {
     "data": {
      "text/plain": [
       "<Figure size 576x432 with 0 Axes>"
      ]
     },
     "metadata": {},
     "output_type": "display_data"
    },
    {
     "data": {
      "image/png": "[encoded data removed]",
      "text/plain": [
       "<Figure size 432x288 with 1 Axes>"
      ]
     },
     "metadata": {
      "needs_background": "light"
     },
     "output_type": "display_data"
    },
    {
     "data": {
      "text/plain": [
       "<Figure size 576x432 with 0 Axes>"
      ]
     },
     "metadata": {},
     "output_type": "display_data"
    },
    {
     "data": {
      "image/png": "[encoded data removed]",
      "text/plain": [
       "<Figure size 432x288 with 1 Axes>"
      ]
     },
     "metadata": {
      "needs_background": "light"
     },
     "output_type": "display_data"
    },
    {
     "data": {
      "text/plain": [
       "<Figure size 576x432 with 0 Axes>"
      ]
     },
     "metadata": {},
     "output_type": "display_data"
    },
    {
     "data": {
      "image/png": "[encoded data removed]",
      "text/plain": [
       "<Figure size 432x288 with 1 Axes>"
      ]
     },
     "metadata": {
      "needs_background": "light"
     },
     "output_type": "display_data"
    },
    {
     "data": {
      "text/plain": [
       "<Figure size 576x432 with 0 Axes>"
      ]
     },
     "metadata": {},
     "output_type": "display_data"
    },
    {
     "data": {
      "image/png": "[encoded data removed]",
      "text/plain": [
       "<Figure size 432x288 with 1 Axes>"
      ]
     },
     "metadata": {
      "needs_background": "light"
     },
     "output_type": "display_data"
    },
    {
     "data": {
      "text/plain": [
       "<Figure size 576x432 with 0 Axes>"
      ]
     },
     "metadata": {},
     "output_type": "display_data"
    },
    {
     "data": {
      "image/png": "[encoded data removed]",
      "text/plain": [
       "<Figure size 432x288 with 1 Axes>"
      ]
     },
     "metadata": {
      "needs_background": "light"
     },
     "output_type": "display_data"
    },
    {
     "data": {
      "text/plain": [
       "<Figure size 576x432 with 0 Axes>"
      ]
     },
     "metadata": {},
     "output_type": "display_data"
    },
    {
     "data": {
      "image/png": "[encoded data removed]",
      "text/plain": [
       "<Figure size 432x288 with 1 Axes>"
      ]
     },
     "metadata": {
      "needs_background": "light"
     },
     "output_type": "display_data"
    },
    {
     "data": {
      "text/plain": [
       "<Figure size 576x432 with 0 Axes>"
      ]
     },
     "metadata": {},
     "output_type": "display_data"
    },
    {
     "data": {
      "image/png": "[encoded data removed]",
      "text/plain": [
       "<Figure size 432x288 with 1 Axes>"
      ]
     },
     "metadata": {
      "needs_background": "light"
     },
     "output_type": "display_data"
    },
    {
     "data": {
      "text/plain": [
       "<Figure size 576x432 with 0 Axes>"
      ]
     },
     "metadata": {},
     "output_type": "display_data"
    },
    {
     "data": {
      "image/png": "[encoded data removed]",
      "text/plain": [
       "<Figure size 432x288 with 1 Axes>"
      ]
     },
     "metadata": {
      "needs_background": "light"
     },
     "output_type": "display_data"
    },
    {
     "data": {
      "text/plain": [
       "<Figure size 576x432 with 0 Axes>"
      ]
     },
     "metadata": {},
     "output_type": "display_data"
    },
    {
     "data": {
      "image/png": "[encoded data removed]",
      "text/plain": [
       "<Figure size 432x288 with 1 Axes>"
      ]
     },
     "metadata": {
      "needs_background": "light"
     },
     "output_type": "display_data"
    },
    {
     "data": {
      "text/plain": [
       "<Figure size 576x432 with 0 Axes>"
      ]
     },
     "metadata": {},
     "output_type": "display_data"
    },
    {
     "data": {
      "image/png": "[encoded data removed]",
      "text/plain": [
       "<Figure size 432x288 with 1 Axes>"
      ]
     },
     "metadata": {
      "needs_background": "light"
     },
     "output_type": "display_data"
    },
    {
     "data": {
      "text/plain": [
       "<Figure size 576x432 with 0 Axes>"
      ]
     },
     "metadata": {},
     "output_type": "display_data"
    },
    {
     "data": {
      "image/png": "[encoded data removed]",
      "text/plain": [
       "<Figure size 432x288 with 1 Axes>"
      ]
     },
     "metadata": {
      "needs_background": "light"
     },
     "output_type": "display_data"
    },
    {
     "data": {
      "text/plain": [
       "<Figure size 576x432 with 0 Axes>"
      ]
     },
     "metadata": {},
     "output_type": "display_data"
    },
    {
     "data": {
      "image/png": "[encoded data removed]",
      "text/plain": [
       "<Figure size 432x288 with 1 Axes>"
      ]
     },
     "metadata": {
      "needs_background": "light"
     },
     "output_type": "display_data"
    },
    {
     "data": {
      "text/plain": [
       "<Figure size 576x432 with 0 Axes>"
      ]
     },
     "metadata": {},
     "output_type": "display_data"
    },
    {
     "data": {
      "image/png": "[encoded data removed]",
      "text/plain": [
       "<Figure size 432x288 with 1 Axes>"
      ]
     },
     "metadata": {
      "needs_background": "light"
     },
     "output_type": "display_data"
    },
    {
     "data": {
      "text/plain": [
       "<Figure size 576x432 with 0 Axes>"
      ]
     },
     "metadata": {},
     "output_type": "display_data"
    },
    {
     "data": {
      "image/png": "[encoded data removed]",
      "text/plain": [
       "<Figure size 432x288 with 1 Axes>"
      ]
     },
     "metadata": {
      "needs_background": "light"
     },
     "output_type": "display_data"
    },
    {
     "data": {
      "text/plain": [
       "<Figure size 576x432 with 0 Axes>"
      ]
     },
     "metadata": {},
     "output_type": "display_data"
    },
    {
     "data": {
      "image/png": "[encoded data removed]",
      "text/plain": [
       "<Figure size 432x288 with 1 Axes>"
      ]
     },
     "metadata": {
      "needs_background": "light"
     },
     "output_type": "display_data"
    },
    {
     "data": {
      "text/plain": [
       "<Figure size 576x432 with 0 Axes>"
      ]
     },
     "metadata": {},
     "output_type": "display_data"
    },
    {
     "data": {
      "image/png": "[encoded data removed]",
      "text/plain": [
       "<Figure size 432x288 with 1 Axes>"
      ]
     },
     "metadata": {
      "needs_background": "light"
     },
     "output_type": "display_data"
    },
    {
     "data": {
      "text/plain": [
       "<Figure size 576x432 with 0 Axes>"
      ]
     },
     "metadata": {},
     "output_type": "display_data"
    },
    {
     "data": {
      "image/png": "[encoded data removed]",
      "text/plain": [
       "<Figure size 432x288 with 1 Axes>"
      ]
     },
     "metadata": {
      "needs_background": "light"
     },
     "output_type": "display_data"
    },
    {
     "data": {
      "text/plain": [
       "<Figure size 576x432 with 0 Axes>"
      ]
     },
     "metadata": {},
     "output_type": "display_data"
    },
    {
     "data": {
      "image/png": "[encoded data removed]",
      "text/plain": [
       "<Figure size 432x288 with 1 Axes>"
      ]
     },
     "metadata": {
      "needs_background": "light"
     },
     "output_type": "display_data"
    },
    {
     "data": {
      "text/plain": [
       "<Figure size 576x432 with 0 Axes>"
      ]
     },
     "metadata": {},
     "output_type": "display_data"
    },
    {
     "data": {
      "image/png": "[encoded data removed]",
      "text/plain": [
       "<Figure size 432x288 with 1 Axes>"
      ]
     },
     "metadata": {
      "needs_background": "light"
     },
     "output_type": "display_data"
    },
    {
     "data": {
      "text/plain": [
       "<Figure size 576x432 with 0 Axes>"
      ]
     },
     "metadata": {},
     "output_type": "display_data"
    },
    {
     "data": {
      "image/png": "[encoded data removed]",
      "text/plain": [
       "<Figure size 432x288 with 1 Axes>"
      ]
     },
     "metadata": {
      "needs_background": "light"
     },
     "output_type": "display_data"
    },
    {
     "data": {
      "text/plain": [
       "<Figure size 576x432 with 0 Axes>"
      ]
     },
     "metadata": {},
     "output_type": "display_data"
    },
    {
     "data": {
      "image/png": "[encoded data removed]",
      "text/plain": [
       "<Figure size 432x288 with 1 Axes>"
      ]
     },
     "metadata": {
      "needs_background": "light"
     },
     "output_type": "display_data"
    },
    {
     "data": {
      "text/plain": [
       "<Figure size 576x432 with 0 Axes>"
      ]
     },
     "metadata": {},
     "output_type": "display_data"
    },
    {
     "data": {
      "image/png": "[encoded data removed]",
      "text/plain": [
       "<Figure size 432x288 with 1 Axes>"
      ]
     },
     "metadata": {
      "needs_background": "light"
     },
     "output_type": "display_data"
    },
    {
     "data": {
      "text/plain": [
       "<Figure size 576x432 with 0 Axes>"
      ]
     },
     "metadata": {},
     "output_type": "display_data"
    },
    {
     "data": {
      "image/png": "[encoded data removed]",
      "text/plain": [
       "<Figure size 432x288 with 1 Axes>"
      ]
     },
     "metadata": {
      "needs_background": "light"
     },
     "output_type": "display_data"
    },
    {
     "data": {
      "text/plain": [
       "<Figure size 576x432 with 0 Axes>"
      ]
     },
     "metadata": {},
     "output_type": "display_data"
    },
    {
     "data": {
      "image/png": "[encoded data removed]",
      "text/plain": [
       "<Figure size 432x288 with 1 Axes>"
      ]
     },
     "metadata": {
      "needs_background": "light"
     },
     "output_type": "display_data"
    },
    {
     "data": {
      "text/plain": [
       "<Figure size 576x432 with 0 Axes>"
      ]
     },
     "metadata": {},
     "output_type": "display_data"
    },
    {
     "data": {
      "image/png": "[encoded data removed]",
      "text/plain": [
       "<Figure size 432x288 with 1 Axes>"
      ]
     },
     "metadata": {
      "needs_background": "light"
     },
     "output_type": "display_data"
    },
    {
     "data": {
      "text/plain": [
       "<Figure size 576x432 with 0 Axes>"
      ]
     },
     "metadata": {},
     "output_type": "display_data"
    },
    {
     "data": {
      "image/png": "[encoded data removed]",
      "text/plain": [
       "<Figure size 432x288 with 1 Axes>"
      ]
     },
     "metadata": {
      "needs_background": "light"
     },
     "output_type": "display_data"
    },
    {
     "data": {
      "text/plain": [
       "<Figure size 576x432 with 0 Axes>"
      ]
     },
     "metadata": {},
     "output_type": "display_data"
    },
    {
     "data": {
      "image/png": "[encoded data removed]",
      "text/plain": [
       "<Figure size 432x288 with 1 Axes>"
      ]
     },
     "metadata": {
      "needs_background": "light"
     },
     "output_type": "display_data"
    },
    {
     "data": {
      "text/plain": [
       "<Figure size 576x432 with 0 Axes>"
      ]
     },
     "metadata": {},
     "output_type": "display_data"
    },
    {
     "data": {
      "image/png": "[encoded data removed]",
      "text/plain": [
       "<Figure size 432x288 with 1 Axes>"
      ]
     },
     "metadata": {
      "needs_background": "light"
     },
     "output_type": "display_data"
    },
    {
     "data": {
      "text/plain": [
       "<Figure size 576x432 with 0 Axes>"
      ]
     },
     "metadata": {},
     "output_type": "display_data"
    },
    {
     "data": {
      "image/png": "[encoded data removed]",
      "text/plain": [
       "<Figure size 432x288 with 1 Axes>"
      ]
     },
     "metadata": {
      "needs_background": "light"
     },
     "output_type": "display_data"
    },
    {
     "data": {
      "text/plain": [
       "<Figure size 576x432 with 0 Axes>"
      ]
     },
     "metadata": {},
     "output_type": "display_data"
    },
    {
     "data": {
      "image/png": "[encoded data removed]",
      "text/plain": [
       "<Figure size 432x288 with 1 Axes>"
      ]
     },
     "metadata": {
      "needs_background": "light"
     },
     "output_type": "display_data"
    },
    {
     "data": {
      "text/plain": [
       "<Figure size 576x432 with 0 Axes>"
      ]
     },
     "metadata": {},
     "output_type": "display_data"
    },
    {
     "data": {
      "image/png": "[encoded data removed]",
      "text/plain": [
       "<Figure size 432x288 with 1 Axes>"
      ]
     },
     "metadata": {
      "needs_background": "light"
     },
     "output_type": "display_data"
    },
    {
     "data": {
      "text/plain": [
       "<Figure size 576x432 with 0 Axes>"
      ]
     },
     "metadata": {},
     "output_type": "display_data"
    },
    {
     "data": {
      "image/png": "[encoded data removed]",
      "text/plain": [
       "<Figure size 432x288 with 1 Axes>"
      ]
     },
     "metadata": {
      "needs_background": "light"
     },
     "output_type": "display_data"
    },
    {
     "data": {
      "text/plain": [
       "<Figure size 576x432 with 0 Axes>"
      ]
     },
     "metadata": {},
     "output_type": "display_data"
    },
    {
     "data": {
      "image/png": "[encoded data removed]",
      "text/plain": [
       "<Figure size 432x288 with 1 Axes>"
      ]
     },
     "metadata": {
      "needs_background": "light"
     },
     "output_type": "display_data"
    },
    {
     "data": {
      "text/plain": [
       "<Figure size 576x432 with 0 Axes>"
      ]
     },
     "metadata": {},
     "output_type": "display_data"
    },
    {
     "data": {
      "image/png": "[encoded data removed]",
      "text/plain": [
       "<Figure size 432x288 with 1 Axes>"
      ]
     },
     "metadata": {
      "needs_background": "light"
     },
     "output_type": "display_data"
    },
    {
     "data": {
      "text/plain": [
       "<Figure size 576x432 with 0 Axes>"
      ]
     },
     "metadata": {},
     "output_type": "display_data"
    },
    {
     "data": {
      "image/png": "[encoded data removed]",
      "text/plain": [
       "<Figure size 432x288 with 1 Axes>"
      ]
     },
     "metadata": {
      "needs_background": "light"
     },
     "output_type": "display_data"
    },
    {
     "data": {
      "text/plain": [
       "<Figure size 576x432 with 0 Axes>"
      ]
     },
     "metadata": {},
     "output_type": "display_data"
    },
    {
     "data": {
      "image/png": "[encoded data removed]",
      "text/plain": [
       "<Figure size 432x288 with 1 Axes>"
      ]
     },
     "metadata": {
      "needs_background": "light"
     },
     "output_type": "display_data"
    },
    {
     "data": {
      "text/plain": [
       "<Figure size 576x432 with 0 Axes>"
      ]
     },
     "metadata": {},
     "output_type": "display_data"
    },
    {
     "data": {
      "image/png": "[encoded data removed]",
      "text/plain": [
       "<Figure size 432x288 with 1 Axes>"
      ]
     },
     "metadata": {
      "needs_background": "light"
     },
     "output_type": "display_data"
    },
    {
     "data": {
      "text/plain": [
       "<Figure size 576x432 with 0 Axes>"
      ]
     },
     "metadata": {},
     "output_type": "display_data"
    },
    {
     "data": {
      "image/png": "[encoded data removed]",
      "text/plain": [
       "<Figure size 432x288 with 1 Axes>"
      ]
     },
     "metadata": {
      "needs_background": "light"
     },
     "output_type": "display_data"
    },
    {
     "data": {
      "text/plain": [
       "<Figure size 576x432 with 0 Axes>"
      ]
     },
     "metadata": {},
     "output_type": "display_data"
    },
    {
     "data": {
      "image/png": "[encoded data removed]",
      "text/plain": [
       "<Figure size 432x288 with 1 Axes>"
      ]
     },
     "metadata": {
      "needs_background": "light"
     },
     "output_type": "display_data"
    },
    {
     "data": {
      "text/plain": [
       "<Figure size 576x432 with 0 Axes>"
      ]
     },
     "metadata": {},
     "output_type": "display_data"
    },
    {
     "data": {
      "image/png": "[encoded data removed]",
      "text/plain": [
       "<Figure size 432x288 with 1 Axes>"
      ]
     },
     "metadata": {
      "needs_background": "light"
     },
     "output_type": "display_data"
    },
    {
     "data": {
      "text/plain": [
       "<Figure size 576x432 with 0 Axes>"
      ]
     },
     "metadata": {},
     "output_type": "display_data"
    },
    {
     "data": {
      "image/png": "[encoded data removed]",
      "text/plain": [
       "<Figure size 432x288 with 1 Axes>"
      ]
     },
     "metadata": {
      "needs_background": "light"
     },
     "output_type": "display_data"
    },
    {
     "data": {
      "text/plain": [
       "<Figure size 576x432 with 0 Axes>"
      ]
     },
     "metadata": {},
     "output_type": "display_data"
    },
    {
     "data": {
      "image/png": "[encoded data removed]",
      "text/plain": [
       "<Figure size 432x288 with 1 Axes>"
      ]
     },
     "metadata": {
      "needs_background": "light"
     },
     "output_type": "display_data"
    },
    {
     "data": {
      "text/plain": [
       "<Figure size 576x432 with 0 Axes>"
      ]
     },
     "metadata": {},
     "output_type": "display_data"
    },
    {
     "data": {
      "image/png": "[encoded data removed]",
      "text/plain": [
       "<Figure size 432x288 with 1 Axes>"
      ]
     },
     "metadata": {
      "needs_background": "light"
     },
     "output_type": "display_data"
    },
    {
     "data": {
      "text/plain": [
       "<Figure size 576x432 with 0 Axes>"
      ]
     },
     "metadata": {},
     "output_type": "display_data"
    },
    {
     "data": {
      "image/png": "[encoded data removed]",
      "text/plain": [
       "<Figure size 432x288 with 1 Axes>"
      ]
     },
     "metadata": {
      "needs_background": "light"
     },
     "output_type": "display_data"
    },
    {
     "data": {
      "text/plain": [
       "<Figure size 576x432 with 0 Axes>"
      ]
     },
     "metadata": {},
     "output_type": "display_data"
    },
    {
     "data": {
      "image/png": "[encoded data removed]",
      "text/plain": [
       "<Figure size 432x288 with 1 Axes>"
      ]
     },
     "metadata": {
      "needs_background": "light"
     },
     "output_type": "display_data"
    },
    {
     "data": {
      "text/plain": [
       "<Figure size 576x432 with 0 Axes>"
      ]
     },
     "metadata": {},
     "output_type": "display_data"
    },
    {
     "data": {
      "image/png": "[encoded data removed]",
      "text/plain": [
       "<Figure size 432x288 with 1 Axes>"
      ]
     },
     "metadata": {
      "needs_background": "light"
     },
     "output_type": "display_data"
    },
    {
     "data": {
      "text/plain": [
       "<Figure size 576x432 with 0 Axes>"
      ]
     },
     "metadata": {},
     "output_type": "display_data"
    },
    {
     "data": {
      "image/png": "[encoded data removed]",
      "text/plain": [
       "<Figure size 432x288 with 1 Axes>"
      ]
     },
     "metadata": {
      "needs_background": "light"
     },
     "output_type": "display_data"
    },
    {
     "data": {
      "text/plain": [
       "<Figure size 576x432 with 0 Axes>"
      ]
     },
     "metadata": {},
     "output_type": "display_data"
    },
    {
     "data": {
      "image/png": "[encoded data removed]",
      "text/plain": [
       "<Figure size 432x288 with 1 Axes>"
      ]
     },
     "metadata": {
      "needs_background": "light"
     },
     "output_type": "display_data"
    },
    {
     "data": {
      "text/plain": [
       "<Figure size 576x432 with 0 Axes>"
      ]
     },
     "metadata": {},
     "output_type": "display_data"
    },
    {
     "data": {
      "image/png": "[encoded data removed]",
      "text/plain": [
       "<Figure size 432x288 with 1 Axes>"
      ]
     },
     "metadata": {
      "needs_background": "light"
     },
     "output_type": "display_data"
    },
    {
     "data": {
      "text/plain": [
       "<Figure size 576x432 with 0 Axes>"
      ]
     },
     "metadata": {},
     "output_type": "display_data"
    },
    {
     "data": {
      "image/png": "[encoded data removed]",
      "text/plain": [
       "<Figure size 432x288 with 1 Axes>"
      ]
     },
     "metadata": {
      "needs_background": "light"
     },
     "output_type": "display_data"
    },
    {
     "data": {
      "text/plain": [
       "<Figure size 576x432 with 0 Axes>"
      ]
     },
     "metadata": {},
     "output_type": "display_data"
    },
    {
     "data": {
      "image/png": "[encoded data removed]",
      "text/plain": [
       "<Figure size 432x288 with 1 Axes>"
      ]
     },
     "metadata": {
      "needs_background": "light"
     },
     "output_type": "display_data"
    },
    {
     "data": {
      "text/plain": [
       "<Figure size 576x432 with 0 Axes>"
      ]
     },
     "metadata": {},
     "output_type": "display_data"
    },
    {
     "data": {
      "image/png": "[encoded data removed]",
      "text/plain": [
       "<Figure size 432x288 with 1 Axes>"
      ]
     },
     "metadata": {
      "needs_background": "light"
     },
     "output_type": "display_data"
    },
    {
     "data": {
      "text/plain": [
       "<Figure size 576x432 with 0 Axes>"
      ]
     },
     "metadata": {},
     "output_type": "display_data"
    },
    {
     "data": {
      "image/png": "[encoded data removed]",
      "text/plain": [
       "<Figure size 432x288 with 1 Axes>"
      ]
     },
     "metadata": {
      "needs_background": "light"
     },
     "output_type": "display_data"
    },
    {
     "data": {
      "text/plain": [
       "<Figure size 576x432 with 0 Axes>"
      ]
     },
     "metadata": {},
     "output_type": "display_data"
    },
    {
     "data": {
      "image/png": "[encoded data removed]",
      "text/plain": [
       "<Figure size 432x288 with 1 Axes>"
      ]
     },
     "metadata": {
      "needs_background": "light"
     },
     "output_type": "display_data"
    },
    {
     "data": {
      "text/plain": [
       "<Figure size 576x432 with 0 Axes>"
      ]
     },
     "metadata": {},
     "output_type": "display_data"
    },
    {
     "data": {
      "image/png": "[encoded data removed]",
      "text/plain": [
       "<Figure size 432x288 with 1 Axes>"
      ]
     },
     "metadata": {
      "needs_background": "light"
     },
     "output_type": "display_data"
    }
   ],
   "source": [
    "for entry in range(len(teams_df)):\n",
    "       \n",
    "    team_name = teams_df['Team'][entry]\n",
    "    create_hist(team_name)"
   ]
  },
  {
   "cell_type": "markdown",
   "metadata": {},
   "source": [
    "## Let's look at the database"
   ]
  },
  {
   "cell_type": "code",
   "execution_count": 530,
   "metadata": {},
   "outputs": [],
   "source": [
    "query = mycol.find({'Team': 'Wolves'})"
   ]
  },
  {
   "cell_type": "code",
   "execution_count": 529,
   "metadata": {},
   "outputs": [
    {
     "name": "stdout",
     "output_type": "stream",
     "text": [
      "{'_id': ObjectId('5ce5998a22b4c9ec8a01326f'), 'Team': 'Wolves', 'Goals_x': 40, 'win_x': 5, 'rain_wins_perc': 10.0, 'hist': {'screen_shot': b'\\x89PNG\\r\\n\\x1a\\n\\x00\\x00\\x00\\rIHDR\\x00\\x00\\x01\\xb0\\x00\\x00\\x01 \\x08\\x06\\x00\\x00\\x00\\xd5(&i\\x00\\x00\\x00\\x04sBIT\\x08\\x08\\x08\\x08|\\x08d\\x88\\x00\\x00\\x00\\tpHYs\\x00\\x00\\x0b\\x12\\x00\\x00\\x0b\\x12\\x01\\xd2\\xdd~\\xfc\\x00\\x00\\x009tEXtSoftware\\x00matplotlib version 3.0.2, http://matplotlib.org/8\\x80;\\xad\\x00\\x00 \\x00IDATx\\x9c\\xed\\xdd{X\\xd6\\xf5\\xfd\\xc7\\xf1\\xd7\\xcdAP1\\x0f\\x08\\x88b\\xe2\\x81\\x08\\x85\\xa2B\\x0c\\x0f \\x9ej\\xbat\\x86\\xce\\xc32\\n\\xa7\\x9b\\xb3V.g.\\xdb\\xef\\xc2\\xcd\\x15#[\\x07\\xad\\x16\\xcb9\\xf0*\\xcdV\\x1e\\xa7\\x96k0\\x15kx\\x97xfc\\xa9%^\\xa4\\xa0x\\xc0\\x13\\x08\\xdf\\xdf\\x1f\\xce\\xbb\\x085\\xab/\\xf7\\xf7\\xfe\\xc2\\xf3q]^\\x17\\xf7\\xe7\\xfb\\xe5\\xf3y\\xdf\\xf7u\\xc9\\xeb\\xfa|\\xbe\\x9f\\xfb\\xfbu\\x18\\x86a\\x08\\x00\\x00\\x9b\\xf1\\xb2\\xba\\x00\\x00\\x00\\xbe\\r\\x02\\x0c\\x00`K\\x04\\x18\\x00\\xc0\\x96\\x080\\x00\\x80-\\x11`\\x00\\x00[\"\\xc0\\x00\\x00\\xb6D\\x80\\x01\\x00l\\x89\\x00\\x03\\x00\\xd8\\x12\\x01\\x06\\x00\\xb0%\\x02\\x0c\\x00`K\\x04\\x18\\x00\\xc0\\x96\\x080\\x00\\x80-\\x11`\\x00\\x00[\"\\xc0\\x00\\x00\\xb6D\\x80\\xa1\\xc9{\\xf2\\xc9\\'\\xe5p8TRRbu)\\x00\\xbe\\x01\\x02\\x0c\\x1ec\\xc3\\x86\\rr8\\x1c\\xfa\\xf5\\xaf\\x7f]\\xef\\xd8\\x07\\x1f| \\x87\\xc3!???\\x9d={\\xb6\\xde\\xf1\\xbb\\xee\\xbaK^^^*//wG\\xa9\\x96\\xc9\\xcb\\xcb\\xd3=\\xf7\\xdc\\xa3.]\\xba\\xc8\\xcf\\xcfO!!!\\xea\\xdd\\xbb\\xb7\\x1ey\\xe4\\x11\\x1d<x\\xd0u\\xde\\xfe\\xfd\\xfb\\x95\\x9e\\x9e\\xae\\x9d;w~\\xa7\\xf1\\x8e\\x1f?\\xae\\xf4\\xf4tm\\xda\\xb4\\xe9;V\\x0e\\x98\\x8f\\x00\\x83\\xc7\\xe8\\xdf\\xbf\\xbf|||\\x94\\x9b\\x9b[\\xefX^^\\x9e|||TUU\\xa5\\xad[\\xb7\\xd69v\\xf1\\xe2Em\\xdd\\xbaU\\xd1\\xd1\\xd1j\\xdf\\xbe\\xbd\\xbb\\xcau\\xbb\\x05\\x0b\\x16(99Y\\xfb\\xf6\\xed\\xd3\\x83\\x0f>\\xa8\\x97_~Y\\x8f>\\xfa\\xa8\"\"\"\\xf4\\xe7?\\xffY\\x85\\x85\\x85\\xaes\\xf7\\xef\\xdf\\xaf\\xb9s\\xe7\\x9a\\x12`s\\xe7\\xce%\\xc0\\xe0\\x91|\\xac.\\x00\\xb8,  @\\xbd{\\xf7VAA\\x81\\xce\\x9e=\\xab\\x16-Z\\xb8\\x8e\\xe5\\xe5\\xe5i\\xe8\\xd0\\xa1*,,T^^\\x9e\\x86\\x0c\\x19\\xe2:\\xb6m\\xdb6UVVj\\xe0\\xc0\\x81\\x16T\\xed\\x1eUUUz\\xf2\\xc9\\'\\xd5\\xb5kWm\\xdf\\xbe]\\xadZ\\xb5\\xaas\\xfc\\xec\\xd9\\xb3:\\x7f\\xfe\\xbcE\\xd5\\x01\\xd6`\\x06\\x06\\x8f\\x92\\x9c\\x9c\\xac\\xea\\xeaj\\xe5\\xe7\\xe7\\xbb\\xda.\\xcf\\xb0\\x92\\x92\\x92\\x94\\x98\\x98Xo\\x86\\x96\\x97\\x97\\xe7\\xfa\\xdd/+,,\\xd4\\xa8Q\\xa3\\xd4\\xae];\\xf9\\xfb\\xfb\\xabW\\xaf^z\\xf6\\xd9gU[[{\\xcd\\x1a\\x16,X \\x87\\xc3\\xa1u\\xeb\\xd6\\xd5;VSS\\xa3\\xd0\\xd0P\\xc5\\xc5\\xc5\\xd5i/((\\xd0\\xa8Q\\xa3\\x14\\x18\\x18(???EFF\\xea\\xe9\\xa7\\x9fVMMM\\x9d\\xf3v\\xed\\xda\\xa5\\x94\\x94\\x14u\\xea\\xd4I~~~\\n\\r\\r\\xd5\\xa0A\\x83\\xb4~\\xfd\\xfak\\xd6t\\xf4\\xe8Q\\x9d:uJ\\xf1\\xf1\\xf1\\xf5\\xc2K\\x92Z\\xb4h\\xa1v\\xed\\xdaI\\x92^{\\xed5\\r\\x1d:T\\x924i\\xd2$9\\x1c\\x0e9\\x1c\\x0eW\\xe8_\\xbcxQ\\xf3\\xe6\\xcd\\xd3\\x80\\x01\\x03\\x14\\x12\\x12\\xa2f\\xcd\\x9a\\xa9K\\x97.\\x9a>}\\xba\\x8e\\x1f?\\xee\\xea\\xf3\\xef\\x7f\\xff\\xbb\"\"\"$I\\xbf\\xfe\\xf5\\xaf]\\xfd\\xf4\\xe8\\xd1\\xc3u\\xce_\\xfe\\xf2\\x17\\xf5\\xee\\xdd[m\\xda\\xb4Q\\xcb\\x96-\\xd5\\xbd{w\\xddw\\xdf}:v\\xec\\xd85\\xdf\\x0f`\\x06f`\\xf0(\\xc9\\xc9\\xc9z\\xea\\xa9\\xa7\\\\3.\\xe9\\x8b\\x19VRR\\x92n\\xb8\\xe1\\x06=\\xf2\\xc8#:s\\xe6\\x8cZ\\xb6l)\\xe9R\\x809\\x1c\\x0e%%%\\xb9\\xfa\\xf9\\xd7\\xbf\\xfe\\xa5\\xe4\\xe4d\\xf9\\xf9\\xf9i\\xfa\\xf4\\xe9\\n\\t\\t\\xd1\\xaaU\\xab4s\\xe6L\\xed\\xdc\\xb9S\\xd9\\xd9\\xd9W\\xada\\xc2\\x84\\tz\\xec\\xb1\\xc7\\x94\\x93\\x93\\xa3\\xe1\\xc3\\x87\\xd79\\xf6\\xde{\\xef\\xe9\\xf3\\xcf?\\xd7\\x13O<\\xe1j[\\xbdz\\xb5\\xc6\\x8c\\x19\\xa3\\xc8\\xc8H\\xfd\\xf2\\x97\\xbfT\\xdb\\xb6m\\x95\\x9f\\x9f\\xaf9s\\xe6h\\xe7\\xce\\x9dZ\\xbat\\xa9$\\xa9\\xac\\xacL\\x83\\x06\\r\\x92\\xb7\\xb7\\xb7~\\xfa\\xd3\\x9f\\xea\\xc6\\x1boTyy\\xb9\\xb6m\\xdb\\xa6\\x82\\x82\\x02}\\xef{\\xdf\\xbbjM\\xa1\\xa1\\xa1j\\xde\\xbc\\xb9\\xf2\\xf2\\xf2T\\\\\\\\\\xec\\n\\x96\\xab}\\x86\\xb3g\\xcfVFF\\x86\\xa6M\\x9b\\xa6\\xbe}\\xfb\\xba\\xfa\\x90\\xa4\\xf3\\xe7\\xcf\\xeb\\xd9g\\x9fUJJ\\x8a~\\xf0\\x83\\x1f\\xa8e\\xcb\\x96*((PVV\\x96\\xf2\\xf3\\xf3\\xb5m\\xdb6\\xf9\\xfa\\xfa*::Z\\xf3\\xe7\\xcf\\xd7\\xcc\\x9935f\\xcc\\x18\\x8d\\x1a5J\\x92\\\\\\x01\\xbax\\xf1b\\xa5\\xa5\\xa5)))I\\xbf\\xf9\\xcdo\\xd4\\xbcys}\\xf6\\xd9gZ\\xb7n\\x9d\\xca\\xcb\\xcb\\x15\\x18\\x18x\\xd5\\x1a\\x01S\\x18\\x80\\x079{\\xf6\\xac\\xd1\\xacY3#!!\\xc1\\xd5\\xf6\\xd4SO\\x19-[\\xb64\\xaa\\xab\\xab\\x8d\\xbd{\\xf7\\x1a\\x92\\x8cw\\xdf}\\xd70\\x0c\\xc3\\xa8\\xae\\xae6\\x02\\x02\\x02\\x8c[o\\xbd\\xb5N?\\xf1\\xf1\\xf1\\x86\\x8f\\x8f\\x8f\\xb1k\\xd7.W[mm\\xadq\\xef\\xbd\\xf7\\x1a\\x92\\x8c\\xbc\\xbc<W\\xfb\\x9c9s\\x0cI\\xc6\\xa1C\\x87\\\\m?\\xf8\\xc1\\x0f\\x0c\\x7f\\x7f\\x7f\\xe3\\xc4\\x89\\x13u\\xfa\\x1d?~\\xbc\\xe1\\xeb\\xebk\\x94\\x95\\x95\\x19\\x86a\\x18g\\xce\\x9c1\\xda\\xb7oo\\x0c\\x1c8\\xd0\\xb8x\\xf1b\\x9ds333\\rI\\xc6\\xe6\\xcd\\x9b\\r\\xc30\\x8c\\xb7\\xdf~\\xdb\\x90d\\xbc\\xfd\\xf6\\xdb\\xdf\\xea\\xb3\\xc9\\xc8\\xc80$\\x19\\xde\\xde\\xdeF||\\xbc\\xf1\\xc8#\\x8f\\x18\\xaf\\xbf\\xfe\\xba\\xf1\\xf9\\xe7\\x9f\\xd7;w\\xe3\\xc6\\x8d\\x86$c\\xc9\\x92%\\xf5\\x8e\\xd5\\xd4\\xd4\\x18g\\xcf\\x9e\\xad\\xd7\\xfe\\xc7?\\xfe\\xb1^}\\xc5\\xc5\\xc5\\x86$\\xe3\\xb7\\xbf\\xfdm\\xbd\\xf3\\xef\\xb9\\xe7\\x1e\\xa3m\\xdb\\xb6\\xf5\\xde7\\xe0.,!\\xc2\\xa34o\\xde\\\\}\\xfa\\xf4\\x91\\xd3\\xe9\\xd4\\x993g$]\\x9aa\\xf5\\xeb\\xd7O>>>\\x8a\\x8a\\x8aRpp\\xb0k\\xd9\\xf0\\xf2\\xec\\xec\\xcb\\xcb\\x87\\xa5\\xa5\\xa5*((\\xd0\\xe8\\xd1\\xa3\\x15\\x1d\\x1d\\xedjw8\\x1c\\xfa\\xd5\\xaf~%IZ\\xb1b\\xc55\\xebHMM\\xd5\\xf9\\xf3\\xe7\\xf5\\xd6[o\\xb9\\xdaN\\x9d:\\xa5U\\xabVi\\xc4\\x88\\x11\\xae\\xcd\"\\xef\\xbe\\xfb\\xae\\xca\\xcb\\xcb\\x95\\x96\\x96\\xa6\\x8a\\x8a\\n\\x95\\x97\\x97\\xbb\\xfe]\\x9e\\xbd\\xbd\\xf7\\xde{\\x92\\xa4\\xd6\\xad[K\\x92\\xd6\\xad[\\xa7\\xd3\\xa7O\\x7f\\xe3\\xcf\\xe6\\xf1\\xc7\\x1f\\xd7\\xca\\x95+5t\\xe8P\\xed\\xd9\\xb3G/\\xbc\\xf0\\x82~\\xf4\\xa3\\x1f\\xa9S\\xa7N\\x9a2e\\x8a\\xce\\x9d;w]\\xfdxyy\\xa9y\\xf3\\xe6\\x92.-\\x89\\x9e8qB\\xe5\\xe5\\xe5\\x1a4h\\x90\\xa4K\\xb3\\xd7\\xeb\\xd1\\xbauk\\x9d>}Z\\xeb\\xd6\\xad\\x93a\\x18\\xdf\\xf8\\xfd\\x00\\xdf\\x15\\x01\\x06\\x8fs\\xf9:\\xd8\\x96-[\\xea\\\\\\xff\\xba\\xec\\xcb\\xd7\\xc1.\\x07\\xd9\\x977p\\xec\\xdf\\xbf_\\x92\\xd4\\xabW\\xafz}_n\\xbb|\\xce\\xd5\\x8c\\x181B\\x81\\x81\\x81\\xca\\xc9\\xc9q\\xb5\\xbd\\xf5\\xd6[:w\\xee\\x9cRSS]m\\xfb\\xf6\\xed\\x93$\\xdd\\x7f\\xff\\xfd\\n\\n\\n\\xaa\\xf3\\xefrx\\x1e9rD\\x924h\\xd0 M\\x9c8Q\\x8b\\x16-R``\\xa0\\xfa\\xf5\\xeb\\xa7\\xb9s\\xe7\\xaa\\xa8\\xa8\\xe8\\xba>\\x17I\\x1a5j\\x94\\xd6\\xaf_\\xaf\\x93\\'Oj\\xc7\\x8e\\x1d\\xfa\\xc3\\x1f\\xfe\\xa0N\\x9d:\\xe9\\xb5\\xd7^\\xd3\\xcc\\x993\\xaf\\xbb\\x9fe\\xcb\\x96\\xa9w\\xef\\xdej\\xde\\xbc\\xb9\\xda\\xb6m\\xab\\xa0\\xa0 \\xddt\\xd3M\\x92\\xa4\\x8a\\x8a\\x8a\\xeb\\xea\\xe3\\xc9\\'\\x9fTXX\\x98F\\x8e\\x1c\\xa9\\xe0\\xe0`\\x8d\\x193F\\x8b\\x16-Ree\\xe5u\\xd7\\x01|\\x17\\x04\\x18<\\xce\\xe5\\xd9T^^^\\x9d\\xeb_\\x97%%%\\xc9\\xe9t\\xaa\\xb2\\xb2Ryyy\\xf2\\xf2\\xf2Rbb\\xa2\\xeb\\xf8\\xb5f\\x03\\x0e\\x87\\xe3\\xbaj\\xf0\\xf5\\xf5\\xd5\\x84\\t\\x13\\xb4e\\xcb\\x16\\x1d8p@\\x92\\x94\\x93\\x93\\xa3\\xc0\\xc0@\\x8d\\x181\\xa2\\xdeX\\x7f\\xf8\\xc3\\x1f\\xb4q\\xe3\\xc6+\\xfe{\\xf4\\xd1G]c\\xbf\\xfe\\xfa\\xeb\\xda\\xb9s\\xa7\\xe6\\xcd\\x9b\\xa7v\\xed\\xda)33S\\xd1\\xd1\\xd1z\\xe5\\x95W\\xae\\xf3\\xd3\\xb9\\xc4\\xdb\\xdb[\\xb7\\xdcr\\x8bf\\xcc\\x98\\xa1\\x82\\x82\\x02\\xb5j\\xd5J\\x7f\\xf9\\xcb_\\xbev\\x83\\x8a$-_\\xbe\\\\\\x13&L\\x90\\x8f\\x8f\\x8f^|\\xf1E\\xadY\\xb3F\\x1b7n\\xd4\\xdf\\xfe\\xf67I\\xba\\xae>$)22REEEZ\\xbbv\\xad&M\\x9a\\xa4\\x03\\x07\\x0e\\xe8\\xc7?\\xfe\\xb1\\xa2\\xa2\\xa2\\\\\\x9f\\x19\\xd0\\x90\\xd8\\xc4\\x01\\x8f\\x93\\x90\\x90 \\x7f\\x7f\\x7f\\xe5\\xe6\\xe6\\xea\\x86\\x1bnP\\xf3\\xe6\\xcd\\xd5\\xbbwo\\xd7\\xf1\\xa4\\xa4$]\\xbcxQyyy\\xca\\xcf\\xcfWll\\xac\\xda\\xb6m\\xeb:\\xde\\xbd{wI\\xd2\\x9e={\\xea\\xf5\\xbdw\\xef^IR\\xb7n\\xdd\\xbe\\xb6\\x8e\\xd4\\xd4T-\\\\\\xb8PK\\x96,Qjj\\xaa6o\\xde\\xac\\xe9\\xd3\\xa7\\xcb\\xd7\\xd7\\xd7u\\xce\\xe5\\xcd\\x14\\x01\\x01\\x01u\\xb6\\xf6_KLL\\x8cbbb4k\\xd6,\\x1d?~\\\\\\xf1\\xf1\\xf1\\x9a={\\xb6\\xa6M\\x9bv]\\xbf\\xffU!!!\\xea\\xda\\xb5\\xabv\\xee\\xdc\\xa9\\x8a\\x8a\\n\\x05\\x06\\x06^3\\xa8\\x97,Y\\xa2\\x16-Z(77W\\xfe\\xfe\\xfe\\xae\\xf6\\xdd\\xbbw\\xd7;\\xf7\\xeb\\x02\\xdf\\xcf\\xcfO#F\\x8cp\\x85\\xfa\\xea\\xd5\\xab5j\\xd4(=\\xff\\xfc\\xf3z\\xe1\\x85\\x17\\xbe\\xd5\\xfb\\x01\\xae\\x1730x\\x1c???%$$\\xe8\\xa3\\x8f>\\xd2\\xda\\xb5k\\x95\\x90\\x90\\xa0f\\xcd\\x9a\\xb9\\x8eGGG+00P\\xcf<\\xf3\\x8c\\xce\\x9c9S\\xef\\xfb_\\xa1\\xa1\\xa1\\x8a\\x8f\\x8f\\xd7\\xca\\x95+]K|\\xd2\\xa5\\xd9\\xd2\\xd3O?-I\\x1a=z\\xf4\\xd7\\xd6\\x11\\x17\\x17\\xa7\\x9e={j\\xc9\\x92%\\xca\\xc9\\xc9\\x91a\\x18u\\x96\\x0f%i\\xf8\\xf0\\xe1\\n\\x0c\\x0c\\xd4\\xd3O?}\\xc5\\xa5\\xb7s\\xe7\\xce\\xb9\\xaew\\x1d?~\\xbc\\xde\\xec\\xb0]\\xbbv\\n\\x0f\\x0fWee\\xa5\\xaa\\xaa\\xaa\\xaeZKee\\xa56o\\xde|\\xc5cEEE***RHH\\x88k+}@@\\x80k\\xcc\\xaf\\xf2\\xf6\\xf6\\x96\\x97\\x97W\\x9d\\x99\\x96a\\x18\\x9a7o^\\xbds\\xaf\\xd5\\xcf\\x95\\xeezr\\xfb\\xed\\xb7_\\xf5|\\xc0l\\xcc\\xc0\\xe0\\x91\\x92\\x93\\x93\\x95\\x9b\\x9b\\xab\\xad[\\xb7j\\xee\\xdc\\xb9u\\x8e9\\x1c\\x0e\\r\\x180@+W\\xaet\\x9d\\xfbU/\\xbe\\xf8\\xa2\\x92\\x93\\x93\\xd5\\xbf\\x7f\\x7f\\xfd\\xecg?SHH\\x88V\\xaf^\\xad\\x8d\\x1b7\\xea\\xfe\\xfb\\xef\\xaf\\xb3$y-\\xa9\\xa9\\xa9z\\xfc\\xf1\\xc75\\x7f\\xfe|\\xf5\\xec\\xd9\\xb3\\xde\\xf7\\xbf\\x02\\x02\\x02\\x94\\x93\\x93\\xa3{\\xef\\xbdW\\x91\\x91\\x91z\\xf0\\xc1\\x07\\xd5\\xa3G\\x0fUTT\\xa8\\xa8\\xa8H\\xef\\xbc\\xf3\\x8e\\xd6\\xae]\\xab\\xfe\\xfd\\xfb\\xeb\\xcf\\x7f\\xfe\\xb3\\x16.\\\\\\xa8\\xd1\\xa3G\\xabG\\x8f\\x1e\\xae\\xbb\\x8e\\xbc\\xff\\xfe\\xfb\\x9a8qb\\x9d\\x90\\xfe\\xaa\\xca\\xcaJ%&&*&&Fw\\xdf}\\xb7\"\"\"T[[\\xab}\\xfb\\xf6)\\'\\'G\\xd5\\xd5\\xd5\\xca\\xcc\\xcct\\xcd\\x98\\xa2\\xa3\\xa3\\xd5\\xb2eK-\\\\\\xb8P\\xcd\\x9a5S\\x9b6m\\xd4\\xa1C\\x07\\r\\x1c8Pc\\xc6\\x8c\\xd1\\xaaU\\xab4h\\xd0 M\\x9a4I\\x17.\\\\\\xd0\\x8a\\x15+\\xae\\xf8E\\xe8\\x90\\x90\\x10\\x85\\x87\\x87\\xeb\\xf5\\xd7_Wxx\\xb8\\x82\\x83\\x83\\xd5\\xaaU+\\x8d\\x181B\\x83\\x06\\rRPP\\x90\\x06\\x0c\\x18\\xa0\\xce\\x9d;\\xeb\\xf8\\xf1\\xe3Z\\xbcx\\xb1\\xbc\\xbc\\xbct\\xdf}\\xf7]\\xd7\\xe7\\x0b|\\'\\x16\\xee\\x80\\x04\\xaej\\xf3\\xe6\\xcd\\x86\\xa4z[\\xde/{\\xee\\xb9\\xe7\\\\[\\xca\\xbf\\xba\\xd5\\xfd\\xb2\\x8f?\\xfe\\xd8\\xb8\\xe7\\x9e{\\x8c6m\\xda\\x18\\xcd\\x9a53\\xa2\\xa2\\xa2\\x8cg\\x9ey\\xa6\\xde\\xb6\\xef+m\\xa3\\xbf\\xec\\xf0\\xe1\\xc3\\x86\\x97\\x97\\x97!\\xc9\\xc8\\xc8\\xc8\\xb8j\\xbd;w\\xee4&N\\x9ch\\x84\\x86\\x86\\x1a\\xbe\\xbe\\xbeFpp\\xb0\\xd1\\xb7o_c\\xde\\xbcy\\xc6\\xf1\\xe3\\xc7\\r\\xc30\\x8c\\x8f>\\xfa\\xc8\\x984i\\x92\\xd1\\xbd{w\\xa3E\\x8b\\x16\\xc6\\r7\\xdc`\\xdcz\\xeb\\xad\\xc6\\xb3\\xcf>k\\\\\\xb8p\\xe1\\x9a\\x9fGUU\\x95\\xb1h\\xd1\"c\\xdc\\xb8qFDD\\x84\\x11\\x10\\x10`\\xf8\\xfa\\xfa\\x1a\\x9d:u2\\xee\\xbd\\xf7\\xde+~F\\xabW\\xaf6bcc\\r???C\\x921x\\xf0`\\xd7\\xb1W^y\\xc5\\xb8\\xf9\\xe6\\x9b\\r???#44\\xd4\\xf8\\xc9O~b\\x1c=z\\xd4\\x90dL\\x9e<\\xb9N?[\\xb7n5\\x12\\x12\\x12\\x8c\\x16-Z\\x18\\x92\\x8c\\xee\\xdd\\xbb\\x1b\\x86qi\\xdb\\xfd\\xe0\\xc1\\x83\\x8d\\x90\\x90\\x10\\xc3\\xd7\\xd7\\xd7\\xe8\\xd0\\xa1\\x831|\\xf8p#77\\xf7\\x9a\\xef\\x050\\x8b\\xc30\\xd8\\xff\\n\\x00\\xb0\\x1f\\xae\\x81\\x01\\x00l\\x89\\x00\\x03\\x00\\xd8\\x12\\x01\\x06\\x00\\xb0%\\x02\\x0c\\x00`K\\x04\\x18\\x00\\xc0\\x96\\x1a\\xed\\xf7\\xc0\\xda\\xb7o\\xaf\\xf0\\xf0p\\xab\\xcb\\x00\\x00[9x\\xf0\\xe0\\x15\\xbf\\xa4\\xee\\x89\\x1am\\x80\\x85\\x87\\x87\\xcb\\xe9tZ]\\x06\\x00\\xd8\\xcaW\\xbf\\xac\\xef\\xc9XB\\x04\\x00\\xd8\\x12\\x01\\x06\\x00\\xb0%\\x02\\x0c\\x00`K\\x8d\\xf6\\x1a\\x18\\x00|\\x13\\xd5\\xd5\\xd5*))\\xb9\\xe2M\\x8d\\x1b#\\x7f\\x7f\\x7f\\x85\\x85\\x85\\xd5y<\\x90\\xdd\\x10`\\x00 \\xa9\\xa4\\xa4D\\xadZ\\xb5Rxx\\xf8u?\\xf8\\xd4\\xae\\x0c\\xc3\\xd0\\xb1c\\xc7TRR\\xa2\\xae]\\xbbZ]\\xce\\xb7\\xc6\\x12\"\\x00H:\\x7f\\xfe\\xfc\\xd7>\\x0c\\xb4\\xb1p8\\x1c\\n\\x0c\\x0c\\xb4\\xfdl\\x93\\x00\\x03\\x80\\xffi\\n\\xe1uYcx\\xaf\\x04\\x18\\x00\\xd8\\xc0\\xf0\\xe1\\xc3u\\xe2\\xc4\\t\\xab\\xcb\\xf0(\\\\\\x03\\x03\\x1a\\xb9\\x98\\xec\\x18\\xabKhP\\xbbRw5H\\xbf\\xe1\\xb3\\xfffj\\x7f\\x073F|\\xa7\\xdf_\\xb7n\\x9dI\\x954\\x1e\\xcc\\xc0\\x00\\xc0\\x03dff\\xea\\xc5\\x17_\\x94$\\xcd\\x981C\\x83\\x06\\r\\x92$\\xbd\\xff\\xfe\\xfb\\xba\\xef\\xbe\\xfb\\x14\\x1e\\x1e\\xae\\xf2\\xf2r\\x1d<xPQQQ\\x9a2e\\x8az\\xf5\\xea\\xa5a\\xc3\\x86\\xe9\\xdc\\xb9sV\\x96n\\x19\\x02\\x0c\\x00<@bb\\xa26o\\xde,Ir:\\x9d\\xaa\\xac\\xacTuu\\xb5\\xb6l\\xd9\\xa2\\x01\\x03\\x06\\xd49\\xb7\\xb8\\xb8X\\xd3\\xa7O\\xd7\\x9e={\\xd4\\xa6M\\x1b\\xbd\\xfd\\xf6\\xdbV\\x94l9\\x02\\x0c\\x00<\\xc0\\x1dw\\xdc\\xa1\\x8f>\\xfaH\\xa7O\\x9f\\x96\\x9f\\x9f\\x9f\\x12\\x12\\x12\\xe4t:\\xb5y\\xf3\\xe6z\\x01\\xd6\\xb5kW\\xc5\\xc6\\xc6\\xba~\\xef\\xe0\\xc1\\x83\\x16Tl=\\xae\\x81\\x01\\x80\\x07\\xf0\\xf5\\xf5Uxx\\xb8\\x16/^\\xac\\xbe}\\xfb\\xea\\x96[nQnn\\xae>\\xf9\\xe4\\x13EEE\\xd59\\xd7\\xcf\\xcf\\xcf\\xf5\\xb3\\xb7\\xb77K\\x88\\x00\\x00k%&&j\\xfe\\xfc\\xf9JLL\\xd4\\x80\\x01\\x03\\xf4\\xc7?\\xfeQ\\xb1\\xb1\\xb1\\x8db\\xcb{C \\xc0\\x00\\xc0C\\x0c\\x180@\\xa5\\xa5\\xa5JHHPHH\\x88\\xfc\\xfd\\xfd\\xeb-\\x1f\\xe2\\x0b,!\\x02\\xc0\\x15|\\xd7m\\xef\\xdf\\xc6\\xe0\\xc1\\x83U]]\\xedz\\xfd\\x9f\\xff\\xfc\\xe7\\x8bz\\xfew\\x9d\\xab}\\xfb\\xf6\\xda\\xbd{\\xb7\\xab}\\xe6\\xcc\\x99n\\xab\\xcf\\xd30\\x03\\x03\\x00\\xd8\\x12\\x01\\x06\\x00\\xb0%\\x02\\x0c\\x00`K\\x04\\x18\\x00\\xc0\\x96\\x080\\x00\\x80-\\x11`\\x00\\x00[\"\\xc0\\x00\\xc0C\\xa5\\xa7\\xa7k\\xfe\\xfc\\xf9V\\x97\\xe1\\xb1\\xf8\\x1e\\x18\\x00\\\\Izk\\x93\\xfb;iJ7\\x17/^\\x94\\x8f\\x0f\\x7f\\xba%f`\\x00\\xe0Q~\\xf7\\xbb\\xdf)22RC\\x86\\x0c\\xd1\\xbf\\xff\\xfdoI\\xd2\\xc0\\x81\\x03\\xf5\\xc4\\x13O())I/\\xbc\\xf0\\x82\\xd6\\xacY\\xa3>}\\xfa\\xe8\\xb6\\xdbn\\xd3\\x90!Ct\\xe4\\xc8\\x11IRLL\\x8cN\\x9c8!\\xc30\\x14\\x18\\x18\\xa8\\x9c\\x9c\\x1cI\\xd2\\xa4I\\x93\\xf4\\xf7\\xbf\\xff\\xdd\\xb2\\xf7\\xd4P\\x080\\x00\\xf0\\x10\\x1f}\\xf4\\x91\\x96-[\\xa6\\xed\\xdb\\xb7\\xeb\\x9dw\\xde\\xd1\\xb6m\\xdb\\\\\\xc7N\\x9c8\\xa1\\x7f\\xfe\\xf3\\x9fz\\xec\\xb1\\xc7\\xd4\\xbf\\x7f\\x7f}\\xf8\\xe1\\x87\\xda\\xbe}\\xbb\\xc6\\x8f\\x1f\\xaf\\xcc\\xccLIR\\xbf~\\xfd\\x94\\x9f\\x9f\\xaf={\\xf6\\xa8[\\xb7n\\xae\\xc7\\xb3|\\xf8\\xe1\\x87\\xba\\xf3\\xce;-yO\\r\\x89y(\\x00x\\x88\\xcd\\x9b7k\\xf4\\xe8\\xd1j\\xd1\\xa2\\x85$i\\xe4\\xc8\\x91\\xaec\\xe3\\xc6\\x8ds\\xfd\\\\RR\\xa2q\\xe3\\xc6\\xa9\\xb4\\xb4TUUU\\xea\\xda\\xb5\\xab\\xa4K\\xf7R\\xdc\\xb4i\\x93\\xbat\\xe9\\xa2i\\xd3\\xa6)++K\\x87\\x0f\\x1fV\\xbbv\\xed\\x14\\x10\\x10\\xe0\\xde7\\xe3\\x06\\xcc\\xc0\\x00\\xc0\\x83\\\\\\xed\\xce\\xf3-[\\xb6t\\xfd\\xfc\\xf0\\xc3\\x0f\\xeb\\xa1\\x87\\x1e\\xd2\\xae]\\xbb\\xf4\\xea\\xab\\xaf\\xea\\xfc\\xf9\\xf3\\x92\\xbex(\\xe6\\xe6\\xcd\\x9b5p\\xe0@\\x05\\x05\\x05\\xe9\\xaf\\x7f\\xfdk\\xa3\\xbd!0\\x01\\x06\\x00\\x1e\"11Q+V\\xac\\xd0\\xb9s\\xe7t\\xfa\\xf4i\\xadY\\xb3\\xe6\\x8a\\xe7\\x9d<yR\\x9d:u\\x92$egg\\xbb\\xda;w\\xee\\xac\\xf2\\xf2r\\x15\\x17\\x17\\xab[\\xb7n\\xea\\xdf\\xbf\\xbf\\xe6\\xcf\\x9fO\\x80\\x01\\x00\\x1a\\xd6\\xed\\xb7\\xdf\\xaeq\\xe3\\xc6)66V)))W\\r\\x9e\\xf4\\xf4t\\x8d\\x1d;V\\x03\\x06\\x0cP\\xfb\\xf6\\xed\\xeb\\x1c\\xeb\\xd3\\xa7\\x8fn\\xba\\xe9&I\\x97\\x96\\x14\\x0f\\x1f>\\xac\\xfe\\xfd\\xfb7x\\xedVp\\x18\\x86aX]DC\\x88\\x8b\\x8b\\x93\\xd3\\xe9\\xb4\\xba\\x0c\\xc0r1\\xd91V\\x97\\xd0\\xa0v\\xa5\\xee2\\xa5\\x9f}\\xfb\\xf6\\xd5{\\xf2qcw\\xa5\\xf7l\\xa7\\xbf\\x9d\\x1e5\\x03;t\\xe8\\x90\\x92\\x93\\x93\\x15\\x15\\x15\\xa5^\\xbdz\\xe9\\x85\\x17^\\x90$\\x1d?~\\\\C\\x87\\x0eUDD\\x84\\x86\\x0e\\x1d\\xaa\\x8a\\x8a\\n\\x8b+\\x05\\x00X\\xcd\\xa3\\x02\\xcc\\xc7\\xc7G\\xcf>\\xfb\\xac\\xf6\\xed\\xdb\\xa7\\x0f?\\xfcP/\\xbd\\xf4\\x92\\xf6\\xee\\xdd\\xab\\x8c\\x8c\\x0c\\r\\x1e<X\\xc5\\xc5\\xc5\\x1a<x\\xb0222\\xac.\\x15\\x00`1\\x8f\\n\\xb0\\xd0\\xd0P\\xdd~\\xfb\\xed\\x92\\xa4V\\xadZ)**J\\x87\\x0f\\x1f\\xd6\\xaaU\\xab\\x94\\x9a\\x9a*IJMM\\xd5\\xca\\x95+\\xad,\\x13\\x00\\xe0\\x01<*\\xc0\\xbe\\xec\\xe0\\xc1\\x83\\xda\\xbe}\\xbb\\xfa\\xf4\\xe9\\xa3#G\\x8e(44T\\xd2\\xa5\\x90;z\\xf4\\xa8\\xc5\\xd5\\x01\\x00\\xac\\xe6\\x91_d\\xae\\xac\\xacTJJ\\x8a\\x9e\\x7f\\xfey\\xddp\\xc3\\r\\xd7\\xfd{YYY\\xca\\xca\\xca\\x92$\\x95\\x95\\x955Ty\\x00\\x00\\x0f\\xe0q3\\xb0\\xea\\xeaj\\xa5\\xa4\\xa4\\xe8G?\\xfa\\x91\\xee\\xbd\\xf7^IRHH\\x88JKK%I\\xa5\\xa5\\xa5\\n\\x0e\\x0e\\xbe\\xe2\\xefN\\x9d:UN\\xa7SN\\xa7SAAAn\\xab\\x19\\x00\\xe0~\\x1e\\x15`\\x86ah\\xf2\\xe4\\xc9\\x8a\\x8a\\x8a\\xd2/~\\xf1\\x0bW\\xfb\\xc8\\x91#]_\\xd6\\xcb\\xce\\xce\\xd6\\xa8Q\\xa3\\xac*\\x11\\x00\\x1aLc\\xbc\\xddSC\\xf2\\xa8%\\xc4\\xfc\\xfc|-Y\\xb2D111\\x8a\\x8d\\x8d\\x95$=\\xf5\\xd4S\\x9a={\\xb6~\\xf8\\xc3\\x1fj\\xd1\\xa2E\\xba\\xf1\\xc6\\x1b\\xf5\\xd6[oY\\\\)\\x80\\xc6\\xce\\xec\\xef\\xcf\\x99\\xf5}5|\\xc1\\xa3\\x02\\xac\\x7f\\xff\\xfe\\xba\\xda\\xf7\\xaa\\xdf\\x7f\\xff}7W\\x03\\x00\\xd60\\x0cC\\xb3f\\xcd\\xd2\\xfa\\xf5\\xeb\\xe5p8\\xf4\\xe4\\x93O\\xban\\xde;n\\xdc8\\x9d:uJ\\x17/^\\xd4+\\xaf\\xbc\\xa2\\xbe}\\xfbj\\xf2\\xe4\\xc9r:\\x9dr8\\x1cJKK\\xd3\\x8c\\x193\\xac~\\x0bn\\xe1Q\\x01\\x06\\x00\\x90\\xdey\\xe7\\x1d\\x15\\x16\\x16j\\xc7\\x8e\\x1d*//W\\xef\\xde\\xbd\\x95\\x98\\x98\\xa87\\xdexCw\\xddu\\x97\\xe6\\xcc\\x99\\xa3\\x9a\\x9a\\x1a\\x9d={V\\x85\\x85\\x85:|\\xf8\\xb0v\\xef\\xde-\\xe9\\xd2cW\\x9a\\n\\x8f\\xba\\x06\\x06\\x00\\x90\\xb6l\\xd9\\xa2\\t\\x13&\\xc8\\xdb\\xdb[!!!JJJ\\xd2\\xb6m\\xdb\\xd4\\xbbwo-^\\xbcX\\xe9\\xe9\\xe9\\xda\\xb5k\\x97Z\\xb5j\\xa5n\\xdd\\xbai\\xff\\xfe\\xfdz\\xf8\\xe1\\x87\\xb5a\\xc3\\x86o\\xb4s\\xdb\\xee\\x080\\x00\\xf00W\\xbb\\x94\\x92\\x98\\x98\\xa8M\\x9b6\\xa9S\\xa7N\\x9a4i\\x92rrr\\xd4\\xb6m[\\xed\\xd8\\xb1C\\x03\\x07\\x0e\\xd4K/\\xbd\\xa4\\x1f\\xff\\xf8\\xc7n\\xae\\xd6:\\x04\\x18\\x00x\\x98\\xc4\\xc4D\\xbd\\xf9\\xe6\\x9b\\xaa\\xa9\\xa9QYY\\x996m\\xda\\xa4\\xf8\\xf8x}\\xfa\\xe9\\xa7\\n\\x0e\\x0e\\xd6\\x94)S4y\\xf2d}\\xfc\\xf1\\xc7*//Wmm\\xadRRR\\xf4\\xdb\\xdf\\xfeV\\x1f\\x7f\\xfc\\xb1\\xd5\\xe5\\xbb\\r\\xd7\\xc0\\x00\\xc0\\xc3\\x8c\\x1e=Z\\x1f|\\xf0\\x81n\\xbd\\xf5V9\\x1c\\x0eeff\\xaaC\\x87\\x0e\\xca\\xce\\xce\\xd63\\xcf<#___\\x05\\x04\\x04(\\'\\'G\\x87\\x0f\\x1f\\xd6\\x83\\x0f>\\xa8\\xda\\xdaZI\\xd2\\xd3O?mq\\xf5\\xee\\xc3\\xe3T\\x80F\\x8e\\xc7\\xa9\\\\\\x1f\\x1e\\xa7r\\x89\\x9d\\xfev\\xb2\\x84\\x08\\x00\\xb0%\\x02\\x0c\\x00`K\\x04\\x18\\x00\\xc0\\x96\\x080\\x00\\xf8\\x9fF\\xba%\\xe0\\x8a\\x1a\\xc3{%\\xc0\\x00@\\x92\\xbf\\xbf\\xbf\\x8e\\x1d;\\xd6(\\xfe\\xb0\\x7f\\x1d\\xc30t\\xec\\xd81\\xf9\\xfb\\xfb[]\\xcaw\\xc26z\\x00\\x90\\x14\\x16\\x16\\xa6\\x92\\x92\\x92&\\xf3,A\\x7f\\x7f\\x7f\\x85\\x85\\x85Y]\\xc6wB\\x80\\x01\\x80$___u\\xed\\xda\\xd5\\xea2\\xf0\\r\\xb0\\x84\\x08\\x00\\xb0%\\x02\\x0c\\x00`K\\x04\\x18\\x00\\xc0\\x96\\x080\\x00\\x80-\\x11`\\x00\\x00[\"\\xc0\\x00\\x00\\xb6D\\x80\\x01\\x00l\\x89\\x00\\x03\\x00\\xd8\\x12\\x01\\x06\\x00\\xb0%\\x02\\x0c\\x00`K\\x04\\x18\\x00\\xc0\\x96\\x080\\x00\\x80-\\x11`\\x00\\x00[\"\\xc0\\x00\\x00\\xb6D\\x80\\x01\\x00l\\x89\\x00\\x03\\x00\\xd8\\x12\\x01\\x06\\x00\\xb0%\\x02\\x0c\\x00`K\\x04\\x18\\x00\\xc0\\x96\\x080\\x00\\x80-\\x11`\\x00\\x00[\"\\xc0\\x00\\x00\\xb6D\\x80\\x01\\x00l\\xc9\\xa3\\x02,--M\\xc1\\xc1\\xc1\\x8a\\x8e\\x8ev\\xb5\\xa5\\xa7\\xa7\\xabS\\xa7N\\x8a\\x8d\\x8dUll\\xac\\xd6\\xad[ga\\x85\\x00\\x00O\\xe1Q\\x01\\xf6\\xc0\\x03\\x0fh\\xc3\\x86\\r\\xf5\\xdag\\xcc\\x98\\xa1\\xc2\\xc2B\\x15\\x16\\x16j\\xf8\\xf0\\xe1\\x16T\\x06\\x00\\xf04\\x1e\\x15`\\x89\\x89\\x89j\\xd7\\xae\\x9d\\xd5e\\x00\\x00l\\xc0\\xa3\\x02\\xecj\\x16.\\\\\\xa8[n\\xb9Eiii\\xaa\\xa8\\xa8\\xb0\\xba\\x1c\\x00\\x80\\x07\\xf0\\xf8\\x00\\x9b6m\\x9a>\\xf9\\xe4\\x13\\x15\\x16\\x16*44T\\x8f=\\xf6\\xd8U\\xcf\\xcd\\xca\\xcaR\\\\\\\\\\x9c\\xe2\\xe2\\xe2TVV\\xe6\\xc6*\\x01\\x00\\xee\\xe6\\xf1\\x01\\x16\\x12\\x12\"oooyyyi\\xca\\x94)*((\\xb8\\xea\\xb9S\\xa7N\\x95\\xd3\\xe9\\x94\\xd3\\xe9TPP\\x90\\x1b\\xab\\x04\\x00\\xb8\\x9b\\xc7\\x07Xii\\xa9\\xeb\\xe7\\x15+V\\xd4\\xd9\\xa1\\x08\\x00h\\xba|\\xac.\\xe0\\xcb&L\\x98\\xa0\\xbc\\xbc<\\x95\\x97\\x97+,,Ls\\xe7\\xceU^^\\x9e\\n\\x0b\\x0b\\xe5p8\\x14\\x1e\\x1e\\xaeW_}\\xd5\\xea2\\x01\\x00\\x1e\\xa0A\\x03\\xec\\xdc\\xb9s\\xca\\xcf\\xcfWDD\\x84\\xbat\\xe9\\xf2\\xb5\\xe7/]\\xba\\xb4^\\xdb\\xe4\\xc9\\x93\\x1b\\xa24\\x00\\x80\\xcd\\x99\\xba\\x84\\xf8\\xc0\\x03\\x0f\\xe8\\xe5\\x97_\\x96$UUU)>>^\\xc3\\x86\\rSdd\\xa4\\xd6\\xaf_o\\xe6P\\x00\\x80&\\xce\\xd4\\x00{\\xf7\\xddwu\\xe7\\x9dwJ\\x92V\\xaf^\\xad\\xd3\\xa7O\\xeb\\xf3\\xcf?Wzz\\xba\\xd2\\xd3\\xd3\\xcd\\x1c\\n\\x00\\xd0\\xc4\\x99\\x1a`\\x15\\x15\\x15\\n\\x0e\\x0e\\x96$m\\xd8\\xb0A)))\\n\\x0e\\x0e\\xd6\\xf8\\xf1\\xe3\\xb5w\\xef^3\\x87\\x02\\x004q\\xa6\\x06X\\x87\\x0e\\x1d\\xb4{\\xf7n\\xd5\\xd4\\xd4\\xe8\\xddw\\xdf\\xd5\\x90!C$I\\x95\\x95\\x95\\xf2\\xf5\\xf55s(\\x00@\\x13g\\xea&\\x8e\\xb4\\xb44\\x8d\\x1b7N\\x1d;v\\x94\\xb7\\xb7\\xb7\\x06\\x0f\\x1e,I\\xfa\\xd7\\xbf\\xfe\\xa5\\x9bo\\xbe\\xd9\\xcc\\xa1\\x00\\x00M\\x9c\\xa9\\x01\\xf6\\x7f\\xff\\xf7\\x7f\\xea\\xd5\\xab\\x97>\\xfb\\xec3\\x8d\\x1d;V\\xcd\\x9a5\\xbb4\\x88\\x8f\\x8f\\x1e\\x7f\\xfcq3\\x87\\x02\\x004q\\xa6o\\xa3OII\\xa9\\xd7\\x96\\x9a\\x9aj\\xf60\\x00\\x80&\\xce\\xf4;q\\xac_\\xbf^\\xdf\\xff\\xfe\\xf7\\xd5\\xb3gO\\x1d:tH\\x92\\xf4\\xdak\\xaf\\xe9\\xfd\\xf7\\xdf7{(\\x00@\\x13fj\\x80\\xbd\\xfe\\xfa\\xeb\\xfa\\xe1\\x0f\\x7f\\xa8\\x88\\x88\\x08\\x1d8p@\\xd5\\xd5\\xd5\\x92\\xa4\\x9a\\x9a\\x1aeff\\x9a9\\x14\\x00\\xa0\\x8935\\xc0233\\xf5\\xa7?\\xfdI\\xcf=\\xf7\\x9c||\\xbeX\\x9d\\xbc\\xf3\\xce;UXXh\\xe6P\\x00\\x80&\\xce\\xd4\\x00+..VBBB\\xbd\\xf6\\x80\\x80\\x00\\x9d:u\\xca\\xcc\\xa1\\x00\\x00M\\x9c\\xa9\\x01\\xd6\\xb1cG\\xfd\\xe7?\\xff\\xa9\\xd7\\xbei\\xd3&u\\xef\\xde\\xdd\\xcc\\xa1\\x00\\x00M\\x9c\\xa9\\x016u\\xeaT\\xfd\\xfc\\xe7?W~~\\xbe$\\xe9\\xd0\\xa1C\\xca\\xce\\xce\\xd6\\xacY\\xb34m\\xda43\\x87\\x02\\x004q\\xa6n\\xa3\\x9f5k\\x96N\\x9e<\\xa9\\xa1C\\x87\\xea\\xfc\\xf9\\xf3JNN\\x96\\x9f\\x9f\\x9ff\\xce\\x9c\\xa9\\xe9\\xd3\\xa7\\x9b9\\x14\\x00\\xa0\\x893\\xfd{`\\xbf\\xfb\\xdd\\xef4g\\xce\\x1c\\xed\\xdd\\xbbW\\xb5\\xb5\\xb5\\xea\\xd9\\xb3\\xa7\\x02\\x02\\x02\\xcc\\x1e\\x06\\x00\\xd0\\xc45\\xc8\\xf3\\xc0Z\\xb4h\\xa1\\xb8\\xb8\\xb8\\x86\\xe8\\x1a\\x00\\x00I&\\x07\\xd8\\x85\\x0b\\x17\\xf4\\xf2\\xcb/+77WG\\x8f\\x1eUmmm\\x9d\\xe3\\x05\\x05\\x05f\\x0e\\x07\\x00h\\xc2L\\r\\xb0)S\\xa6h\\xed\\xda\\xb5\\x1a5j\\x94z\\xf6\\xec)\\x87\\xc3af\\xf7\\x00\\x00\\xb8\\x98\\x1a`\\xabW\\xaf\\xd6\\xaaU\\xab\\x94\\x94\\x94df\\xb7\\x00\\x00\\xd4c\\xea6\\xfa\\xe0\\xe0`\\xb5o\\xdf\\xde\\xcc.\\x01\\x00\\xb8\"S\\x03\\xec\\xa9\\xa7\\x9e\\xd2\\x13O<\\xa1\\x8a\\x8a\\n3\\xbb\\x05\\x00\\xa0\\x1eS\\x97\\x10\\x87\\r\\x1b\\xa6\\xac\\xac,\\x05\\x07\\x07\\xabC\\x87\\x0e\\xf5\\x9e\\xc2\\xbc\\x7f\\xff~3\\x87\\x03\\x004a\\xa6\\x06\\xd8\\xfd\\xf7\\xdf\\xaf={\\xf6\\xe8\\xd1G\\x1fUHH\\x08\\x9b8\\x00\\x00\\r\\xc6\\xd4\\x00\\xdb\\xb8q\\xa3\\xfe\\xf1\\x8f\\x7f\\xa8O\\x9f>fv\\x0b\\x00@=\\xa6^\\x03\\xbb\\xf1\\xc6\\x1b\\xe5\\xe7\\xe7gf\\x97\\x00\\x00\\\\\\x91\\xa9\\x01\\xf6\\xdcs\\xcfi\\xd6\\xacY\\xfa\\xef\\x7f\\xffkf\\xb7\\x00\\x00\\xd4c\\xea\\x12\\xe2\\xd8\\xb1cu\\xe1\\xc2\\x05EFF\\xca\\xcf\\xcf\\xaf\\xceC-%\\xf1L0\\x00\\x80iL\\r\\xb0\\x85\\x0b\\x17\\x9a\\xd9\\x1d\\x00\\x00Wej\\x80\\xa5\\xa6\\xa6\\x9a\\xd9\\x1d\\x00\\x00W\\xd5 w\\xa3\\x97\\xa4\\xcf?\\xff\\\\UUUu\\xdan\\xbc\\xf1\\xc6\\x86\\x1a\\x0e\\x00\\xd0\\xc4\\x98\\x1a`\\'O\\x9e\\xd4\\xcf\\x7f\\xfes-_\\xbe\\xbc^xIRMM\\x8d\\x99\\xc3\\x01\\x00\\x9a0Sw!\\xce\\x9c9S;v\\xec\\xd0\\xca\\x95+\\xe5\\xef\\xef\\xaf7\\xdexC\\xcf<\\xf3\\x8c\\xc2\\xc2\\xc2\\xf4\\xe6\\x9bo\\x9a9\\x14\\x00\\xa0\\x893u\\x06\\xb6~\\xfdz-]\\xbaT\\x03\\x06\\x0c\\x90\\xb7\\xb7\\xb7\\xee\\xb8\\xe3\\x0e\\x8d\\x1b7N\\xa1\\xa1\\xa1z\\xf5\\xd5W5f\\xcc\\x183\\x87\\x03\\x004a\\xa6\\xce\\xc0N\\x9c8\\xa1.]\\xbaH\\x92Z\\xb7n\\xadc\\xc7\\x8eI\\x92\\x12\\x12\\x12\\xb4u\\xebV3\\x87\\x02\\x004q\\xa6\\x06X\\xf7\\xee\\xdd]7\\xec\\x8d\\x8a\\x8a\\xd2\\xb2e\\xcbd\\x18\\x86\\xdey\\xe7\\x1d\\xb5k\\xd7\\xce\\xcc\\xa1\\x00\\x00M\\x9c\\xa9\\x01\\xf6\\xc0\\x03\\x0fh\\xe7\\xce\\x9d\\x92\\xa4\\xd9\\xb3g\\xeb\\xd5W_U\\xb3f\\xcd\\xf4\\xcb_\\xfeR\\x8f?\\xfe\\xb8\\x99C\\x01\\x00\\x9a8S\\xaf\\x81\\xcd\\x981\\xc3\\xf5\\xf3\\xa0A\\x83TTT$\\xa7\\xd3\\xa9\\x88\\x88\\x08\\xc5\\xc4\\xc4\\\\W\\x1fiiiZ\\xbbv\\xad\\x82\\x83\\x83\\xb5{\\xf7nI\\xd2\\xf1\\xe3\\xc75n\\xdc8\\x1d<xP\\xe1\\xe1\\xe1Z\\xbe|\\xb9\\xda\\xb6mkf\\xe9\\x00\\x00\\x9b1e\\x06v\\xe6\\xcc\\x19-[\\xb6\\xcc\\xf5\\xfag?\\xfb\\x99\\xd2\\xd2\\xd2\\x94\\x9e\\x9e\\xae\\xb5k\\xd7j\\xc1\\x82\\x05:s\\xe6\\xccu\\xf5\\xf5\\xc0\\x03\\x0fh\\xc3\\x86\\ru\\xda2224x\\xf0`\\x15\\x17\\x17k\\xf0\\xe0\\xc1\\xca\\xc8\\xc80\\xa3l\\x00\\x80\\x8d\\x99\\x12`\\x8b\\x17/\\xd6\\xf2\\xe5\\xcb]\\xaf\\x97,Y\\xa2O?\\xfdTeee*++\\xd3\\x86\\r\\x1b\\xf4\\xd2K/]W_\\x89\\x89\\x89\\xf5\\xae\\x97\\xadZ\\xb5\\xcau\\x97\\x8f\\xd4\\xd4T\\xad\\\\\\xb9\\xd2\\x8c\\xb2\\x01\\x006fJ\\x80-[\\xb6L\\xf7\\xdf\\x7f\\x7f\\x9d\\xb6?\\xfd\\xe9OZ\\xb3f\\x8d\\xd6\\xacY\\xa3\\xdf\\xff\\xfe\\xf7z\\xfb\\xed\\xb7\\xbfu\\xffG\\x8e\\x1cQhh\\xa8$)44TG\\x8f\\x1e\\xfdN\\xf5\\x02\\x00\\xec\\xcf\\x94k`\\xc5\\xc5\\xc5\\xba\\xe9\\xa6\\x9b\\\\\\xaf\\xdb\\xb4i#ooo\\xd7\\xeb\\xb8\\xb88\\xed\\xdb\\xb7\\xcf\\x8c\\xa1\\xae)++KYYY\\x92\\xa4\\xb2\\xb2\\xb2\\x06\\x1f\\x0f\\x8dHzk\\xab+h8]\\xb9\\x85\\x1b\\x1a\\'Sf`\\xa7N\\x9d\\x92\\x97\\xd7\\x17]\\x1d:t\\xc8\\xf5}0I\\xbax\\xf1\\xa2\\xaa\\xab\\xab\\xbfu\\xff!!!*--\\x95$\\x95\\x96\\x96*88\\xf8\\x8a\\xe7M\\x9d:UN\\xa7SN\\xa7SAAA\\xdfz<\\x00\\x80\\xe73%\\xc0:w\\xee\\xac]\\xbbv]\\xf5\\xf8\\x8e\\x1d;\\xd4\\xb9s\\xe7o\\xdd\\xff\\xc8\\x91#\\x95\\x9d\\x9d-I\\xca\\xce\\xce\\xd6\\xa8Q\\xa3\\xbeu_\\x00\\x80\\xc6\\xc1\\x94\\x00\\x1b1b\\x84\\xd2\\xd3\\xd3u\\xfe\\xfc\\xf9z\\xc7\\xce\\x9c9\\xa3\\xb9s\\xe7j\\xc4\\x88\\x11\\xd7\\xd5\\xd7\\x84\\t\\x13\\x94\\x90\\x90\\xa0\\x7f\\xff\\xfb\\xdf\\n\\x0b\\x0b\\xd3\\xa2E\\x8b4{\\xf6lm\\xdc\\xb8Q\\x11\\x11\\x11\\xda\\xb8q\\xa3f\\xcf\\x9emF\\xd9\\x00\\x00\\x1bs\\x18\\x86a|\\xd7N\\x8e\\x1e=\\xaa\\xdbn\\xbbM>>>z\\xe8\\xa1\\x87\\\\\\xd7\\xc3\\x8a\\x8a\\x8a\\xb4p\\xe1B\\xd5\\xd6\\xd6j\\xfb\\xf6\\xedW]\\xfak\\x08qqqr:\\x9dn\\x1b\\x0f6\\xd7\\x88\\xaf\\x81\\xc54\\xf2k`\\xbbR\\xaf\\xbe\\xfa\\x83o\\xceN\\x7f;M\\xd9\\xc4\\x11\\x1c\\x1c\\xac\\xad[\\xb7\\xea\\xa7?\\xfd\\xa9f\\xcf\\x9e\\xad\\xcb\\x99\\xe8p84l\\xd80\\xbd\\xfc\\xf2\\xcbn\\r/\\x00@\\xe3g\\xda\\x9d8\\xbat\\xe9\\xa2\\xf5\\xeb\\xd7\\xab\\xa2\\xa2B\\xc5\\xc5\\xc5\\x92\\xa4\\x1e=zp\\x0fD\\x00@\\x830\\xfd\\x89\\xccm\\xdb\\xb6U||\\xbc\\xd9\\xdd\\x02\\x00P\\x87\\xa97\\xf3\\x05\\x00\\xc0]\\x080\\x00\\x80-\\x11`\\x00\\x00[\"\\xc0\\x00\\x00\\xb6D\\x80\\x01\\x00l\\x89\\x00\\x03\\x00\\xd8\\x12\\x01\\x06\\x00\\xb0%\\x02\\x0c\\x00`K\\x04\\x18\\x00\\xc0\\x96\\x080\\x00\\x80-\\x11`\\x00\\x00[\"\\xc0\\x00\\x00\\xb6D\\x80\\x01\\x00l\\x89\\x00\\x03\\x00\\xd8\\x12\\x01\\x06\\x00\\xb0%\\x02\\x0c\\x00`K\\x04\\x18\\x00\\xc0\\x96\\x080\\x00\\x80-\\x11`\\x00\\x00[\"\\xc0\\x00\\x00\\xb6D\\x80\\x01\\x00l\\x89\\x00\\x03\\x00\\xd8\\x12\\x01\\x06\\x00\\xb0%\\x02\\x0c\\x00`K\\x04\\x18\\x00\\xc0\\x96\\x080\\x00\\x80-\\x11`\\x00\\x00[\"\\xc0\\x00\\x00\\xb6D\\x80\\x01\\x00l\\x89\\x00\\x03\\x00\\xd8\\x12\\x01\\x06\\x00\\xb0%\\x02\\x0c\\x00`K\\x04\\x18\\x00\\xc0\\x96|\\xac.\\xe0z\\x85\\x87\\x87\\xabU\\xabV\\xf2\\xf6\\xf6\\x96\\x8f\\x8f\\x8f\\x9cN\\xa7\\xd5%\\x01\\x00,d\\x9b\\x00\\x93\\xa4\\xdc\\xdc\\\\\\xb5o\\xdf\\xde\\xea2\\x00\\x00\\x1e\\x80%D\\x00\\x80-\\xd9&\\xc0\\x1c\\x0e\\x87\\x86\\r\\x1b\\xa6;\\xee\\xb8CYYYV\\x97\\x03\\x00\\xb0\\x98m\\x96\\x10\\xf3\\xf3\\xf3\\xd5\\xb1cG\\x1d=zTC\\x87\\x0e\\xd5\\xcd7\\xdf\\xac\\xc4\\xc4\\xc4:\\xe7dee\\xb9\\xc2\\xad\\xac\\xac\\xcc\\x8a2\\x1b\\xad\\xf0\\xd9\\x7f\\xb3\\xba\\x84\\x06u\\xd0\\xdf\\xea\\n\\x00|S\\xb6\\x99\\x81u\\xec\\xd8Q\\x92\\x14\\x1c\\x1c\\xac\\xd1\\xa3G\\xab\\xa0\\xa0\\xa0\\xde9S\\xa7N\\x95\\xd3\\xe9\\x94\\xd3\\xe9TPP\\x90\\xbbK\\x04\\x00\\xb8\\x91-\\x02\\xec\\xcc\\x993:}\\xfa\\xb4\\xeb\\xe7\\xf7\\xde{O\\xd1\\xd1\\xd1\\x16W\\x05\\x00\\xb0\\x92-\\x96\\x10\\x8f\\x1c9\\xa2\\xd1\\xa3GK\\x92.^\\xbc\\xa8\\x89\\x13\\'\\xea\\xee\\xbb\\xef\\xb6\\xb8*\\x00\\x80\\x95l\\x11`\\xdd\\xbau\\xd3\\x8e\\x1d;\\xac.\\x03\\x00\\xe0Al\\xb1\\x84\\x08\\x00\\xc0W\\x11`\\x00\\x00[\"\\xc0\\x00\\x00\\xb6D\\x80\\x01\\x00l\\x89\\x00\\x03\\x00\\xd8\\x12\\x01\\x06\\x00\\xb0%\\x02\\x0c\\x00`K\\x04\\x18\\x00\\xc0\\x96\\x080\\x00\\x80-\\x11`\\x00\\x00[\"\\xc0\\x00\\x00\\xb6D\\x80\\x01\\x00l\\x89\\x00\\x03\\x00\\xd8\\x12\\x01\\x06\\x00\\xb0%\\x02\\x0c\\x00`K\\x04\\x18\\x00\\xc0\\x96\\x080\\x00\\x80-\\x11`\\x00\\x00[\"\\xc0\\x00\\x00\\xb6D\\x80\\x01\\x00l\\x89\\x00\\x03\\x00\\xd8\\x12\\x01\\x06\\x00\\xb0%\\x02\\x0c\\x00`K\\x04\\x18\\x00\\xc0\\x96\\x080\\x00\\x80-\\x11`\\x00\\x00[\"\\xc0\\x00\\x00\\xb6D\\x80\\x01\\x00l\\x89\\x00\\x03\\x00\\xd8\\x12\\x01\\x06\\x00\\xb0%\\x02\\x0c\\x00`K\\x04\\x18\\x00\\xc0\\x96\\x080\\x00\\x80-\\x11`\\x00\\x00[\"\\xc0\\x00\\x00\\xb6D\\x80\\x01\\x00l\\xc96\\x01\\xb6a\\xc3\\x06EFF\\xaaG\\x8f\\x1e\\xca\\xc8\\xc8\\xb0\\xba\\x1c\\x00\\x80\\xc5l\\x11`555\\x9a>}\\xba\\xd6\\xaf_\\xaf\\xbd{\\xf7j\\xe9\\xd2\\xa5\\xda\\xbbw\\xaf\\xd5e\\x01\\x00,d\\x8b\\x00+((P\\x8f\\x1e=\\xd4\\xad[75k\\xd6L\\xe3\\xc7\\x8f\\xd7\\xaaU\\xab\\xac.\\x0b\\x00`![\\x04\\xd8\\xe1\\xc3\\x87\\xd5\\xb9sg\\xd7\\xeb\\xb0\\xb00\\x1d>|\\xd8\\xc2\\x8a\\x00\\x00V\\xf3\\xb1\\xba\\x80\\xeba\\x18F\\xbd6\\x87\\xc3Q\\xaf-++KYYY\\x92\\xa4\\xa2\\xa2\"\\xc5\\xc5\\xc55xmME{\\xab\\x0bh`q\\x8ap\\xdbXeee\\n\\n\\nr\\xdbx~n\\x1b\\xc9\\x1aq\\x0b\\xf8\\x7fn\\xa6\\x83\\x07\\x0fZ]\\xc2u\\xb3E\\x80\\x85\\x85\\x85\\xe9\\xd0\\xa1C\\xae\\xd7%%%\\xea\\xd8\\xb1c\\xbd\\xf3\\xa6N\\x9d\\xaa\\xa9S\\xa7\\xba\\xb34\\xe0\\x1b\\x8b\\x8b\\x8b\\x93\\xd3\\xe9\\xb4\\xba\\x0c\\xc0\\xf6l\\xb1\\x84\\xd8\\xbbwo\\x15\\x17\\x17\\xeb\\xc0\\x81\\x03\\xaa\\xaa\\xaa\\xd2\\xb2e\\xcb4r\\xe4H\\xab\\xcb\\x02\\x00X\\xc8\\x1630\\x1f\\x1f\\x1f-\\\\\\xb8Pw\\xddu\\x97jjj\\x94\\x96\\x96\\xa6^\\xbdzY]\\x16\\x00\\xc0B\\x0e\\xe3J\\x17\\x98\\x004\\x98\\xac\\xac,\\x96\\xba\\x01\\x13\\x10`\\x00\\x00[\\xb2\\xc550\\x00\\x00\\xbe\\x8a\\x00\\x03\\x00\\xd8\\x12\\x01\\x06\\x00\\xb0%\\x02\\x0cp\\x83O>\\xf9D\\x17.\\\\\\x90$\\xe5\\xe5\\xe5\\xe9\\xc5\\x17_\\xd4\\x89\\x13\\',\\xae\\n\\xb07\\x02\\x0cp\\x83\\x94\\x94\\x14y{{\\xeb\\xbf\\xff\\xfd\\xaf&O\\x9e\\xac\\x03\\x07\\x0eh\\xe2\\xc4\\x89V\\x97\\x05\\xd8\\x1a\\x01\\x06\\xb8\\x81\\x97\\x97\\x97|||\\xb4b\\xc5\\n=\\xfa\\xe8\\xa3z\\xee\\xb9\\xe7TZZjuY\\x80\\xad\\x11`\\x80\\x1b\\xf8\\xfa\\xfaj\\xe9\\xd2\\xa5\\xca\\xce\\xce\\xd6\\xf7\\xbf\\xff}IRuu\\xb5\\xc5U\\x01\\xf6F\\x80\\x01n\\xb0x\\xf1b}\\xf0\\xc1\\x07\\x9a3g\\x8e\\xbav\\xed\\xaa\\x03\\x07\\x0e\\xe8\\xbe\\xfb\\xee\\xb3\\xba,\\xc0H.gF\\x00\\x00\\x02;IDAT\\xd6\\xf8\"3\\xe0&\\xe7\\xce\\x9d\\xd3g\\x9f}\\xa6\\xc8\\xc8H\\xabK\\x01\\x1a\\x05f`\\x80\\x1b\\xacY\\xb3F\\xb1\\xb1\\xb1\\xba\\xfb\\xee\\xbb%I\\x85\\x85\\x85\\xdc\\x90\\x1a\\xf8\\x8e\\x080\\xc0\\r\\xd2\\xd3\\xd3UPP\\xa06m\\xdaH\\x92bccu\\xe0\\xc0\\x01\\x8b\\xab\\x02\\xec\\x8d\\x00\\x03\\xdc\\xc0\\xc7\\xc7G\\xad[\\xb7\\xae\\xd3v\\xa5\\x87\\xb2\\x02\\xb8~\\x04\\x18\\xe0\\x06\\xd1\\xd1\\xd1z\\xe3\\x8d7TSS\\xa3\\xe2\\xe2b=\\xfc\\xf0\\xc3\\xea\\xdb\\xb7\\xaf\\xd5e\\x01\\xb6F\\x80\\x01n\\xb0`\\xc1\\x02\\xed\\xd9\\xb3G~~~\\x9a8q\\xa2Z\\xb7n\\xad\\xe7\\x9f\\x7f\\xde\\xea\\xb2\\x00[c\\x17\"\\xe0\\x06\\xdb\\xb7o\\xd7m\\xb7\\xddfu\\x19@\\xa3B\\x80\\x01n\\x90\\x9c\\x9c\\xac\\xd2\\xd2R\\x8d\\x1d;V\\xe3\\xc7\\x8f\\xe7\\x89\\xe2\\x80\\tXB\\x04\\xdc 77Wyyy\\n\\n\\n\\xd2\\xd4\\xa9S\\x15\\x13\\x13\\xa3y\\xf3\\xe6Y]\\x16`k\\xcc\\xc0\\x007\\xdb\\xb5k\\x97233\\xf5\\xe6\\x9bo\\xaa\\xaa\\xaa\\xca\\xear\\x00\\xdbb\\x06\\x06\\xb8\\xc1\\xbe}\\xfb\\x94\\x9e\\x9e\\xae\\xe8\\xe8h=\\xf4\\xd0C\\xea\\xdb\\xb7\\xafJJJ\\xac.\\x0b\\xb05f`\\x80\\x1b\\xdcy\\xe7\\x9d\\x9a0a\\x82\\xc6\\x8e\\x1d\\xab\\x8e\\x1d;Z]\\x0e\\xd0(\\x10`\\x00\\x00[\\xf2\\xb1\\xba\\x00\\xa01\\x8b\\x89\\x89\\xb9\\xe2\\x1d7\\x0c\\xc3\\x90\\xc3\\xe1\\xd0\\xce\\x9d;-\\xa8\\nh\\x1c\\x98\\x81\\x01\\r\\xe8\\xd3O?\\xbd\\xe6\\xf1.]\\xba\\xb8\\xa9\\x12\\xa0\\xf1!\\xc0\\x0079r\\xe4\\x88\\xb6m\\xdb&I\\x8a\\x8f\\x8fWpp\\xb0\\xc5\\x15\\x01\\xf6\\xc6.D\\xc0\\r\\x96/_\\xae\\xf8\\xf8x\\xbd\\xf5\\xd6[Z\\xbe|\\xb9\\xfa\\xf4\\xe9\\xa3\\xbf\\xfe\\xf5\\xafV\\x97\\x05\\xd8\\x1a30\\xc0\\rn\\xbd\\xf5Vm\\xdc\\xb8\\xd15\\xeb*++\\xd3\\x90!C\\xb4c\\xc7\\x0e\\x8b+\\x03\\xec\\x8b\\x19\\x18\\xe0\\x06\\xb5\\xb5\\xb5u\\x96\\x0c\\x03\\x03\\x03U[[kaE\\x80\\xfd\\xb1\\x0b\\x11p\\x83\\xbb\\xef\\xbe[w\\xddu\\x97&L\\x98 Iz\\xf3\\xcd75|\\xf8p\\x8b\\xab\\x02\\xec\\x8d%D\\xa0\\x01=\\xff\\xfc\\xf3\\xea\\xd7\\xaf\\x9fbcc\\xb5f\\xcd\\x1am\\xd9\\xb2E\\x86a(11Q\\xa3G\\x8f\\xb6\\xba<\\xc0\\xd6\\x98\\x81\\x01\\r\\xa8\\xa4\\xa4D\\x8f<\\xf2\\x88\\x8a\\x8a\\x8at\\xcb-\\xb7\\xa8o\\xdf\\xbe\\xea\\xd7\\xaf\\x9f\\x12\\x12\\x12\\xac.\\r\\xb0\\xbd\\xff\\x07rs\\xeaD\\xc5\\xc1\\x12V\\x00\\x00\\x00\\x00IEND\\xaeB`\\x82'}}\n"
     ]
    }
   ],
   "source": [
    "for q in query:\n",
    "    print(q)"
   ]
  },
  {
   "cell_type": "code",
   "execution_count": null,
   "metadata": {},
   "outputs": [],
   "source": []
  }
 ],
 "metadata": {
  "kernelspec": {
   "display_name": "Python 3",
   "language": "python",
   "name": "python3"
  },
  "language_info": {
   "codemirror_mode": {
    "name": "ipython",
    "version": 3
   },
   "file_extension": ".py",
   "mimetype": "text/x-python",
   "name": "python",
   "nbconvert_exporter": "python",
   "pygments_lexer": "ipython3",
   "version": "3.7.1"
  },
  "latex_envs": {
   "LaTeX_envs_menu_present": true,
   "autoclose": false,
   "autocomplete": true,
   "bibliofile": "biblio.bib",
   "cite_by": "apalike",
   "current_citInitial": 1,
   "eqLabelWithNumbers": true,
   "eqNumInitial": 1,
   "hotkeys": {
    "equation": "Ctrl-E",
    "itemize": "Ctrl-I"
   },
   "labels_anchors": false,
   "latex_user_defs": false,
   "report_style_numbering": false,
   "user_envs_cfg": false
  },
  "toc": {
   "base_numbering": 1,
   "nav_menu": {},
   "number_sections": true,
   "sideBar": true,
   "skip_h1_title": false,
   "title_cell": "Table of Contents",
   "title_sidebar": "Contents",
   "toc_cell": false,
   "toc_position": {},
   "toc_section_display": true,
   "toc_window_display": false
  },
  "varInspector": {
   "cols": {
    "lenName": 16,
    "lenType": 16,
    "lenVar": 40
   },
   "kernels_config": {
    "python": {
     "delete_cmd_postfix": "",
     "delete_cmd_prefix": "del ",
     "library": "var_list.py",
     "varRefreshCmd": "print(var_dic_list())"
    },
    "r": {
     "delete_cmd_postfix": ") ",
     "delete_cmd_prefix": "rm(",
     "library": "var_list.r",
     "varRefreshCmd": "cat(var_dic_list()) "
    }
   },
   "types_to_exclude": [
    "module",
    "function",
    "builtin_function_or_method",
    "instance",
    "_Feature"
   ],
   "window_display": false
  }
 },
 "nbformat": 4,
 "nbformat_minor": 2
}
